{
 "cells": [
  {
   "cell_type": "markdown",
   "id": "96443564",
   "metadata": {
    "id": "96443564"
   },
   "source": [
    "#### 1. Import the numpy package under the name `np` (★☆☆)"
   ]
  },
  {
   "cell_type": "code",
   "execution_count": 1,
   "id": "ffe1047e",
   "metadata": {
    "id": "ffe1047e"
   },
   "outputs": [],
   "source": [
    "import numpy as np"
   ]
  },
  {
   "cell_type": "markdown",
   "id": "c807bf1d",
   "metadata": {
    "id": "c807bf1d"
   },
   "source": [
    "#### 2. Print the numpy version"
   ]
  },
  {
   "cell_type": "code",
   "execution_count": 3,
   "id": "f396b717",
   "metadata": {
    "id": "f396b717"
   },
   "outputs": [
    {
     "name": "stdout",
     "output_type": "stream",
     "text": [
      "1.21.5\n"
     ]
    }
   ],
   "source": [
    "print(np.version.version)"
   ]
  },
  {
   "cell_type": "markdown",
   "id": "572c1bdb",
   "metadata": {
    "id": "572c1bdb"
   },
   "source": [
    "#### 3. Create a null vector of size 10 (★☆☆)"
   ]
  },
  {
   "cell_type": "markdown",
   "id": "RRfs7iV87U-A",
   "metadata": {
    "id": "RRfs7iV87U-A"
   },
   "source": []
  },
  {
   "cell_type": "code",
   "execution_count": 9,
   "id": "31c9f6a5",
   "metadata": {
    "id": "31c9f6a5"
   },
   "outputs": [
    {
     "data": {
      "text/plain": [
       "(8,)"
      ]
     },
     "execution_count": 9,
     "metadata": {},
     "output_type": "execute_result"
    }
   ],
   "source": [
    "np_array = np.zeros(10)\n",
    "np_array.shape"
   ]
  },
  {
   "cell_type": "code",
   "execution_count": null,
   "id": "593cd80f",
   "metadata": {
    "id": "593cd80f"
   },
   "outputs": [],
   "source": [
    "#Problem 4: Given a numpy array whose underlying data is of 'int32' type. Change the dtype of the given object to 'float64'."
   ]
  },
  {
   "cell_type": "markdown",
   "id": "3add7101",
   "metadata": {
    "id": "3add7101"
   },
   "source": [
    "6. Create a null vector of size 10 but the fifth value which is 1 (★☆☆)"
   ]
  },
  {
   "cell_type": "markdown",
   "id": "hgzPXMtJ5i5v",
   "metadata": {
    "id": "hgzPXMtJ5i5v"
   },
   "source": [
    "#### 4. Numpy where Problem\n",
    "\n",
    "Say we have a numpy array A \n",
    "\n",
    "[[1 2 3]\n",
    " [4 5 6]]\n",
    "\n",
    "Create a new matrix with Indices of elements <4\n",
    "\n",
    "Output\n",
    "Elements which are <4\n",
    "array([1, 2, 3])"
   ]
  },
  {
   "cell_type": "code",
   "execution_count": 15,
   "id": "2edf3c42",
   "metadata": {
    "id": "2edf3c42"
   },
   "outputs": [
    {
     "name": "stdout",
     "output_type": "stream",
     "text": [
      "[1 2 3]\n"
     ]
    }
   ],
   "source": [
    "# Ghosts\n",
    "array_1 = np.array([[1,2,3],[4,5,6]])\n",
    "print(array_1[array_1<4])"
   ]
  },
  {
   "cell_type": "markdown",
   "id": "cfc46304",
   "metadata": {
    "id": "cfc46304"
   },
   "source": [
    "#### 5. Create a vector with values ranging from 10 to 49 (★☆☆)"
   ]
  },
  {
   "cell_type": "code",
   "execution_count": 36,
   "id": "d8b86640",
   "metadata": {
    "id": "d8b86640"
   },
   "outputs": [
    {
     "name": "stdout",
     "output_type": "stream",
     "text": [
      "[10 11 12 13 14 15 16 17 18 19 20 21 22 23 24 25 26 27 28 29 30 31 32 33\n",
      " 34 35 36 37 38 39 40 41 42 43 44 45 46 47 48 49]\n"
     ]
    }
   ],
   "source": [
    "# 5th - Ghosts\n",
    "array_5 = np.arange(10, 50)\n",
    "print(array_5)"
   ]
  },
  {
   "cell_type": "markdown",
   "id": "0cc200be",
   "metadata": {
    "id": "0cc200be"
   },
   "source": [
    "#### 6. Reverse a vector (first element becomes last) (★☆☆)"
   ]
  },
  {
   "cell_type": "code",
   "execution_count": 46,
   "id": "ec044bb5",
   "metadata": {
    "id": "ec044bb5"
   },
   "outputs": [
    {
     "name": "stdout",
     "output_type": "stream",
     "text": [
      "[49 48 47 46 45 44 43 42 41 40 39 38 37 36 35 34 33 32 31 30 29 28 27 26\n",
      " 25 24 23 22 21 20 19 18 17 16 15 14 13 12 11 10]\n"
     ]
    }
   ],
   "source": [
    "# 6th - Ghosts\n",
    "array_5 = np.arange(10, 50)\n",
    "rev_array_5 = array_5[::-1]\n",
    "print(rev_array_5)"
   ]
  },
  {
   "cell_type": "markdown",
   "id": "29d9ede4",
   "metadata": {
    "id": "29d9ede4"
   },
   "source": [
    "#### 7. Create a 3x3 matrix with values ranging from 0 to 8 (★☆☆)"
   ]
  },
  {
   "cell_type": "code",
   "execution_count": 47,
   "id": "d9e39043",
   "metadata": {
    "id": "d9e39043"
   },
   "outputs": [
    {
     "name": "stdout",
     "output_type": "stream",
     "text": [
      "[[0 1 2]\n",
      " [3 4 5]\n",
      " [6 7 8]]\n"
     ]
    }
   ],
   "source": [
    "# 7th - Ghosts\n",
    "array_7 = np.arange(0,9)\n",
    "array_7_reshape = array_7.reshape(3,3)\n",
    "print(array_7_reshape)"
   ]
  },
  {
   "cell_type": "markdown",
   "id": "88905ceb",
   "metadata": {
    "id": "88905ceb"
   },
   "source": [
    "#### 8. Find indices of non-zero elements from [1,2,0,0,4,0] (★☆☆)"
   ]
  },
  {
   "cell_type": "code",
   "execution_count": 39,
   "id": "b2f3c90a",
   "metadata": {
    "id": "b2f3c90a"
   },
   "outputs": [
    {
     "name": "stdout",
     "output_type": "stream",
     "text": [
      "(array([0, 1, 4], dtype=int64),)\n"
     ]
    }
   ],
   "source": [
    "# 8th - Ghosts\n",
    "arr = np.array([1,2,0,0,4,0])\n",
    "print(np.nonzero(arr))"
   ]
  },
  {
   "cell_type": "code",
   "execution_count": 53,
   "id": "da19cb12",
   "metadata": {},
   "outputs": [
    {
     "name": "stdout",
     "output_type": "stream",
     "text": [
      "[0 1 4]\n"
     ]
    }
   ],
   "source": [
    "import numpy as np\n",
    "n= np.array([1,2,0,0,4,0])\n",
    "x = np.where(n != 0)[0]\n",
    "print(x)"
   ]
  },
  {
   "cell_type": "markdown",
   "id": "49603e91",
   "metadata": {
    "id": "49603e91"
   },
   "source": [
    "#### 11. Create a 3x3 identity matrix (★☆☆)"
   ]
  },
  {
   "cell_type": "code",
   "execution_count": 56,
   "id": "5b607b5c",
   "metadata": {
    "id": "5b607b5c"
   },
   "outputs": [
    {
     "name": "stdout",
     "output_type": "stream",
     "text": [
      "[[1 0 0]\n",
      " [0 1 0]\n",
      " [0 0 1]]\n"
     ]
    }
   ],
   "source": [
    "# 11th - Ghosts \n",
    "identity_using_fn = np.identity(3, dtype=int)\n",
    "print(identity_using_fn)"
   ]
  },
  {
   "cell_type": "markdown",
   "id": "e15c249a",
   "metadata": {
    "id": "e15c249a"
   },
   "source": [
    "#### 12. Create a 3x3x3 array with random values (★☆☆)"
   ]
  },
  {
   "cell_type": "code",
   "execution_count": 40,
   "id": "ab21ed50",
   "metadata": {
    "id": "ab21ed50"
   },
   "outputs": [
    {
     "name": "stdout",
     "output_type": "stream",
     "text": [
      "[[[ 8 39  4]\n",
      "  [23 29 35]\n",
      "  [31  3 24]]\n",
      "\n",
      " [[ 6 13 36]\n",
      "  [42 27  1]\n",
      "  [47  7 16]]\n",
      "\n",
      " [[30 37 40]\n",
      "  [33 44 19]\n",
      "  [32 26 41]]]\n"
     ]
    }
   ],
   "source": [
    "# 12th - Ghosts\n",
    "random_values = random.sample(range(1, 50), 3*3*3)\n",
    "random_values_array = np.array(random_values)\n",
    "dim_3_array = random_values_array.reshape(3,3,3)\n",
    "print(dim_3_array)"
   ]
  },
  {
   "cell_type": "code",
   "execution_count": 3,
   "id": "e53a67c4",
   "metadata": {},
   "outputs": [
    {
     "name": "stdout",
     "output_type": "stream",
     "text": [
      "[[[0.00701379 0.85830649 0.90732491]\n",
      "  [0.97419016 0.7402898  0.11725347]\n",
      "  [0.97484949 0.85709145 0.00155206]]\n",
      "\n",
      " [[0.07172827 0.40125679 0.22143592]\n",
      "  [0.81501602 0.39350778 0.00489389]\n",
      "  [0.82952162 0.40684686 0.18531105]]\n",
      "\n",
      " [[0.98599087 0.30440972 0.70410834]\n",
      "  [0.88313514 0.57134646 0.75335194]\n",
      "  [0.35765572 0.20341472 0.06244957]]]\n"
     ]
    }
   ],
   "source": [
    "# 12th - Ghosts\n",
    "import random\n",
    "import numpy as np\n",
    "dim_3_array= np.random.random((3,3,3))\n",
    "print(dim_3_array)"
   ]
  },
  {
   "cell_type": "code",
   "execution_count": 74,
   "id": "98ff4a31",
   "metadata": {},
   "outputs": [
    {
     "name": "stdout",
     "output_type": "stream",
     "text": [
      "[[[ 9 21 12]\n",
      "  [25 12 19]\n",
      "  [36 46 21]]\n",
      "\n",
      " [[11 18 19]\n",
      "  [33 49 12]\n",
      "  [17 34 21]]\n",
      "\n",
      " [[46 21 12]\n",
      "  [28  1 43]\n",
      "  [ 8 15 46]]]\n"
     ]
    }
   ],
   "source": [
    "# 12th - Ghosts\n",
    "dim_3 = np.random.randint(1,50,(3,3,3))\n",
    "print(dim_3)"
   ]
  },
  {
   "cell_type": "markdown",
   "id": "157a129c",
   "metadata": {
    "id": "157a129c"
   },
   "source": [
    "#### 13. Create a 10x10 array with random values and find the minimum and maximum values (★☆☆)"
   ]
  },
  {
   "cell_type": "code",
   "execution_count": 15,
   "id": "c0066de5",
   "metadata": {
    "id": "c0066de5"
   },
   "outputs": [
    {
     "name": "stdout",
     "output_type": "stream",
     "text": [
      "[[ 8 15 26 46 22 25 45 25 25  9]\n",
      " [17 17  1 44 12  3 22 13 23 30]\n",
      " [19 32 12 32  5  2 12 16 48 16]\n",
      " [ 6 33 20 34 36 19 43 42 35 20]\n",
      " [34 21 25 46 33 25  1  2 12 33]\n",
      " [28 47 47 23 30  7 27 32 34 35]\n",
      " [32 48 12 43 26 31 12 26 38 17]\n",
      " [35 42 16 42  8 17  8 40 25  4]\n",
      " [ 5 23 39 38 26 35 11 48 27 16]\n",
      " [44 37 38 22 34  3 26 18 32 27]]\n",
      "\n",
      "Minimum Values\n",
      "Columnwise(Axis=0):  [ 5 15  1 22  5  2  1  2 12  4]\n",
      "Row-wise(Axis=1):  [ 8  1  2  6  1  7 12  4  5  3]\n",
      "Among Total-values(Axis=None):  1\n",
      "\n",
      "Maximum Values\n",
      "Columnwise(Axis=0):  [44 48 47 46 36 35 45 48 48 35]\n",
      "Row-wise(Axis=1):  [46 44 48 43 46 47 48 42 48 44]\n",
      "Among Total-values(Axis=None):  48\n"
     ]
    }
   ],
   "source": [
    "# 13th - Ghosts\n",
    "import random\n",
    "import numpy as np\n",
    "dim_10_10= np.random.randint(1,50,(10,10))\n",
    "print(dim_10_10)\n",
    "print(\"\\nMinimum Values\\nColumnwise(Axis=0): \",np.min(dim_10_10, axis=0))\n",
    "print(\"Row-wise(Axis=1): \",np.min(dim_10_10, axis=1))\n",
    "print(\"Among Total-values(Axis=None): \",np.min(dim_10_10, axis=None))\n",
    "print(\"\\nMaximum Values\\nColumnwise(Axis=0): \",np.max(dim_10_10, axis=0))\n",
    "print(\"Row-wise(Axis=1): \",np.max(dim_10_10, axis=1))\n",
    "print(\"Among Total-values(Axis=None): \",np.max(dim_10_10, axis=None))"
   ]
  },
  {
   "cell_type": "markdown",
   "id": "d92d7b32",
   "metadata": {
    "id": "d92d7b32"
   },
   "source": [
    "#### 14. Create a random vector of size 30 and find the mean value (★☆☆)"
   ]
  },
  {
   "cell_type": "code",
   "execution_count": 21,
   "id": "9672d023",
   "metadata": {
    "id": "9672d023"
   },
   "outputs": [
    {
     "name": "stdout",
     "output_type": "stream",
     "text": [
      "[[ 2 45 46 43 48 30 36  6 43 27 27 22 37 21 28 37 48 41 29 11 30 40 18 11\n",
      "   1 42  4 43 42 20]]\n",
      "1\n",
      "\n",
      "Mean Values\n",
      "Columnwise(Axis=0):  [ 2. 45. 46. 43. 48. 30. 36.  6. 43. 27. 27. 22. 37. 21. 28. 37. 48. 41.\n",
      " 29. 11. 30. 40. 18. 11.  1. 42.  4. 43. 42. 20.]\n",
      "Among Total-values(Axis=None):  29.266666666666666\n"
     ]
    }
   ],
   "source": [
    "# 14th - Ghosts\n",
    "dim_30= np.random.randint(1,50,(1,30))\n",
    "print(dim_30)\n",
    "print(len(dim_30))\n",
    "print(\"\\nMean Values\\nColumnwise(Axis=0): \",np.mean(dim_30, axis=0))\n",
    "# print(\"Row-wise(Axis=1): \",np.mean(dim_30, axis=1))\n",
    "print(\"Among Total-values(Axis=None): \",np.mean(dim_30, axis=None))"
   ]
  },
  {
   "cell_type": "code",
   "execution_count": 23,
   "id": "e73b40e9",
   "metadata": {},
   "outputs": [
    {
     "name": "stdout",
     "output_type": "stream",
     "text": [
      "[41  8 41 20 23 49 26 49  6 14 12 29 11 13 29 34 38  2  6 33 48 25 30 20\n",
      " 20 14 43 49  4 17]\n",
      "30\n",
      "Among Total-values(Axis=None):  25.133333333333333\n"
     ]
    }
   ],
   "source": [
    "# 14th - Ghosts\n",
    "dim_30= np.random.randint(1,50,(30))\n",
    "print(dim_30)\n",
    "print(len(dim_30))\n",
    "print(\"Among Total-values(Axis=None): \",np.mean(dim_30, axis=None))"
   ]
  },
  {
   "cell_type": "markdown",
   "id": "f361efc0",
   "metadata": {
    "id": "f361efc0"
   },
   "source": [
    "#### 15. Create a 2d array with 1 on the border and 0 inside (★☆☆)"
   ]
  },
  {
   "cell_type": "code",
   "execution_count": 42,
   "id": "a55b6666",
   "metadata": {
    "id": "a55b6666"
   },
   "outputs": [
    {
     "name": "stdout",
     "output_type": "stream",
     "text": [
      "USING pad()\n",
      "[[1 1 1 1 1 1]\n",
      " [1 0 0 0 0 1]\n",
      " [1 0 0 0 0 1]\n",
      " [1 0 0 0 0 1]\n",
      " [1 0 0 0 0 1]\n",
      " [1 0 0 0 0 1]\n",
      " [1 1 1 1 1 1]]\n",
      "\n",
      "\n",
      "USING NAIVE METHOD\n",
      "[1, 1, 1, 1, 1, 0, 0, 1, 1, 0, 0, 1, 1, 0, 0, 1, 1, 1, 1, 1]\n",
      "[[1 1 1 1]\n",
      " [1 0 0 1]\n",
      " [1 0 0 1]\n",
      " [1 0 0 1]\n",
      " [1 1 1 1]]\n"
     ]
    }
   ],
   "source": [
    "# 15th - Ghosts\n",
    "\n",
    "n = 5\n",
    "m = 4\n",
    "print(\"USING pad()\")\n",
    "zero_arr = np.zeros((n, m), int)\n",
    "# print(zero_arr)\n",
    "bordered_2d = np.pad(zero_arr, pad_width=1, mode='constant', constant_values=1)\n",
    "print(bordered_2d)\n",
    "\n",
    "print(\"\\n\\nUSING NAIVE METHOD\")\n",
    "A = []\n",
    "for i in range(n):\n",
    "    for j in range(m):\n",
    "        if (i == 0) or (i == n-1) or (j == 0) or ( j == m-1):\n",
    "            A.append(1)\n",
    "        else:\n",
    "            A.append(0)\n",
    "print(A)\n",
    "print(np.array(A).reshape(n, m))"
   ]
  },
  {
   "cell_type": "markdown",
   "id": "475808cb",
   "metadata": {
    "id": "475808cb"
   },
   "source": [
    "#### 16. How to add a border (filled with 0's) around an existing array? (★☆☆)"
   ]
  },
  {
   "cell_type": "code",
   "execution_count": 43,
   "id": "b2df3a8a",
   "metadata": {
    "id": "b2df3a8a"
   },
   "outputs": [
    {
     "name": "stdout",
     "output_type": "stream",
     "text": [
      "[[0 0 0 0]\n",
      " [0 1 2 0]\n",
      " [0 3 4 0]\n",
      " [0 0 0 0]]\n"
     ]
    }
   ],
   "source": [
    "# 16th - Ghosts\n",
    "np_array = [[1, 2],[3, 4]] \n",
    "bordered = np.pad(np_array, pad_width=1, mode='constant', constant_values=0)\n",
    "print(bordered)"
   ]
  },
  {
   "cell_type": "markdown",
   "id": "1af07d85",
   "metadata": {
    "id": "1af07d85"
   },
   "source": [
    "#### 17. What is the result of the following expression? (★☆☆)\n",
    "```python\n",
    "0 * np.nan\n",
    "np.nan == np.nan\n",
    "np.inf > np.nan\n",
    "np.nan - np.nan\n",
    "np.nan in set([np.nan])\n",
    "0.3 == 3 * 0.1\n",
    "```"
   ]
  },
  {
   "cell_type": "code",
   "execution_count": 66,
   "id": "109cf327",
   "metadata": {
    "id": "109cf327"
   },
   "outputs": [
    {
     "name": "stdout",
     "output_type": "stream",
     "text": [
      "The algorithm first checks if one of the operands is NaN before checking their types and if so it will return false\n",
      "0 * np.nan :  nan\n",
      "np.nan == np.nan :  False\n",
      "np.inf > np.nan :  False\n",
      "np.nan - np.nan : nan\n",
      "np.nan in set([np.nan]) : True\n",
      "0.3 == 3 * 0.1 : False\n"
     ]
    }
   ],
   "source": [
    "print(\"The algorithm first checks if one of the operands is NaN before checking their types and if so it will return false\")\n",
    "print(\"0 * np.nan : \",0 * np.nan)\n",
    "print(\"np.nan == np.nan : \",np.nan == np.nan) \n",
    "print(\"np.inf > np.nan : \",np.inf > np.nan)\n",
    "print(\"np.nan - np.nan :\", np.nan - np.nan)\n",
    "print(\"np.nan in set([np.nan]) :\", np.nan in set([np.nan]))\n",
    "print(\"0.3 == 3 * 0.1 :\", 0.3 == 3 * 0.1) # [3*0.1=0.30000000000000004]"
   ]
  },
  {
   "cell_type": "markdown",
   "id": "6a235316",
   "metadata": {
    "id": "6a235316"
   },
   "source": [
    "#### 18. Create a 4x4 matrix with values 0,1,2,3 just below the diagonal (★☆☆)"
   ]
  },
  {
   "cell_type": "code",
   "execution_count": 2,
   "id": "709ea951",
   "metadata": {},
   "outputs": [
    {
     "data": {
      "text/plain": [
       "array([[0, 0, 0, 0, 0],\n",
       "       [0, 0, 0, 0, 0],\n",
       "       [0, 1, 0, 0, 0],\n",
       "       [0, 0, 2, 0, 0],\n",
       "       [0, 0, 0, 3, 0]])"
      ]
     },
     "execution_count": 2,
     "metadata": {},
     "output_type": "execute_result"
    }
   ],
   "source": [
    "import numpy as np\n",
    "np.diag(np.arange(4), k=-1)"
   ]
  },
  {
   "cell_type": "code",
   "execution_count": 109,
   "id": "42092555",
   "metadata": {},
   "outputs": [
    {
     "name": "stdout",
     "output_type": "stream",
     "text": [
      "[[0 0 0 0]\n",
      " [0 0 0 0]\n",
      " [0 1 0 0]\n",
      " [0 0 2 0]]\n"
     ]
    }
   ],
   "source": [
    "# 18th - Ghosts\n",
    "zeros_44 = np.zeros((4,4), dtype=int)\n",
    "seq = np.arange(3)\n",
    "# print(seq)\n",
    "zeros_44[seq+1, seq] = np.arange(3) \n",
    "print(zeros_44)"
   ]
  },
  {
   "cell_type": "raw",
   "id": "7e98e4da",
   "metadata": {
    "id": "f2e6cfa6"
   },
   "source": [
    "EXPLANATION:\n",
    "============\n",
    "here \n",
    "zeros_44 is a zero array of size 4*4\n",
    "and,\n",
    "seq is a numpy array with values 0 1 and 2\n",
    "now, in index elements --> the 1st index corresponds to row value and the 2nd index corresponds to column value\n",
    "if the row and col value are same, it means the diagnol \n",
    "for considering just below the diagnol, ---> zero should appear in [1,0] \n",
    "i.e., 1st row and 0th column\n",
    "seq = [ 0, 1, 2 ]\n",
    "0 ==> [ 1 , 0 ]\n",
    "1 ==> [ 2 , 1 ]\n",
    "2 ==> [ 3 , 2 ]\n",
    "\n",
    "1st index is seq+1\n",
    "2nd index is same as seq\n",
    "So, we represent it as zeros_44[seq+1, seq]"
   ]
  },
  {
   "cell_type": "markdown",
   "id": "25362e98",
   "metadata": {
    "id": "25362e98"
   },
   "source": [
    "#### 19. Create a null vector of size 10 but the fifth value which is 1 (★☆☆)\n",
    "---\n",
    "\n"
   ]
  },
  {
   "cell_type": "code",
   "execution_count": 113,
   "id": "783a9f67",
   "metadata": {},
   "outputs": [
    {
     "name": "stdout",
     "output_type": "stream",
     "text": [
      "[0 0 0 0 1 0 0 0 0 0]\n"
     ]
    }
   ],
   "source": [
    "# 19th - Ghosts\n",
    "null_vector = np.zeros((10),dtype=int)\n",
    "null_vector[4] = 1\n",
    "print(null_vector)"
   ]
  },
  {
   "cell_type": "markdown",
   "id": "fd88b3f4",
   "metadata": {
    "id": "fd88b3f4"
   },
   "source": [
    "#### 22. Normalize a 5x5 random matrix (★☆☆) Say X is 5*5 numpy array  Normalize i.e X - mean(X) / Standard Deviation of X [link text](https://)"
   ]
  },
  {
   "cell_type": "code",
   "execution_count": 4,
   "id": "ee6ced60",
   "metadata": {
    "id": "ee6ced60"
   },
   "outputs": [
    {
     "name": "stdout",
     "output_type": "stream",
     "text": [
      "[[15 10 43 22  6]\n",
      " [27 32 16 47 30]\n",
      " [ 3 20 21 40  4]\n",
      " [36 19 30  3 40]\n",
      " [19  6 18 16 34]]\n",
      "[[-0.56388111 -0.9511621   1.6048924  -0.02168774 -1.26098689]\n",
      " [ 0.36559325  0.75287423 -0.48642492  1.91471719  0.59796184]\n",
      " [-1.49335548 -0.17660013 -0.09914393  1.37252381 -1.41589928]\n",
      " [ 1.06269902 -0.25405633  0.59796184 -1.49335548  1.37252381]\n",
      " [-0.25405633 -1.26098689 -0.33151252 -0.48642492  0.90778663]]\n"
     ]
    }
   ],
   "source": [
    "# 22nd - Ghosts\n",
    "import numpy as np\n",
    "a_55 = np.random.randint(1,50,(5,5))\n",
    "a_55_norm = (a_55 - np.mean(a_55)) / np.std(a_55)\n",
    "print(a_55)\n",
    "print(a_55_norm)"
   ]
  },
  {
   "cell_type": "markdown",
   "id": "464d8590",
   "metadata": {
    "id": "464d8590"
   },
   "source": [
    "#### 23. Numpy where Problem\n",
    "\n",
    "Say we have a numpy array A \n",
    "\n",
    "[[1 2 3]\n",
    " [4 5 6]]\n",
    "\n",
    "Create a new matrix with Indices of elements <4\n",
    "\n",
    "Output\n",
    "Elements which are <4\n",
    "array([1, 2, 3])"
   ]
  },
  {
   "cell_type": "code",
   "execution_count": 5,
   "id": "e2f9cfc6",
   "metadata": {
    "id": "e2f9cfc6"
   },
   "outputs": [
    {
     "name": "stdout",
     "output_type": "stream",
     "text": [
      "[1 2 3]\n"
     ]
    }
   ],
   "source": [
    "# 23rd - Ghosts\n",
    "array_1 = np.array([[1,2,3],[4,5,6]])\n",
    "print(array_1[array_1<4])"
   ]
  },
  {
   "cell_type": "markdown",
   "id": "06c63bb3",
   "metadata": {
    "id": "06c63bb3"
   },
   "source": [
    "#### 24. Do a dot product of 5x3 matrix by a 3x2 matrix (real matrix product) (★☆☆)"
   ]
  },
  {
   "cell_type": "code",
   "execution_count": 11,
   "id": "9fc0d553",
   "metadata": {
    "id": "9fc0d553"
   },
   "outputs": [
    {
     "name": "stdout",
     "output_type": "stream",
     "text": [
      "[[14 11  3]\n",
      " [18  5 12]\n",
      " [ 1 16 11]\n",
      " [18  6  5]\n",
      " [12  6 13]]\n",
      "[[ 2  4]\n",
      " [ 7 19]\n",
      " [10  7]]\n",
      "[[135 286]\n",
      " [191 251]\n",
      " [224 385]\n",
      " [128 221]\n",
      " [196 253]]\n"
     ]
    }
   ],
   "source": [
    "# 24th - Ghosts \n",
    "a_53 = np.random.randint(1,20,(5,3))\n",
    "a_32 = np.random.randint(1,20,(3,2))\n",
    "print(a_53)\n",
    "print(a_32)\n",
    "print(np.dot(a_53, a_32))"
   ]
  },
  {
   "cell_type": "code",
   "execution_count": null,
   "id": "0e25eca7",
   "metadata": {
    "id": "0e25eca7"
   },
   "outputs": [],
   "source": []
  },
  {
   "cell_type": "code",
   "execution_count": null,
   "id": "93684068",
   "metadata": {
    "id": "93684068"
   },
   "outputs": [],
   "source": []
  },
  {
   "cell_type": "markdown",
   "id": "539cd2a5",
   "metadata": {
    "id": "539cd2a5"
   },
   "source": [
    "#### 25. Consider two random array A and B, check if they are equal (★★☆)"
   ]
  },
  {
   "cell_type": "code",
   "execution_count": 6,
   "id": "5246d7bf",
   "metadata": {
    "id": "5246d7bf"
   },
   "outputs": [
    {
     "name": "stdout",
     "output_type": "stream",
     "text": [
      "[[2 3 3]\n",
      " [2 1 4]\n",
      " [2 3 4]]\n",
      "[[3 3 4]\n",
      " [3 4 4]\n",
      " [2 3 2]]\n",
      "False\n",
      "[[False  True False]\n",
      " [False False  True]\n",
      " [ True  True False]]\n",
      "False\n",
      "False\n",
      "False\n"
     ]
    },
    {
     "name": "stderr",
     "output_type": "stream",
     "text": [
      "C:\\ProgramData\\Anaconda3\\lib\\site-packages\\numpy\\core\\numeric.py:2440: VisibleDeprecationWarning: Creating an ndarray from ragged nested sequences (which is a list-or-tuple of lists-or-tuples-or ndarrays with different lengths or shapes) is deprecated. If you meant to do this, you must specify 'dtype=object' when creating the ndarray.\n",
      "  a1, a2 = asarray(a1), asarray(a2)\n"
     ]
    }
   ],
   "source": [
    "# 25th - Ghosts \n",
    "A_R1 = np.random.randint(1,5,(3,3))\n",
    "B_R1 = np.random.randint(1,5,(3,3))\n",
    "print(A_R1)\n",
    "print(B_R1)\n",
    "print(np.array_equal(A_R1, B_R1)) # to check complete Array\n",
    "print(A_R1 == B_R1) # to check every elements of Array\n",
    "print(np.allclose(A_R1, B_R1))\n",
    "A1 = [[1,2,3],[4,5],[6,7,8],[9]]\n",
    "B1 = [[1,2,3],[4,5],[6,7,8],[10]]\n",
    "print(np.array_equal(A1, B1))\n",
    "print(A1 == B1)"
   ]
  },
  {
   "cell_type": "markdown",
   "id": "a556027a",
   "metadata": {
    "id": "a556027a"
   },
   "source": [
    "#### 26. Create random vector of size 10 and replace the maximum value by 0 (★★☆)"
   ]
  },
  {
   "cell_type": "code",
   "execution_count": 25,
   "id": "9e07cb87",
   "metadata": {
    "id": "9e07cb87"
   },
   "outputs": [
    {
     "name": "stdout",
     "output_type": "stream",
     "text": [
      "[6 7 1 1 4 9 1 7 5 8]\n",
      "9\n",
      "[6 7 1 1 4 0 1 7 5 8]\n",
      "[6 7 1 1 4 0 1 7 5 8]\n"
     ]
    }
   ],
   "source": [
    "# 26th - Ghosts \n",
    "a_10 = np.random.randint(1,10,(10))\n",
    "temp = a_10\n",
    "print(a_10)\n",
    "max_value = np.max(a_10)\n",
    "print(max_value)\n",
    "\n",
    "# using argmax\n",
    "Z[Z.argmax()] = 0\n",
    "\n",
    "# using condition\n",
    "a_10[a_10 == max_value] = 0\n",
    "print(a_10)\n",
    "# using select function\n",
    "a_10_new = np.select([a_10 == max_value], [0], temp)\n",
    "print(a_10_new)"
   ]
  },
  {
   "cell_type": "markdown",
   "id": "bfd2513c",
   "metadata": {
    "id": "bfd2513c"
   },
   "source": [
    "#### 27. Subtract the mean of each row of a matrix (★★☆):"
   ]
  },
  {
   "cell_type": "code",
   "execution_count": 38,
   "id": "f054216d",
   "metadata": {},
   "outputs": [
    {
     "name": "stdout",
     "output_type": "stream",
     "text": [
      "[[1 2 3]\n",
      " [4 5 6]\n",
      " [7 8 9]]\n",
      "[2. 5. 8.]\n",
      "[[-1. -3. -5.]\n",
      " [ 2.  0. -2.]\n",
      " [ 5.  3.  1.]]\n",
      "[[-1.  0.  1.]\n",
      " [-1.  0.  1.]\n",
      " [-1.  0.  1.]]\n"
     ]
    }
   ],
   "source": [
    "# 27th - Ghosts \n",
    "A_R1 = np.array([[1,2,3],[4,5,6],[7,8,9]])\n",
    "print(A_R1)\n",
    "mean = np.mean(A_R1, axis=1)\n",
    "print(mean)\n",
    "print(A_R1 - mean)\n",
    "print(A_R1 - mean.reshape(3,1))"
   ]
  },
  {
   "cell_type": "code",
   "execution_count": null,
   "id": "f4fe2972",
   "metadata": {},
   "outputs": [],
   "source": []
  }
 ],
 "metadata": {
  "accelerator": "GPU",
  "colab": {
   "collapsed_sections": [
    "88905ceb",
    "49603e91",
    "e15c249a",
    "157a129c",
    "d92d7b32",
    "f361efc0",
    "475808cb",
    "1af07d85",
    "6a235316",
    "464d8590"
   ],
   "name": "Numpy_Assignment.ipynb",
   "provenance": []
  },
  "gpuClass": "standard",
  "kernelspec": {
   "display_name": "Python 3 (ipykernel)",
   "language": "python",
   "name": "python3"
  },
  "language_info": {
   "codemirror_mode": {
    "name": "ipython",
    "version": 3
   },
   "file_extension": ".py",
   "mimetype": "text/x-python",
   "name": "python",
   "nbconvert_exporter": "python",
   "pygments_lexer": "ipython3",
   "version": "3.9.12"
  }
 },
 "nbformat": 4,
 "nbformat_minor": 5
}
