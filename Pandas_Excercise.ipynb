{
 "cells": [
  {
   "cell_type": "markdown",
   "metadata": {
    "id": "nW_4axCTrYIA"
   },
   "source": [
    "Import the pandas library  \n",
    "Read the data company.csv in pandas"
   ]
  },
  {
   "cell_type": "code",
   "execution_count": 1,
   "metadata": {
    "id": "fkHw1mc5rYIC"
   },
   "outputs": [
    {
     "name": "stdout",
     "output_type": "stream",
     "text": [
      "                       Company   Age  Salary       Place Country\n",
      "0                          TCS  20.0     NaN     Chennai   India\n",
      "1                      Infosys  30.0     NaN      Mumbai   India\n",
      "2                          TCS  35.0  2300.0    Calcutta   India\n",
      "3                      Infosys  40.0  3000.0       Delhi   India\n",
      "4                          TCS  23.0  4000.0      Mumbai   India\n",
      "5                      Infosys   NaN  5000.0    Calcutta   India\n",
      "6                          TCS   NaN  6000.0     Chennai   India\n",
      "7                      Infosys  23.0  7000.0      Mumbai   India\n",
      "8                          TCS  34.0  8000.0    Calcutta   India\n",
      "9                          CTS  45.0  9000.0       Delhi   India\n",
      "10                         CTS  23.0     NaN      Mumbai   India\n",
      "11                         CTS  34.0  1089.0    Calcutta   India\n",
      "12                         CTS  45.0     NaN     Chennai   India\n",
      "13                         CTS  18.0  1234.0      Mumbai   India\n",
      "14                     Infosys  40.0  3000.0    Calcutta   India\n",
      "15                         TCS  23.0  3000.0       Delhi   India\n",
      "16                     Infosys  23.0  3030.0  Podicherry   India\n",
      "17                         TCS  34.0  5000.0      Cochin   India\n",
      "18                         TCS  22.0     NaN     Chennai   India\n",
      "19                     Infosys  32.0     NaN      Mumbai   India\n",
      "20                         TCS  37.0  3045.0    Calcutta   India\n",
      "21                     Infosys  50.0  3184.0       Delhi   India\n",
      "22                         TCS  21.0  4824.0      Mumbai   India\n",
      "23                     Infosys   NaN  5835.0      Cochin   India\n",
      "24                         TCS   NaN  7084.0     Chennai   India\n",
      "25                     Infosys  23.0  8943.0      Mumbai   India\n",
      "26                         TCS  34.0  8345.0    Calcutta   India\n",
      "27                         CTS  45.0  9284.0       Delhi   India\n",
      "28                         CTS  23.0  9876.0      Mumbai   India\n",
      "29                         CTS  35.0  2034.0      Cochin   India\n",
      "30                         CTS  46.0  7654.0     Chennai   India\n",
      "31                         CTS  20.0  2934.0      Mumbai   India\n",
      "32                     Infosys  45.0  4034.0    Calcutta   India\n",
      "33                         TCS  36.0  5034.0         NaN   India\n",
      "34                     Infosys  26.0  8202.0         NaN   India\n",
      "35                         TCS  35.0  9024.0         NaN   India\n",
      "36                         TCS  32.0     NaN       Noida   India\n",
      "37                         NaN  35.0     NaN   Hyderabad   India\n",
      "38                         TCS  34.0  2300.0    Calcutta   India\n",
      "39                     Infosys  41.0  3000.0      Mumbai   India\n",
      "40                         TCS  24.0  4345.0    Calcutta   India\n",
      "41                     Infosys   NaN  5000.0         NaN   India\n",
      "42                         TCS   NaN  6000.0         NaN   India\n",
      "43                     Infosys  25.0  7000.0         NaN   India\n",
      "44                         TCS  35.0  8000.0       Noida   India\n",
      "45                         CTS  46.0  9000.0   Hyderabad   India\n",
      "46                         CTS  24.0     NaN    Calcutta   India\n",
      "47                         CTS  32.0  1089.0      Mumbai   India\n",
      "48                         CTS  43.0     NaN      Mumbai   India\n",
      "49                         CTS  19.0  1234.0      Cochin   India\n",
      "50                     Infosys  41.0  3000.0     Chennai   India\n",
      "51                         NaN  24.0  3000.0      Mumbai   India\n",
      "52                     Infosys  21.0  3030.0    Calcutta   India\n",
      "53                         TCS  35.0  5000.0       Delhi   India\n",
      "54                         TCS  21.0  6544.0      Mumbai   India\n",
      "55                     Infosys  32.0  7654.0      Cochin   India\n",
      "56                         TCS  38.0  3045.0       Noida   India\n",
      "57                     Infosys  51.0  3184.0   Hyderabad   India\n",
      "58                         TCS  23.0  4824.0    Calcutta   India\n",
      "59                     Infosys   NaN  5835.0      Mumbai   India\n",
      "60                         TCS   NaN  7084.0    Calcutta   India\n",
      "61                         NaN  25.0  8943.0         NaN   India\n",
      "62   Tata Consultancy Services  36.0  8345.0         NaN   India\n",
      "63                         CTS  41.0  9284.0         NaN   India\n",
      "64                         NaN  25.0  6543.0       Noida   India\n",
      "65                         CTS  31.0  2034.0   Hyderabad   India\n",
      "66                         CTS  41.0     NaN    Calcutta   India\n",
      "67                  Congnizant  21.0  2934.0      Mumbai   India\n",
      "68                     Infosys  43.0  4034.0      Mumbai   India\n",
      "69                         TCS  32.0  5034.0      Cochin   India\n",
      "70             Infosys Pvt Lmt  21.0  8202.0     Chennai   India\n",
      "71                         TCS  34.0  9024.0      Mumbai   India\n",
      "72                         TCS  24.0     NaN    Calcutta   India\n",
      "73                     Infosys  34.0     NaN       Delhi   India\n",
      "74                         TCS  37.0  2300.0      Mumbai   India\n",
      "75                     Infosys  44.0  3000.0      Cochin   India\n",
      "76                         TCS  32.0  4000.0       Noida   India\n",
      "77                     Infosys   NaN  5000.0   Hyderabad   India\n",
      "78                         TCS   NaN  6000.0    Calcutta   India\n",
      "79                     Infosys  26.0  7000.0      Bhopal   India\n",
      "80                         TCS  32.0  8000.0      Nagpur   India\n",
      "81                         CTS  43.0  9000.0        Pune   India\n",
      "82                         CTS  22.0     NaN        Pune   India\n",
      "83                         CTS  33.0  1089.0     Chennai   India\n",
      "84                         CTS  43.0     NaN      Mumbai   India\n",
      "85                         CTS  17.0  1234.0    Calcutta   India\n",
      "86                     Infosys  41.0  3000.0       Delhi   India\n",
      "87                         TCS  21.0  3000.0      Mumbai   India\n",
      "88                     Infosys   0.0  3030.0    Calcutta   India\n",
      "89                         TCS  36.0  5000.0     Chennai   India\n",
      "90                         TCS  21.0     NaN      Mumbai   India\n",
      "91                     Infosys  34.0     NaN    Calcutta   India\n",
      "92                         TCS   0.0  3045.0       Delhi   India\n",
      "93                     Infosys  54.0  3184.0      Mumbai   India\n",
      "94                         TCS  22.0  4824.0    Calcutta   India\n",
      "95                     Infosys   NaN  5835.0     Chennai   India\n",
      "96                         TCS   NaN  7084.0      Mumbai   India\n",
      "97                     Infosys  22.0  8943.0    Calcutta   India\n",
      "98                         TCS  33.0  8345.0       Delhi   India\n",
      "99                         CTS  44.0  9284.0  Podicherry   India\n",
      "100                        CTS  22.0     NaN      Cochin   India\n",
      "101                        CTS   0.0  2034.0  Podicherry   India\n",
      "102                        CTS  44.0     NaN      Mumbai   India\n",
      "103                        CTS  22.0  2934.0    Calcutta   India\n",
      "104                    Infosys  44.0  4034.0       Delhi   India\n",
      "105                        TCS  33.0  5034.0      Mumbai   India\n",
      "106                    Infosys  22.0  8202.0      Cochin   India\n",
      "107                        TCS   0.0  9024.0     Chennai   India\n",
      "108                        TCS  33.0     NaN      Mumbai   India\n",
      "109                        NaN  33.0     NaN    Calcutta   India\n",
      "110                        TCS  33.0  2300.0       Delhi   India\n",
      "111                    Infosys   0.0  3234.0      Mumbai   India\n",
      "112                        TCS  22.0  4324.0      Cochin   India\n",
      "113                    Infosys   NaN  5435.0     Chennai   India\n",
      "114                        TCS   NaN  5555.0      Mumbai   India\n",
      "115                    Infosys  22.0  8787.0    Calcutta   India\n",
      "116                        TCS  33.0  8787.0         NaN   India\n",
      "117                        CTS  44.0  9876.0         NaN   India\n",
      "118                        CTS  22.0     NaN         NaN   India\n",
      "119                        CTS  33.0  1089.0       Noida   India\n",
      "120                        CTS  44.0     NaN   Hyderabad   India\n",
      "121                        CTS   0.0  1234.0    Calcutta   India\n",
      "122                    Infosys  44.0  3234.0      Mumbai   India\n",
      "123                        NaN   NaN  3454.0    Calcutta   India\n",
      "124                    Infosys  22.0  8787.0    Calcutta   India\n",
      "125                        TCS  33.0  5654.0         NaN   India\n",
      "126                        TCS  20.0  5009.0         NaN   India\n",
      "127                    Infosys  30.0  5098.0       Noida   India\n",
      "128                        TCS  33.0  3045.0   Hyderabad   India\n",
      "129                    Infosys  50.0  3184.0    Calcutta   India\n",
      "130                        TCS  21.0  4824.0      Mumbai   India\n",
      "131                    Infosys   NaN  5835.0      Mumbai   India\n",
      "132                        TCS   NaN  7084.0      Cochin   India\n",
      "133                        NaN  22.0  8943.0     Chennai   India\n",
      "134  Tata Consultancy Services  31.0  8345.0      Mumbai   India\n",
      "135                        CTS  40.0  9284.0    Calcutta   India\n",
      "136                        NaN   NaN     NaN       Delhi   India\n",
      "137                        CTS  31.0  2034.0      Mumbai   India\n",
      "138                        CTS  44.0  3033.0      Cochin   India\n",
      "139                 Congnizant  22.0  2934.0       Noida   India\n",
      "140                    Infosys  44.0  4034.0   Hyderabad   India\n",
      "141                        TCS  33.0  5034.0    Calcutta   India\n",
      "142            Infosys Pvt Lmt  22.0  8202.0      Mumbai   India\n",
      "143                        TCS  33.0  9024.0    Calcutta   India\n",
      "144                    Infosys  22.0  8787.0    Calcutta   India\n",
      "145                    Infosys  44.0  4034.0       Delhi   India\n",
      "146                        TCS  33.0  5034.0      Mumbai   India\n",
      "147                    Infosys  22.0  8202.0      Cochin   India\n",
      "148                        NaN   NaN     NaN         NaN     NaN\n"
     ]
    }
   ],
   "source": [
    "import pandas as pd\n",
    "\n",
    "company_df = pd.read_csv('company.csv')\n",
    "print(company_df.to_string())"
   ]
  },
  {
   "cell_type": "markdown",
   "metadata": {
    "id": "xcXVcTmrrYID"
   },
   "source": [
    "Find the dimension of given data"
   ]
  },
  {
   "cell_type": "code",
   "execution_count": 2,
   "metadata": {
    "id": "nVUla_cKrYID"
   },
   "outputs": [
    {
     "data": {
      "text/plain": [
       "2"
      ]
     },
     "execution_count": 2,
     "metadata": {},
     "output_type": "execute_result"
    }
   ],
   "source": [
    "company_df.ndim"
   ]
  },
  {
   "cell_type": "raw",
   "metadata": {},
   "source": [
    "Explanation: Since, company_df is a Pandas dataframe, the dimension is 2\n",
    "             For Pandas Series, it will be 1"
   ]
  },
  {
   "cell_type": "code",
   "execution_count": 3,
   "metadata": {},
   "outputs": [
    {
     "data": {
      "text/plain": [
       "(149, 5)"
      ]
     },
     "execution_count": 3,
     "metadata": {},
     "output_type": "execute_result"
    }
   ],
   "source": [
    "company_df.shape"
   ]
  },
  {
   "cell_type": "code",
   "execution_count": 4,
   "metadata": {},
   "outputs": [
    {
     "data": {
      "text/plain": [
       "745"
      ]
     },
     "execution_count": 4,
     "metadata": {},
     "output_type": "execute_result"
    }
   ],
   "source": [
    "company_df.size"
   ]
  },
  {
   "cell_type": "markdown",
   "metadata": {
    "id": "Z6Qt3u00rYID"
   },
   "source": [
    "List down all the columns in data frame"
   ]
  },
  {
   "cell_type": "code",
   "execution_count": 5,
   "metadata": {
    "id": "88aHByVtrYIE"
   },
   "outputs": [
    {
     "data": {
      "text/plain": [
       "Index(['Company', 'Age', 'Salary', 'Place', 'Country'], dtype='object')"
      ]
     },
     "execution_count": 5,
     "metadata": {},
     "output_type": "execute_result"
    }
   ],
   "source": [
    "company_df.columns"
   ]
  },
  {
   "cell_type": "code",
   "execution_count": 6,
   "metadata": {},
   "outputs": [
    {
     "data": {
      "text/plain": [
       "['Company', 'Age', 'Salary', 'Place', 'Country']"
      ]
     },
     "execution_count": 6,
     "metadata": {},
     "output_type": "execute_result"
    }
   ],
   "source": [
    "column_names = list(company_df)\n",
    "column_names"
   ]
  },
  {
   "cell_type": "markdown",
   "metadata": {
    "id": "Fr71oouvrYIE"
   },
   "source": [
    "List the top 10 rows in datframe"
   ]
  },
  {
   "cell_type": "code",
   "execution_count": 7,
   "metadata": {
    "id": "V0PAOvCErYIE"
   },
   "outputs": [
    {
     "data": {
      "text/html": [
       "<div>\n",
       "<style scoped>\n",
       "    .dataframe tbody tr th:only-of-type {\n",
       "        vertical-align: middle;\n",
       "    }\n",
       "\n",
       "    .dataframe tbody tr th {\n",
       "        vertical-align: top;\n",
       "    }\n",
       "\n",
       "    .dataframe thead th {\n",
       "        text-align: right;\n",
       "    }\n",
       "</style>\n",
       "<table border=\"1\" class=\"dataframe\">\n",
       "  <thead>\n",
       "    <tr style=\"text-align: right;\">\n",
       "      <th></th>\n",
       "      <th>Company</th>\n",
       "      <th>Age</th>\n",
       "      <th>Salary</th>\n",
       "      <th>Place</th>\n",
       "      <th>Country</th>\n",
       "    </tr>\n",
       "  </thead>\n",
       "  <tbody>\n",
       "    <tr>\n",
       "      <th>0</th>\n",
       "      <td>TCS</td>\n",
       "      <td>20.0</td>\n",
       "      <td>NaN</td>\n",
       "      <td>Chennai</td>\n",
       "      <td>India</td>\n",
       "    </tr>\n",
       "    <tr>\n",
       "      <th>1</th>\n",
       "      <td>Infosys</td>\n",
       "      <td>30.0</td>\n",
       "      <td>NaN</td>\n",
       "      <td>Mumbai</td>\n",
       "      <td>India</td>\n",
       "    </tr>\n",
       "    <tr>\n",
       "      <th>2</th>\n",
       "      <td>TCS</td>\n",
       "      <td>35.0</td>\n",
       "      <td>2300.0</td>\n",
       "      <td>Calcutta</td>\n",
       "      <td>India</td>\n",
       "    </tr>\n",
       "    <tr>\n",
       "      <th>3</th>\n",
       "      <td>Infosys</td>\n",
       "      <td>40.0</td>\n",
       "      <td>3000.0</td>\n",
       "      <td>Delhi</td>\n",
       "      <td>India</td>\n",
       "    </tr>\n",
       "    <tr>\n",
       "      <th>4</th>\n",
       "      <td>TCS</td>\n",
       "      <td>23.0</td>\n",
       "      <td>4000.0</td>\n",
       "      <td>Mumbai</td>\n",
       "      <td>India</td>\n",
       "    </tr>\n",
       "    <tr>\n",
       "      <th>5</th>\n",
       "      <td>Infosys</td>\n",
       "      <td>NaN</td>\n",
       "      <td>5000.0</td>\n",
       "      <td>Calcutta</td>\n",
       "      <td>India</td>\n",
       "    </tr>\n",
       "    <tr>\n",
       "      <th>6</th>\n",
       "      <td>TCS</td>\n",
       "      <td>NaN</td>\n",
       "      <td>6000.0</td>\n",
       "      <td>Chennai</td>\n",
       "      <td>India</td>\n",
       "    </tr>\n",
       "    <tr>\n",
       "      <th>7</th>\n",
       "      <td>Infosys</td>\n",
       "      <td>23.0</td>\n",
       "      <td>7000.0</td>\n",
       "      <td>Mumbai</td>\n",
       "      <td>India</td>\n",
       "    </tr>\n",
       "    <tr>\n",
       "      <th>8</th>\n",
       "      <td>TCS</td>\n",
       "      <td>34.0</td>\n",
       "      <td>8000.0</td>\n",
       "      <td>Calcutta</td>\n",
       "      <td>India</td>\n",
       "    </tr>\n",
       "    <tr>\n",
       "      <th>9</th>\n",
       "      <td>CTS</td>\n",
       "      <td>45.0</td>\n",
       "      <td>9000.0</td>\n",
       "      <td>Delhi</td>\n",
       "      <td>India</td>\n",
       "    </tr>\n",
       "  </tbody>\n",
       "</table>\n",
       "</div>"
      ],
      "text/plain": [
       "   Company   Age  Salary     Place Country\n",
       "0      TCS  20.0     NaN   Chennai   India\n",
       "1  Infosys  30.0     NaN    Mumbai   India\n",
       "2      TCS  35.0  2300.0  Calcutta   India\n",
       "3  Infosys  40.0  3000.0     Delhi   India\n",
       "4      TCS  23.0  4000.0    Mumbai   India\n",
       "5  Infosys   NaN  5000.0  Calcutta   India\n",
       "6      TCS   NaN  6000.0   Chennai   India\n",
       "7  Infosys  23.0  7000.0    Mumbai   India\n",
       "8      TCS  34.0  8000.0  Calcutta   India\n",
       "9      CTS  45.0  9000.0     Delhi   India"
      ]
     },
     "execution_count": 7,
     "metadata": {},
     "output_type": "execute_result"
    }
   ],
   "source": [
    "company_df.head(10)"
   ]
  },
  {
   "cell_type": "markdown",
   "metadata": {
    "id": "jRscPmUgrYIF"
   },
   "source": [
    "List the last 15 rows in datframe"
   ]
  },
  {
   "cell_type": "code",
   "execution_count": 8,
   "metadata": {
    "id": "riF_a4YVrYIF"
   },
   "outputs": [
    {
     "data": {
      "text/html": [
       "<div>\n",
       "<style scoped>\n",
       "    .dataframe tbody tr th:only-of-type {\n",
       "        vertical-align: middle;\n",
       "    }\n",
       "\n",
       "    .dataframe tbody tr th {\n",
       "        vertical-align: top;\n",
       "    }\n",
       "\n",
       "    .dataframe thead th {\n",
       "        text-align: right;\n",
       "    }\n",
       "</style>\n",
       "<table border=\"1\" class=\"dataframe\">\n",
       "  <thead>\n",
       "    <tr style=\"text-align: right;\">\n",
       "      <th></th>\n",
       "      <th>Company</th>\n",
       "      <th>Age</th>\n",
       "      <th>Salary</th>\n",
       "      <th>Place</th>\n",
       "      <th>Country</th>\n",
       "    </tr>\n",
       "  </thead>\n",
       "  <tbody>\n",
       "    <tr>\n",
       "      <th>134</th>\n",
       "      <td>Tata Consultancy Services</td>\n",
       "      <td>31.0</td>\n",
       "      <td>8345.0</td>\n",
       "      <td>Mumbai</td>\n",
       "      <td>India</td>\n",
       "    </tr>\n",
       "    <tr>\n",
       "      <th>135</th>\n",
       "      <td>CTS</td>\n",
       "      <td>40.0</td>\n",
       "      <td>9284.0</td>\n",
       "      <td>Calcutta</td>\n",
       "      <td>India</td>\n",
       "    </tr>\n",
       "    <tr>\n",
       "      <th>136</th>\n",
       "      <td>NaN</td>\n",
       "      <td>NaN</td>\n",
       "      <td>NaN</td>\n",
       "      <td>Delhi</td>\n",
       "      <td>India</td>\n",
       "    </tr>\n",
       "    <tr>\n",
       "      <th>137</th>\n",
       "      <td>CTS</td>\n",
       "      <td>31.0</td>\n",
       "      <td>2034.0</td>\n",
       "      <td>Mumbai</td>\n",
       "      <td>India</td>\n",
       "    </tr>\n",
       "    <tr>\n",
       "      <th>138</th>\n",
       "      <td>CTS</td>\n",
       "      <td>44.0</td>\n",
       "      <td>3033.0</td>\n",
       "      <td>Cochin</td>\n",
       "      <td>India</td>\n",
       "    </tr>\n",
       "    <tr>\n",
       "      <th>139</th>\n",
       "      <td>Congnizant</td>\n",
       "      <td>22.0</td>\n",
       "      <td>2934.0</td>\n",
       "      <td>Noida</td>\n",
       "      <td>India</td>\n",
       "    </tr>\n",
       "    <tr>\n",
       "      <th>140</th>\n",
       "      <td>Infosys</td>\n",
       "      <td>44.0</td>\n",
       "      <td>4034.0</td>\n",
       "      <td>Hyderabad</td>\n",
       "      <td>India</td>\n",
       "    </tr>\n",
       "    <tr>\n",
       "      <th>141</th>\n",
       "      <td>TCS</td>\n",
       "      <td>33.0</td>\n",
       "      <td>5034.0</td>\n",
       "      <td>Calcutta</td>\n",
       "      <td>India</td>\n",
       "    </tr>\n",
       "    <tr>\n",
       "      <th>142</th>\n",
       "      <td>Infosys Pvt Lmt</td>\n",
       "      <td>22.0</td>\n",
       "      <td>8202.0</td>\n",
       "      <td>Mumbai</td>\n",
       "      <td>India</td>\n",
       "    </tr>\n",
       "    <tr>\n",
       "      <th>143</th>\n",
       "      <td>TCS</td>\n",
       "      <td>33.0</td>\n",
       "      <td>9024.0</td>\n",
       "      <td>Calcutta</td>\n",
       "      <td>India</td>\n",
       "    </tr>\n",
       "    <tr>\n",
       "      <th>144</th>\n",
       "      <td>Infosys</td>\n",
       "      <td>22.0</td>\n",
       "      <td>8787.0</td>\n",
       "      <td>Calcutta</td>\n",
       "      <td>India</td>\n",
       "    </tr>\n",
       "    <tr>\n",
       "      <th>145</th>\n",
       "      <td>Infosys</td>\n",
       "      <td>44.0</td>\n",
       "      <td>4034.0</td>\n",
       "      <td>Delhi</td>\n",
       "      <td>India</td>\n",
       "    </tr>\n",
       "    <tr>\n",
       "      <th>146</th>\n",
       "      <td>TCS</td>\n",
       "      <td>33.0</td>\n",
       "      <td>5034.0</td>\n",
       "      <td>Mumbai</td>\n",
       "      <td>India</td>\n",
       "    </tr>\n",
       "    <tr>\n",
       "      <th>147</th>\n",
       "      <td>Infosys</td>\n",
       "      <td>22.0</td>\n",
       "      <td>8202.0</td>\n",
       "      <td>Cochin</td>\n",
       "      <td>India</td>\n",
       "    </tr>\n",
       "    <tr>\n",
       "      <th>148</th>\n",
       "      <td>NaN</td>\n",
       "      <td>NaN</td>\n",
       "      <td>NaN</td>\n",
       "      <td>NaN</td>\n",
       "      <td>NaN</td>\n",
       "    </tr>\n",
       "  </tbody>\n",
       "</table>\n",
       "</div>"
      ],
      "text/plain": [
       "                       Company   Age  Salary      Place Country\n",
       "134  Tata Consultancy Services  31.0  8345.0     Mumbai   India\n",
       "135                        CTS  40.0  9284.0   Calcutta   India\n",
       "136                        NaN   NaN     NaN      Delhi   India\n",
       "137                        CTS  31.0  2034.0     Mumbai   India\n",
       "138                        CTS  44.0  3033.0     Cochin   India\n",
       "139                 Congnizant  22.0  2934.0      Noida   India\n",
       "140                    Infosys  44.0  4034.0  Hyderabad   India\n",
       "141                        TCS  33.0  5034.0   Calcutta   India\n",
       "142            Infosys Pvt Lmt  22.0  8202.0     Mumbai   India\n",
       "143                        TCS  33.0  9024.0   Calcutta   India\n",
       "144                    Infosys  22.0  8787.0   Calcutta   India\n",
       "145                    Infosys  44.0  4034.0      Delhi   India\n",
       "146                        TCS  33.0  5034.0     Mumbai   India\n",
       "147                    Infosys  22.0  8202.0     Cochin   India\n",
       "148                        NaN   NaN     NaN        NaN     NaN"
      ]
     },
     "execution_count": 8,
     "metadata": {},
     "output_type": "execute_result"
    }
   ],
   "source": [
    "company_df.tail(15)"
   ]
  },
  {
   "cell_type": "markdown",
   "metadata": {
    "id": "1bqYYXJBrYIF"
   },
   "source": [
    "Find the number of rows in dataframe"
   ]
  },
  {
   "cell_type": "code",
   "execution_count": 9,
   "metadata": {
    "id": "Iw8Gk3SZrYIF"
   },
   "outputs": [
    {
     "name": "stdout",
     "output_type": "stream",
     "text": [
      "149\n",
      "149\n",
      "149\n",
      "149\n"
     ]
    }
   ],
   "source": [
    "print(len(company_df.index))\n",
    "# print(company_df.shape)\n",
    "print(company_df.shape[0])\n",
    "print(len(company_df))\n",
    "print(len(company_df.index))"
   ]
  },
  {
   "cell_type": "markdown",
   "metadata": {
    "id": "uXUExo3IrYIG"
   },
   "source": [
    "Check the information of dataframe"
   ]
  },
  {
   "cell_type": "code",
   "execution_count": 10,
   "metadata": {
    "id": "IixJukpGrYIG"
   },
   "outputs": [
    {
     "name": "stdout",
     "output_type": "stream",
     "text": [
      "<class 'pandas.core.frame.DataFrame'>\n",
      "RangeIndex: 149 entries, 0 to 148\n",
      "Data columns (total 5 columns):\n",
      " #   Column   Non-Null Count  Dtype  \n",
      "---  ------   --------------  -----  \n",
      " 0   Company  140 non-null    object \n",
      " 1   Age      130 non-null    float64\n",
      " 2   Salary   124 non-null    float64\n",
      " 3   Place    134 non-null    object \n",
      " 4   Country  148 non-null    object \n",
      "dtypes: float64(2), object(3)\n",
      "memory usage: 5.9+ KB\n"
     ]
    }
   ],
   "source": [
    "company_df.info()"
   ]
  },
  {
   "cell_type": "markdown",
   "metadata": {
    "id": "ZPPu5lGPrYIG"
   },
   "source": [
    "Check the basic Statistics of Dataframe. Give your inference from the stats"
   ]
  },
  {
   "cell_type": "code",
   "execution_count": 11,
   "metadata": {
    "id": "eCx-zGTYrYIG"
   },
   "outputs": [
    {
     "data": {
      "text/html": [
       "<div>\n",
       "<style scoped>\n",
       "    .dataframe tbody tr th:only-of-type {\n",
       "        vertical-align: middle;\n",
       "    }\n",
       "\n",
       "    .dataframe tbody tr th {\n",
       "        vertical-align: top;\n",
       "    }\n",
       "\n",
       "    .dataframe thead th {\n",
       "        text-align: right;\n",
       "    }\n",
       "</style>\n",
       "<table border=\"1\" class=\"dataframe\">\n",
       "  <thead>\n",
       "    <tr style=\"text-align: right;\">\n",
       "      <th></th>\n",
       "      <th>Company</th>\n",
       "      <th>Age</th>\n",
       "      <th>Salary</th>\n",
       "      <th>Place</th>\n",
       "      <th>Country</th>\n",
       "    </tr>\n",
       "  </thead>\n",
       "  <tbody>\n",
       "    <tr>\n",
       "      <th>count</th>\n",
       "      <td>140</td>\n",
       "      <td>130.000000</td>\n",
       "      <td>124.000000</td>\n",
       "      <td>134</td>\n",
       "      <td>148</td>\n",
       "    </tr>\n",
       "    <tr>\n",
       "      <th>unique</th>\n",
       "      <td>6</td>\n",
       "      <td>NaN</td>\n",
       "      <td>NaN</td>\n",
       "      <td>11</td>\n",
       "      <td>1</td>\n",
       "    </tr>\n",
       "    <tr>\n",
       "      <th>top</th>\n",
       "      <td>TCS</td>\n",
       "      <td>NaN</td>\n",
       "      <td>NaN</td>\n",
       "      <td>Mumbai</td>\n",
       "      <td>India</td>\n",
       "    </tr>\n",
       "    <tr>\n",
       "      <th>freq</th>\n",
       "      <td>53</td>\n",
       "      <td>NaN</td>\n",
       "      <td>NaN</td>\n",
       "      <td>37</td>\n",
       "      <td>148</td>\n",
       "    </tr>\n",
       "    <tr>\n",
       "      <th>mean</th>\n",
       "      <td>NaN</td>\n",
       "      <td>30.484615</td>\n",
       "      <td>5312.467742</td>\n",
       "      <td>NaN</td>\n",
       "      <td>NaN</td>\n",
       "    </tr>\n",
       "    <tr>\n",
       "      <th>std</th>\n",
       "      <td>NaN</td>\n",
       "      <td>11.096640</td>\n",
       "      <td>2573.764683</td>\n",
       "      <td>NaN</td>\n",
       "      <td>NaN</td>\n",
       "    </tr>\n",
       "    <tr>\n",
       "      <th>min</th>\n",
       "      <td>NaN</td>\n",
       "      <td>0.000000</td>\n",
       "      <td>1089.000000</td>\n",
       "      <td>NaN</td>\n",
       "      <td>NaN</td>\n",
       "    </tr>\n",
       "    <tr>\n",
       "      <th>25%</th>\n",
       "      <td>NaN</td>\n",
       "      <td>22.000000</td>\n",
       "      <td>3030.000000</td>\n",
       "      <td>NaN</td>\n",
       "      <td>NaN</td>\n",
       "    </tr>\n",
       "    <tr>\n",
       "      <th>50%</th>\n",
       "      <td>NaN</td>\n",
       "      <td>32.500000</td>\n",
       "      <td>5000.000000</td>\n",
       "      <td>NaN</td>\n",
       "      <td>NaN</td>\n",
       "    </tr>\n",
       "    <tr>\n",
       "      <th>75%</th>\n",
       "      <td>NaN</td>\n",
       "      <td>37.750000</td>\n",
       "      <td>8000.000000</td>\n",
       "      <td>NaN</td>\n",
       "      <td>NaN</td>\n",
       "    </tr>\n",
       "    <tr>\n",
       "      <th>max</th>\n",
       "      <td>NaN</td>\n",
       "      <td>54.000000</td>\n",
       "      <td>9876.000000</td>\n",
       "      <td>NaN</td>\n",
       "      <td>NaN</td>\n",
       "    </tr>\n",
       "  </tbody>\n",
       "</table>\n",
       "</div>"
      ],
      "text/plain": [
       "       Company         Age       Salary   Place Country\n",
       "count      140  130.000000   124.000000     134     148\n",
       "unique       6         NaN          NaN      11       1\n",
       "top        TCS         NaN          NaN  Mumbai   India\n",
       "freq        53         NaN          NaN      37     148\n",
       "mean       NaN   30.484615  5312.467742     NaN     NaN\n",
       "std        NaN   11.096640  2573.764683     NaN     NaN\n",
       "min        NaN    0.000000  1089.000000     NaN     NaN\n",
       "25%        NaN   22.000000  3030.000000     NaN     NaN\n",
       "50%        NaN   32.500000  5000.000000     NaN     NaN\n",
       "75%        NaN   37.750000  8000.000000     NaN     NaN\n",
       "max        NaN   54.000000  9876.000000     NaN     NaN"
      ]
     },
     "execution_count": 11,
     "metadata": {},
     "output_type": "execute_result"
    }
   ],
   "source": [
    "company_df.describe(include='all')\n",
    "# company_df.describe()"
   ]
  },
  {
   "cell_type": "markdown",
   "metadata": {
    "id": "9QW49E5crYIG"
   },
   "source": [
    "Retrieve 20 to 100 rows and Company and age usig iloc"
   ]
  },
  {
   "cell_type": "code",
   "execution_count": 12,
   "metadata": {
    "id": "nZN4PtOXrYIG"
   },
   "outputs": [
    {
     "data": {
      "text/html": [
       "<div>\n",
       "<style scoped>\n",
       "    .dataframe tbody tr th:only-of-type {\n",
       "        vertical-align: middle;\n",
       "    }\n",
       "\n",
       "    .dataframe tbody tr th {\n",
       "        vertical-align: top;\n",
       "    }\n",
       "\n",
       "    .dataframe thead th {\n",
       "        text-align: right;\n",
       "    }\n",
       "</style>\n",
       "<table border=\"1\" class=\"dataframe\">\n",
       "  <thead>\n",
       "    <tr style=\"text-align: right;\">\n",
       "      <th></th>\n",
       "      <th>Company</th>\n",
       "      <th>Age</th>\n",
       "    </tr>\n",
       "  </thead>\n",
       "  <tbody>\n",
       "    <tr>\n",
       "      <th>20</th>\n",
       "      <td>TCS</td>\n",
       "      <td>37.0</td>\n",
       "    </tr>\n",
       "    <tr>\n",
       "      <th>21</th>\n",
       "      <td>Infosys</td>\n",
       "      <td>50.0</td>\n",
       "    </tr>\n",
       "    <tr>\n",
       "      <th>22</th>\n",
       "      <td>TCS</td>\n",
       "      <td>21.0</td>\n",
       "    </tr>\n",
       "    <tr>\n",
       "      <th>23</th>\n",
       "      <td>Infosys</td>\n",
       "      <td>NaN</td>\n",
       "    </tr>\n",
       "    <tr>\n",
       "      <th>24</th>\n",
       "      <td>TCS</td>\n",
       "      <td>NaN</td>\n",
       "    </tr>\n",
       "    <tr>\n",
       "      <th>...</th>\n",
       "      <td>...</td>\n",
       "      <td>...</td>\n",
       "    </tr>\n",
       "    <tr>\n",
       "      <th>96</th>\n",
       "      <td>TCS</td>\n",
       "      <td>NaN</td>\n",
       "    </tr>\n",
       "    <tr>\n",
       "      <th>97</th>\n",
       "      <td>Infosys</td>\n",
       "      <td>22.0</td>\n",
       "    </tr>\n",
       "    <tr>\n",
       "      <th>98</th>\n",
       "      <td>TCS</td>\n",
       "      <td>33.0</td>\n",
       "    </tr>\n",
       "    <tr>\n",
       "      <th>99</th>\n",
       "      <td>CTS</td>\n",
       "      <td>44.0</td>\n",
       "    </tr>\n",
       "    <tr>\n",
       "      <th>100</th>\n",
       "      <td>CTS</td>\n",
       "      <td>22.0</td>\n",
       "    </tr>\n",
       "  </tbody>\n",
       "</table>\n",
       "<p>81 rows × 2 columns</p>\n",
       "</div>"
      ],
      "text/plain": [
       "     Company   Age\n",
       "20       TCS  37.0\n",
       "21   Infosys  50.0\n",
       "22       TCS  21.0\n",
       "23   Infosys   NaN\n",
       "24       TCS   NaN\n",
       "..       ...   ...\n",
       "96       TCS   NaN\n",
       "97   Infosys  22.0\n",
       "98       TCS  33.0\n",
       "99       CTS  44.0\n",
       "100      CTS  22.0\n",
       "\n",
       "[81 rows x 2 columns]"
      ]
     },
     "execution_count": 12,
     "metadata": {},
     "output_type": "execute_result"
    }
   ],
   "source": [
    "company_df.iloc[20:101,0:2]"
   ]
  },
  {
   "cell_type": "markdown",
   "metadata": {
    "id": "2diOdV1IrYIG"
   },
   "source": [
    "Retrieve 20 to 100 rows and Company and age usig loc"
   ]
  },
  {
   "cell_type": "code",
   "execution_count": 13,
   "metadata": {
    "id": "UwFUBKUSrYIG"
   },
   "outputs": [
    {
     "data": {
      "text/html": [
       "<div>\n",
       "<style scoped>\n",
       "    .dataframe tbody tr th:only-of-type {\n",
       "        vertical-align: middle;\n",
       "    }\n",
       "\n",
       "    .dataframe tbody tr th {\n",
       "        vertical-align: top;\n",
       "    }\n",
       "\n",
       "    .dataframe thead th {\n",
       "        text-align: right;\n",
       "    }\n",
       "</style>\n",
       "<table border=\"1\" class=\"dataframe\">\n",
       "  <thead>\n",
       "    <tr style=\"text-align: right;\">\n",
       "      <th></th>\n",
       "      <th>Company</th>\n",
       "      <th>Age</th>\n",
       "    </tr>\n",
       "  </thead>\n",
       "  <tbody>\n",
       "    <tr>\n",
       "      <th>20</th>\n",
       "      <td>TCS</td>\n",
       "      <td>37.0</td>\n",
       "    </tr>\n",
       "    <tr>\n",
       "      <th>21</th>\n",
       "      <td>Infosys</td>\n",
       "      <td>50.0</td>\n",
       "    </tr>\n",
       "    <tr>\n",
       "      <th>22</th>\n",
       "      <td>TCS</td>\n",
       "      <td>21.0</td>\n",
       "    </tr>\n",
       "    <tr>\n",
       "      <th>23</th>\n",
       "      <td>Infosys</td>\n",
       "      <td>NaN</td>\n",
       "    </tr>\n",
       "    <tr>\n",
       "      <th>24</th>\n",
       "      <td>TCS</td>\n",
       "      <td>NaN</td>\n",
       "    </tr>\n",
       "    <tr>\n",
       "      <th>...</th>\n",
       "      <td>...</td>\n",
       "      <td>...</td>\n",
       "    </tr>\n",
       "    <tr>\n",
       "      <th>96</th>\n",
       "      <td>TCS</td>\n",
       "      <td>NaN</td>\n",
       "    </tr>\n",
       "    <tr>\n",
       "      <th>97</th>\n",
       "      <td>Infosys</td>\n",
       "      <td>22.0</td>\n",
       "    </tr>\n",
       "    <tr>\n",
       "      <th>98</th>\n",
       "      <td>TCS</td>\n",
       "      <td>33.0</td>\n",
       "    </tr>\n",
       "    <tr>\n",
       "      <th>99</th>\n",
       "      <td>CTS</td>\n",
       "      <td>44.0</td>\n",
       "    </tr>\n",
       "    <tr>\n",
       "      <th>100</th>\n",
       "      <td>CTS</td>\n",
       "      <td>22.0</td>\n",
       "    </tr>\n",
       "  </tbody>\n",
       "</table>\n",
       "<p>81 rows × 2 columns</p>\n",
       "</div>"
      ],
      "text/plain": [
       "     Company   Age\n",
       "20       TCS  37.0\n",
       "21   Infosys  50.0\n",
       "22       TCS  21.0\n",
       "23   Infosys   NaN\n",
       "24       TCS   NaN\n",
       "..       ...   ...\n",
       "96       TCS   NaN\n",
       "97   Infosys  22.0\n",
       "98       TCS  33.0\n",
       "99       CTS  44.0\n",
       "100      CTS  22.0\n",
       "\n",
       "[81 rows x 2 columns]"
      ]
     },
     "execution_count": 13,
     "metadata": {},
     "output_type": "execute_result"
    }
   ],
   "source": [
    "company_df.loc[20:100,'Company':'Age']"
   ]
  },
  {
   "cell_type": "markdown",
   "metadata": {
    "id": "FspIpCtmrYIH"
   },
   "source": [
    "Chage the data in 100 row and Place as 'Noida'"
   ]
  },
  {
   "cell_type": "code",
   "execution_count": 14,
   "metadata": {
    "id": "xFIhZQ_HrYIH"
   },
   "outputs": [
    {
     "data": {
      "text/plain": [
       "Company       CTS\n",
       "Age          22.0\n",
       "Salary        NaN\n",
       "Place      Cochin\n",
       "Country     India\n",
       "Name: 100, dtype: object"
      ]
     },
     "execution_count": 14,
     "metadata": {},
     "output_type": "execute_result"
    }
   ],
   "source": [
    "company_df.loc[100]"
   ]
  },
  {
   "cell_type": "code",
   "execution_count": 15,
   "metadata": {},
   "outputs": [
    {
     "name": "stderr",
     "output_type": "stream",
     "text": [
      "C:\\Users\\Meaga Varsha R\\AppData\\Local\\Temp\\ipykernel_36628\\2222737284.py:1: SettingWithCopyWarning: \n",
      "A value is trying to be set on a copy of a slice from a DataFrame\n",
      "\n",
      "See the caveats in the documentation: https://pandas.pydata.org/pandas-docs/stable/user_guide/indexing.html#returning-a-view-versus-a-copy\n",
      "  company_df['Place'].loc[100] = 'Noida'\n"
     ]
    }
   ],
   "source": [
    "company_df['Place'].loc[100] = 'Noida' \n",
    "# Another way \n",
    "# df.at[100,'Place'] = 'Noida'"
   ]
  },
  {
   "cell_type": "code",
   "execution_count": 16,
   "metadata": {},
   "outputs": [
    {
     "data": {
      "text/plain": [
       "Company      CTS\n",
       "Age         22.0\n",
       "Salary       NaN\n",
       "Place      Noida\n",
       "Country    India\n",
       "Name: 100, dtype: object"
      ]
     },
     "execution_count": 16,
     "metadata": {},
     "output_type": "execute_result"
    }
   ],
   "source": [
    "company_df.loc[100]"
   ]
  },
  {
   "cell_type": "markdown",
   "metadata": {
    "id": "GoPphtuqrYIH"
   },
   "source": [
    "Change the column 'Place' to 'City'"
   ]
  },
  {
   "cell_type": "code",
   "execution_count": 17,
   "metadata": {
    "id": "qf6rrVWkrYIH",
    "scrolled": true
   },
   "outputs": [
    {
     "data": {
      "text/html": [
       "<div>\n",
       "<style scoped>\n",
       "    .dataframe tbody tr th:only-of-type {\n",
       "        vertical-align: middle;\n",
       "    }\n",
       "\n",
       "    .dataframe tbody tr th {\n",
       "        vertical-align: top;\n",
       "    }\n",
       "\n",
       "    .dataframe thead th {\n",
       "        text-align: right;\n",
       "    }\n",
       "</style>\n",
       "<table border=\"1\" class=\"dataframe\">\n",
       "  <thead>\n",
       "    <tr style=\"text-align: right;\">\n",
       "      <th></th>\n",
       "      <th>Company</th>\n",
       "      <th>Age</th>\n",
       "      <th>Salary</th>\n",
       "      <th>City</th>\n",
       "      <th>Country</th>\n",
       "    </tr>\n",
       "  </thead>\n",
       "  <tbody>\n",
       "    <tr>\n",
       "      <th>0</th>\n",
       "      <td>TCS</td>\n",
       "      <td>20.0</td>\n",
       "      <td>NaN</td>\n",
       "      <td>Chennai</td>\n",
       "      <td>India</td>\n",
       "    </tr>\n",
       "    <tr>\n",
       "      <th>1</th>\n",
       "      <td>Infosys</td>\n",
       "      <td>30.0</td>\n",
       "      <td>NaN</td>\n",
       "      <td>Mumbai</td>\n",
       "      <td>India</td>\n",
       "    </tr>\n",
       "    <tr>\n",
       "      <th>2</th>\n",
       "      <td>TCS</td>\n",
       "      <td>35.0</td>\n",
       "      <td>2300.0</td>\n",
       "      <td>Calcutta</td>\n",
       "      <td>India</td>\n",
       "    </tr>\n",
       "    <tr>\n",
       "      <th>3</th>\n",
       "      <td>Infosys</td>\n",
       "      <td>40.0</td>\n",
       "      <td>3000.0</td>\n",
       "      <td>Delhi</td>\n",
       "      <td>India</td>\n",
       "    </tr>\n",
       "    <tr>\n",
       "      <th>4</th>\n",
       "      <td>TCS</td>\n",
       "      <td>23.0</td>\n",
       "      <td>4000.0</td>\n",
       "      <td>Mumbai</td>\n",
       "      <td>India</td>\n",
       "    </tr>\n",
       "    <tr>\n",
       "      <th>...</th>\n",
       "      <td>...</td>\n",
       "      <td>...</td>\n",
       "      <td>...</td>\n",
       "      <td>...</td>\n",
       "      <td>...</td>\n",
       "    </tr>\n",
       "    <tr>\n",
       "      <th>144</th>\n",
       "      <td>Infosys</td>\n",
       "      <td>22.0</td>\n",
       "      <td>8787.0</td>\n",
       "      <td>Calcutta</td>\n",
       "      <td>India</td>\n",
       "    </tr>\n",
       "    <tr>\n",
       "      <th>145</th>\n",
       "      <td>Infosys</td>\n",
       "      <td>44.0</td>\n",
       "      <td>4034.0</td>\n",
       "      <td>Delhi</td>\n",
       "      <td>India</td>\n",
       "    </tr>\n",
       "    <tr>\n",
       "      <th>146</th>\n",
       "      <td>TCS</td>\n",
       "      <td>33.0</td>\n",
       "      <td>5034.0</td>\n",
       "      <td>Mumbai</td>\n",
       "      <td>India</td>\n",
       "    </tr>\n",
       "    <tr>\n",
       "      <th>147</th>\n",
       "      <td>Infosys</td>\n",
       "      <td>22.0</td>\n",
       "      <td>8202.0</td>\n",
       "      <td>Cochin</td>\n",
       "      <td>India</td>\n",
       "    </tr>\n",
       "    <tr>\n",
       "      <th>148</th>\n",
       "      <td>NaN</td>\n",
       "      <td>NaN</td>\n",
       "      <td>NaN</td>\n",
       "      <td>NaN</td>\n",
       "      <td>NaN</td>\n",
       "    </tr>\n",
       "  </tbody>\n",
       "</table>\n",
       "<p>149 rows × 5 columns</p>\n",
       "</div>"
      ],
      "text/plain": [
       "     Company   Age  Salary      City Country\n",
       "0        TCS  20.0     NaN   Chennai   India\n",
       "1    Infosys  30.0     NaN    Mumbai   India\n",
       "2        TCS  35.0  2300.0  Calcutta   India\n",
       "3    Infosys  40.0  3000.0     Delhi   India\n",
       "4        TCS  23.0  4000.0    Mumbai   India\n",
       "..       ...   ...     ...       ...     ...\n",
       "144  Infosys  22.0  8787.0  Calcutta   India\n",
       "145  Infosys  44.0  4034.0     Delhi   India\n",
       "146      TCS  33.0  5034.0    Mumbai   India\n",
       "147  Infosys  22.0  8202.0    Cochin   India\n",
       "148      NaN   NaN     NaN       NaN     NaN\n",
       "\n",
       "[149 rows x 5 columns]"
      ]
     },
     "execution_count": 17,
     "metadata": {},
     "output_type": "execute_result"
    }
   ],
   "source": [
    "company_df.rename(columns = {'Place':'City'}, inplace=True)\n",
    "company_df"
   ]
  },
  {
   "cell_type": "markdown",
   "metadata": {
    "id": "aebcymMirYIH"
   },
   "source": [
    "List down the unique data in each columns and find length of unique data"
   ]
  },
  {
   "cell_type": "code",
   "execution_count": 18,
   "metadata": {},
   "outputs": [
    {
     "name": "stdout",
     "output_type": "stream",
     "text": [
      "Company ['TCS' 'Infosys' 'CTS' nan 'Tata Consultancy Services' 'Congnizant'\n",
      " 'Infosys Pvt Lmt']\n",
      "Age [20. 30. 35. 40. 23. nan 34. 45. 18. 22. 32. 37. 50. 21. 46. 36. 26. 41.\n",
      " 24. 25. 43. 19. 38. 51. 31. 44. 33. 17.  0. 54.]\n",
      "Salary [  nan 2300. 3000. 4000. 5000. 6000. 7000. 8000. 9000. 1089. 1234. 3030.\n",
      " 3045. 3184. 4824. 5835. 7084. 8943. 8345. 9284. 9876. 2034. 7654. 2934.\n",
      " 4034. 5034. 8202. 9024. 4345. 6544. 6543. 3234. 4324. 5435. 5555. 8787.\n",
      " 3454. 5654. 5009. 5098. 3033.]\n",
      "City ['Chennai' 'Mumbai' 'Calcutta' 'Delhi' 'Podicherry' 'Cochin' nan 'Noida'\n",
      " 'Hyderabad' 'Bhopal' 'Nagpur' 'Pune']\n",
      "Country ['India' nan]\n"
     ]
    }
   ],
   "source": [
    "for col in company_df:\n",
    "    print(col, company_df[col].unique())"
   ]
  },
  {
   "cell_type": "code",
   "execution_count": 19,
   "metadata": {
    "id": "8Wz0Le0drYIH"
   },
   "outputs": [
    {
     "data": {
      "text/plain": [
       "Company     6\n",
       "Age        29\n",
       "Salary     40\n",
       "City       11\n",
       "Country     1\n",
       "dtype: int64"
      ]
     },
     "execution_count": 19,
     "metadata": {},
     "output_type": "execute_result"
    }
   ],
   "source": [
    "company_df.nunique()"
   ]
  },
  {
   "cell_type": "markdown",
   "metadata": {
    "id": "FgBK9_BRrYIH"
   },
   "source": [
    "Rename all the possible labels of column in Company as three labels\n",
    "TCS\n",
    "CTS\n",
    "Infosys"
   ]
  },
  {
   "cell_type": "code",
   "execution_count": 20,
   "metadata": {
    "id": "FftzkRdprYIH"
   },
   "outputs": [],
   "source": [
    "company_df.replace({'Company' : {'Tata Consultancy Services':'TCS', 'Congnizant':'CTS', 'Infosys Pvt Lmt':'Infosys'}}, inplace=True)"
   ]
  },
  {
   "cell_type": "code",
   "execution_count": 21,
   "metadata": {
    "id": "oZnJt_rFrYIH",
    "scrolled": true
   },
   "outputs": [
    {
     "data": {
      "text/plain": [
       "array(['TCS', 'Infosys', 'CTS', nan], dtype=object)"
      ]
     },
     "execution_count": 21,
     "metadata": {},
     "output_type": "execute_result"
    }
   ],
   "source": [
    "company_df['Company'].unique()"
   ]
  },
  {
   "cell_type": "code",
   "execution_count": 22,
   "metadata": {},
   "outputs": [
    {
     "data": {
      "text/plain": [
       "Company     3\n",
       "Age        29\n",
       "Salary     40\n",
       "City       11\n",
       "Country     1\n",
       "dtype: int64"
      ]
     },
     "execution_count": 22,
     "metadata": {},
     "output_type": "execute_result"
    }
   ],
   "source": [
    "company_df.nunique()"
   ]
  },
  {
   "cell_type": "markdown",
   "metadata": {
    "id": "iwAJZvqWrYIH"
   },
   "source": [
    "Where ever you see age as 0 replace with NA\n",
    "\n",
    "Hint df[df.Age==20] = np.isnan"
   ]
  },
  {
   "cell_type": "code",
   "execution_count": 23,
   "metadata": {
    "scrolled": true
   },
   "outputs": [],
   "source": [
    "import numpy as np\n",
    "\n",
    "# print(company_df['Age'].unique())\n",
    "# company_df[company_df.Age == 0] = np.nan\n",
    "# print(company_df['Age'].unique())\n",
    "\n",
    "company_df.replace({'Age' : {0: np.nan}}, inplace=True)"
   ]
  },
  {
   "cell_type": "code",
   "execution_count": 24,
   "metadata": {},
   "outputs": [
    {
     "name": "stdout",
     "output_type": "stream",
     "text": [
      "     Company   Age  Salary        City Country\n",
      "0        TCS  20.0     NaN     Chennai   India\n",
      "1    Infosys  30.0     NaN      Mumbai   India\n",
      "2        TCS  35.0  2300.0    Calcutta   India\n",
      "3    Infosys  40.0  3000.0       Delhi   India\n",
      "4        TCS  23.0  4000.0      Mumbai   India\n",
      "5    Infosys   NaN  5000.0    Calcutta   India\n",
      "6        TCS   NaN  6000.0     Chennai   India\n",
      "7    Infosys  23.0  7000.0      Mumbai   India\n",
      "8        TCS  34.0  8000.0    Calcutta   India\n",
      "9        CTS  45.0  9000.0       Delhi   India\n",
      "10       CTS  23.0     NaN      Mumbai   India\n",
      "11       CTS  34.0  1089.0    Calcutta   India\n",
      "12       CTS  45.0     NaN     Chennai   India\n",
      "13       CTS  18.0  1234.0      Mumbai   India\n",
      "14   Infosys  40.0  3000.0    Calcutta   India\n",
      "15       TCS  23.0  3000.0       Delhi   India\n",
      "16   Infosys  23.0  3030.0  Podicherry   India\n",
      "17       TCS  34.0  5000.0      Cochin   India\n",
      "18       TCS  22.0     NaN     Chennai   India\n",
      "19   Infosys  32.0     NaN      Mumbai   India\n",
      "20       TCS  37.0  3045.0    Calcutta   India\n",
      "21   Infosys  50.0  3184.0       Delhi   India\n",
      "22       TCS  21.0  4824.0      Mumbai   India\n",
      "23   Infosys   NaN  5835.0      Cochin   India\n",
      "24       TCS   NaN  7084.0     Chennai   India\n",
      "25   Infosys  23.0  8943.0      Mumbai   India\n",
      "26       TCS  34.0  8345.0    Calcutta   India\n",
      "27       CTS  45.0  9284.0       Delhi   India\n",
      "28       CTS  23.0  9876.0      Mumbai   India\n",
      "29       CTS  35.0  2034.0      Cochin   India\n",
      "30       CTS  46.0  7654.0     Chennai   India\n",
      "31       CTS  20.0  2934.0      Mumbai   India\n",
      "32   Infosys  45.0  4034.0    Calcutta   India\n",
      "33       TCS  36.0  5034.0         NaN   India\n",
      "34   Infosys  26.0  8202.0         NaN   India\n",
      "35       TCS  35.0  9024.0         NaN   India\n",
      "36       TCS  32.0     NaN       Noida   India\n",
      "37       NaN  35.0     NaN   Hyderabad   India\n",
      "38       TCS  34.0  2300.0    Calcutta   India\n",
      "39   Infosys  41.0  3000.0      Mumbai   India\n",
      "40       TCS  24.0  4345.0    Calcutta   India\n",
      "41   Infosys   NaN  5000.0         NaN   India\n",
      "42       TCS   NaN  6000.0         NaN   India\n",
      "43   Infosys  25.0  7000.0         NaN   India\n",
      "44       TCS  35.0  8000.0       Noida   India\n",
      "45       CTS  46.0  9000.0   Hyderabad   India\n",
      "46       CTS  24.0     NaN    Calcutta   India\n",
      "47       CTS  32.0  1089.0      Mumbai   India\n",
      "48       CTS  43.0     NaN      Mumbai   India\n",
      "49       CTS  19.0  1234.0      Cochin   India\n",
      "50   Infosys  41.0  3000.0     Chennai   India\n",
      "51       NaN  24.0  3000.0      Mumbai   India\n",
      "52   Infosys  21.0  3030.0    Calcutta   India\n",
      "53       TCS  35.0  5000.0       Delhi   India\n",
      "54       TCS  21.0  6544.0      Mumbai   India\n",
      "55   Infosys  32.0  7654.0      Cochin   India\n",
      "56       TCS  38.0  3045.0       Noida   India\n",
      "57   Infosys  51.0  3184.0   Hyderabad   India\n",
      "58       TCS  23.0  4824.0    Calcutta   India\n",
      "59   Infosys   NaN  5835.0      Mumbai   India\n",
      "60       TCS   NaN  7084.0    Calcutta   India\n",
      "61       NaN  25.0  8943.0         NaN   India\n",
      "62       TCS  36.0  8345.0         NaN   India\n",
      "63       CTS  41.0  9284.0         NaN   India\n",
      "64       NaN  25.0  6543.0       Noida   India\n",
      "65       CTS  31.0  2034.0   Hyderabad   India\n",
      "66       CTS  41.0     NaN    Calcutta   India\n",
      "67       CTS  21.0  2934.0      Mumbai   India\n",
      "68   Infosys  43.0  4034.0      Mumbai   India\n",
      "69       TCS  32.0  5034.0      Cochin   India\n",
      "70   Infosys  21.0  8202.0     Chennai   India\n",
      "71       TCS  34.0  9024.0      Mumbai   India\n",
      "72       TCS  24.0     NaN    Calcutta   India\n",
      "73   Infosys  34.0     NaN       Delhi   India\n",
      "74       TCS  37.0  2300.0      Mumbai   India\n",
      "75   Infosys  44.0  3000.0      Cochin   India\n",
      "76       TCS  32.0  4000.0       Noida   India\n",
      "77   Infosys   NaN  5000.0   Hyderabad   India\n",
      "78       TCS   NaN  6000.0    Calcutta   India\n",
      "79   Infosys  26.0  7000.0      Bhopal   India\n",
      "80       TCS  32.0  8000.0      Nagpur   India\n",
      "81       CTS  43.0  9000.0        Pune   India\n",
      "82       CTS  22.0     NaN        Pune   India\n",
      "83       CTS  33.0  1089.0     Chennai   India\n",
      "84       CTS  43.0     NaN      Mumbai   India\n",
      "85       CTS  17.0  1234.0    Calcutta   India\n",
      "86   Infosys  41.0  3000.0       Delhi   India\n",
      "87       TCS  21.0  3000.0      Mumbai   India\n",
      "88   Infosys   NaN  3030.0    Calcutta   India\n",
      "89       TCS  36.0  5000.0     Chennai   India\n",
      "90       TCS  21.0     NaN      Mumbai   India\n",
      "91   Infosys  34.0     NaN    Calcutta   India\n",
      "92       TCS   NaN  3045.0       Delhi   India\n",
      "93   Infosys  54.0  3184.0      Mumbai   India\n",
      "94       TCS  22.0  4824.0    Calcutta   India\n",
      "95   Infosys   NaN  5835.0     Chennai   India\n",
      "96       TCS   NaN  7084.0      Mumbai   India\n",
      "97   Infosys  22.0  8943.0    Calcutta   India\n",
      "98       TCS  33.0  8345.0       Delhi   India\n",
      "99       CTS  44.0  9284.0  Podicherry   India\n",
      "100      CTS  22.0     NaN       Noida   India\n",
      "101      CTS   NaN  2034.0  Podicherry   India\n",
      "102      CTS  44.0     NaN      Mumbai   India\n",
      "103      CTS  22.0  2934.0    Calcutta   India\n",
      "104  Infosys  44.0  4034.0       Delhi   India\n",
      "105      TCS  33.0  5034.0      Mumbai   India\n",
      "106  Infosys  22.0  8202.0      Cochin   India\n",
      "107      TCS   NaN  9024.0     Chennai   India\n",
      "108      TCS  33.0     NaN      Mumbai   India\n",
      "109      NaN  33.0     NaN    Calcutta   India\n",
      "110      TCS  33.0  2300.0       Delhi   India\n",
      "111  Infosys   NaN  3234.0      Mumbai   India\n",
      "112      TCS  22.0  4324.0      Cochin   India\n",
      "113  Infosys   NaN  5435.0     Chennai   India\n",
      "114      TCS   NaN  5555.0      Mumbai   India\n",
      "115  Infosys  22.0  8787.0    Calcutta   India\n",
      "116      TCS  33.0  8787.0         NaN   India\n",
      "117      CTS  44.0  9876.0         NaN   India\n",
      "118      CTS  22.0     NaN         NaN   India\n",
      "119      CTS  33.0  1089.0       Noida   India\n",
      "120      CTS  44.0     NaN   Hyderabad   India\n",
      "121      CTS   NaN  1234.0    Calcutta   India\n",
      "122  Infosys  44.0  3234.0      Mumbai   India\n",
      "123      NaN   NaN  3454.0    Calcutta   India\n",
      "124  Infosys  22.0  8787.0    Calcutta   India\n",
      "125      TCS  33.0  5654.0         NaN   India\n",
      "126      TCS  20.0  5009.0         NaN   India\n",
      "127  Infosys  30.0  5098.0       Noida   India\n",
      "128      TCS  33.0  3045.0   Hyderabad   India\n",
      "129  Infosys  50.0  3184.0    Calcutta   India\n",
      "130      TCS  21.0  4824.0      Mumbai   India\n",
      "131  Infosys   NaN  5835.0      Mumbai   India\n",
      "132      TCS   NaN  7084.0      Cochin   India\n",
      "133      NaN  22.0  8943.0     Chennai   India\n",
      "134      TCS  31.0  8345.0      Mumbai   India\n",
      "135      CTS  40.0  9284.0    Calcutta   India\n",
      "136      NaN   NaN     NaN       Delhi   India\n",
      "137      CTS  31.0  2034.0      Mumbai   India\n",
      "138      CTS  44.0  3033.0      Cochin   India\n",
      "139      CTS  22.0  2934.0       Noida   India\n",
      "140  Infosys  44.0  4034.0   Hyderabad   India\n",
      "141      TCS  33.0  5034.0    Calcutta   India\n",
      "142  Infosys  22.0  8202.0      Mumbai   India\n",
      "143      TCS  33.0  9024.0    Calcutta   India\n",
      "144  Infosys  22.0  8787.0    Calcutta   India\n",
      "145  Infosys  44.0  4034.0       Delhi   India\n",
      "146      TCS  33.0  5034.0      Mumbai   India\n",
      "147  Infosys  22.0  8202.0      Cochin   India\n",
      "148      NaN   NaN     NaN         NaN     NaN\n"
     ]
    }
   ],
   "source": [
    "print(company_df.to_string())"
   ]
  },
  {
   "cell_type": "markdown",
   "metadata": {
    "id": "uV84LYhJrYIH"
   },
   "source": [
    "Check how many duplicated data is there?"
   ]
  },
  {
   "cell_type": "code",
   "execution_count": 25,
   "metadata": {
    "id": "iNq5W_kGrYIH"
   },
   "outputs": [
    {
     "data": {
      "text/plain": [
       "8"
      ]
     },
     "execution_count": 25,
     "metadata": {},
     "output_type": "execute_result"
    }
   ],
   "source": [
    "company_df.duplicated().sum()"
   ]
  },
  {
   "cell_type": "markdown",
   "metadata": {
    "id": "YGj7Xs_XrYII"
   },
   "source": [
    "Remove all duplicated rowise data"
   ]
  },
  {
   "cell_type": "code",
   "execution_count": 26,
   "metadata": {
    "id": "KBguGsRtrYII"
   },
   "outputs": [
    {
     "data": {
      "text/html": [
       "<div>\n",
       "<style scoped>\n",
       "    .dataframe tbody tr th:only-of-type {\n",
       "        vertical-align: middle;\n",
       "    }\n",
       "\n",
       "    .dataframe tbody tr th {\n",
       "        vertical-align: top;\n",
       "    }\n",
       "\n",
       "    .dataframe thead th {\n",
       "        text-align: right;\n",
       "    }\n",
       "</style>\n",
       "<table border=\"1\" class=\"dataframe\">\n",
       "  <thead>\n",
       "    <tr style=\"text-align: right;\">\n",
       "      <th></th>\n",
       "      <th>Company</th>\n",
       "      <th>Age</th>\n",
       "      <th>Salary</th>\n",
       "      <th>City</th>\n",
       "      <th>Country</th>\n",
       "    </tr>\n",
       "  </thead>\n",
       "  <tbody>\n",
       "    <tr>\n",
       "      <th>0</th>\n",
       "      <td>TCS</td>\n",
       "      <td>20.0</td>\n",
       "      <td>NaN</td>\n",
       "      <td>Chennai</td>\n",
       "      <td>India</td>\n",
       "    </tr>\n",
       "    <tr>\n",
       "      <th>1</th>\n",
       "      <td>Infosys</td>\n",
       "      <td>30.0</td>\n",
       "      <td>NaN</td>\n",
       "      <td>Mumbai</td>\n",
       "      <td>India</td>\n",
       "    </tr>\n",
       "    <tr>\n",
       "      <th>2</th>\n",
       "      <td>TCS</td>\n",
       "      <td>35.0</td>\n",
       "      <td>2300.0</td>\n",
       "      <td>Calcutta</td>\n",
       "      <td>India</td>\n",
       "    </tr>\n",
       "    <tr>\n",
       "      <th>3</th>\n",
       "      <td>Infosys</td>\n",
       "      <td>40.0</td>\n",
       "      <td>3000.0</td>\n",
       "      <td>Delhi</td>\n",
       "      <td>India</td>\n",
       "    </tr>\n",
       "    <tr>\n",
       "      <th>4</th>\n",
       "      <td>TCS</td>\n",
       "      <td>23.0</td>\n",
       "      <td>4000.0</td>\n",
       "      <td>Mumbai</td>\n",
       "      <td>India</td>\n",
       "    </tr>\n",
       "    <tr>\n",
       "      <th>...</th>\n",
       "      <td>...</td>\n",
       "      <td>...</td>\n",
       "      <td>...</td>\n",
       "      <td>...</td>\n",
       "      <td>...</td>\n",
       "    </tr>\n",
       "    <tr>\n",
       "      <th>140</th>\n",
       "      <td>Infosys</td>\n",
       "      <td>44.0</td>\n",
       "      <td>4034.0</td>\n",
       "      <td>Hyderabad</td>\n",
       "      <td>India</td>\n",
       "    </tr>\n",
       "    <tr>\n",
       "      <th>141</th>\n",
       "      <td>TCS</td>\n",
       "      <td>33.0</td>\n",
       "      <td>5034.0</td>\n",
       "      <td>Calcutta</td>\n",
       "      <td>India</td>\n",
       "    </tr>\n",
       "    <tr>\n",
       "      <th>142</th>\n",
       "      <td>Infosys</td>\n",
       "      <td>22.0</td>\n",
       "      <td>8202.0</td>\n",
       "      <td>Mumbai</td>\n",
       "      <td>India</td>\n",
       "    </tr>\n",
       "    <tr>\n",
       "      <th>143</th>\n",
       "      <td>TCS</td>\n",
       "      <td>33.0</td>\n",
       "      <td>9024.0</td>\n",
       "      <td>Calcutta</td>\n",
       "      <td>India</td>\n",
       "    </tr>\n",
       "    <tr>\n",
       "      <th>148</th>\n",
       "      <td>NaN</td>\n",
       "      <td>NaN</td>\n",
       "      <td>NaN</td>\n",
       "      <td>NaN</td>\n",
       "      <td>NaN</td>\n",
       "    </tr>\n",
       "  </tbody>\n",
       "</table>\n",
       "<p>141 rows × 5 columns</p>\n",
       "</div>"
      ],
      "text/plain": [
       "     Company   Age  Salary       City Country\n",
       "0        TCS  20.0     NaN    Chennai   India\n",
       "1    Infosys  30.0     NaN     Mumbai   India\n",
       "2        TCS  35.0  2300.0   Calcutta   India\n",
       "3    Infosys  40.0  3000.0      Delhi   India\n",
       "4        TCS  23.0  4000.0     Mumbai   India\n",
       "..       ...   ...     ...        ...     ...\n",
       "140  Infosys  44.0  4034.0  Hyderabad   India\n",
       "141      TCS  33.0  5034.0   Calcutta   India\n",
       "142  Infosys  22.0  8202.0     Mumbai   India\n",
       "143      TCS  33.0  9024.0   Calcutta   India\n",
       "148      NaN   NaN     NaN        NaN     NaN\n",
       "\n",
       "[141 rows x 5 columns]"
      ]
     },
     "execution_count": 26,
     "metadata": {},
     "output_type": "execute_result"
    }
   ],
   "source": [
    "company_df.drop_duplicates(inplace = True)\n",
    "company_df\n",
    "# company_df[~company_df.duplicated()]\n",
    "# company_df.drop_duplicates()"
   ]
  },
  {
   "cell_type": "code",
   "execution_count": 27,
   "metadata": {},
   "outputs": [
    {
     "data": {
      "text/plain": [
       "0"
      ]
     },
     "execution_count": 27,
     "metadata": {},
     "output_type": "execute_result"
    }
   ],
   "source": [
    "company_df.duplicated().sum()"
   ]
  },
  {
   "cell_type": "markdown",
   "metadata": {
    "id": "7QeTByMYrYII"
   },
   "source": [
    "Remove the column 'Country'"
   ]
  },
  {
   "cell_type": "code",
   "execution_count": 28,
   "metadata": {
    "id": "Hwg5cE-PrYII"
   },
   "outputs": [],
   "source": [
    "company_df.drop('Country', axis=1, inplace=True)"
   ]
  },
  {
   "cell_type": "code",
   "execution_count": 29,
   "metadata": {},
   "outputs": [
    {
     "data": {
      "text/html": [
       "<div>\n",
       "<style scoped>\n",
       "    .dataframe tbody tr th:only-of-type {\n",
       "        vertical-align: middle;\n",
       "    }\n",
       "\n",
       "    .dataframe tbody tr th {\n",
       "        vertical-align: top;\n",
       "    }\n",
       "\n",
       "    .dataframe thead th {\n",
       "        text-align: right;\n",
       "    }\n",
       "</style>\n",
       "<table border=\"1\" class=\"dataframe\">\n",
       "  <thead>\n",
       "    <tr style=\"text-align: right;\">\n",
       "      <th></th>\n",
       "      <th>Company</th>\n",
       "      <th>Age</th>\n",
       "      <th>Salary</th>\n",
       "      <th>City</th>\n",
       "    </tr>\n",
       "  </thead>\n",
       "  <tbody>\n",
       "    <tr>\n",
       "      <th>0</th>\n",
       "      <td>TCS</td>\n",
       "      <td>20.0</td>\n",
       "      <td>NaN</td>\n",
       "      <td>Chennai</td>\n",
       "    </tr>\n",
       "    <tr>\n",
       "      <th>1</th>\n",
       "      <td>Infosys</td>\n",
       "      <td>30.0</td>\n",
       "      <td>NaN</td>\n",
       "      <td>Mumbai</td>\n",
       "    </tr>\n",
       "    <tr>\n",
       "      <th>2</th>\n",
       "      <td>TCS</td>\n",
       "      <td>35.0</td>\n",
       "      <td>2300.0</td>\n",
       "      <td>Calcutta</td>\n",
       "    </tr>\n",
       "    <tr>\n",
       "      <th>3</th>\n",
       "      <td>Infosys</td>\n",
       "      <td>40.0</td>\n",
       "      <td>3000.0</td>\n",
       "      <td>Delhi</td>\n",
       "    </tr>\n",
       "    <tr>\n",
       "      <th>4</th>\n",
       "      <td>TCS</td>\n",
       "      <td>23.0</td>\n",
       "      <td>4000.0</td>\n",
       "      <td>Mumbai</td>\n",
       "    </tr>\n",
       "    <tr>\n",
       "      <th>...</th>\n",
       "      <td>...</td>\n",
       "      <td>...</td>\n",
       "      <td>...</td>\n",
       "      <td>...</td>\n",
       "    </tr>\n",
       "    <tr>\n",
       "      <th>140</th>\n",
       "      <td>Infosys</td>\n",
       "      <td>44.0</td>\n",
       "      <td>4034.0</td>\n",
       "      <td>Hyderabad</td>\n",
       "    </tr>\n",
       "    <tr>\n",
       "      <th>141</th>\n",
       "      <td>TCS</td>\n",
       "      <td>33.0</td>\n",
       "      <td>5034.0</td>\n",
       "      <td>Calcutta</td>\n",
       "    </tr>\n",
       "    <tr>\n",
       "      <th>142</th>\n",
       "      <td>Infosys</td>\n",
       "      <td>22.0</td>\n",
       "      <td>8202.0</td>\n",
       "      <td>Mumbai</td>\n",
       "    </tr>\n",
       "    <tr>\n",
       "      <th>143</th>\n",
       "      <td>TCS</td>\n",
       "      <td>33.0</td>\n",
       "      <td>9024.0</td>\n",
       "      <td>Calcutta</td>\n",
       "    </tr>\n",
       "    <tr>\n",
       "      <th>148</th>\n",
       "      <td>NaN</td>\n",
       "      <td>NaN</td>\n",
       "      <td>NaN</td>\n",
       "      <td>NaN</td>\n",
       "    </tr>\n",
       "  </tbody>\n",
       "</table>\n",
       "<p>141 rows × 4 columns</p>\n",
       "</div>"
      ],
      "text/plain": [
       "     Company   Age  Salary       City\n",
       "0        TCS  20.0     NaN    Chennai\n",
       "1    Infosys  30.0     NaN     Mumbai\n",
       "2        TCS  35.0  2300.0   Calcutta\n",
       "3    Infosys  40.0  3000.0      Delhi\n",
       "4        TCS  23.0  4000.0     Mumbai\n",
       "..       ...   ...     ...        ...\n",
       "140  Infosys  44.0  4034.0  Hyderabad\n",
       "141      TCS  33.0  5034.0   Calcutta\n",
       "142  Infosys  22.0  8202.0     Mumbai\n",
       "143      TCS  33.0  9024.0   Calcutta\n",
       "148      NaN   NaN     NaN        NaN\n",
       "\n",
       "[141 rows x 4 columns]"
      ]
     },
     "execution_count": 29,
     "metadata": {},
     "output_type": "execute_result"
    }
   ],
   "source": [
    "company_df"
   ]
  },
  {
   "cell_type": "markdown",
   "metadata": {
    "id": "uQTSExmUrYII"
   },
   "source": [
    "Remove the row number 137"
   ]
  },
  {
   "cell_type": "code",
   "execution_count": 30,
   "metadata": {},
   "outputs": [
    {
     "data": {
      "text/html": [
       "<div>\n",
       "<style scoped>\n",
       "    .dataframe tbody tr th:only-of-type {\n",
       "        vertical-align: middle;\n",
       "    }\n",
       "\n",
       "    .dataframe tbody tr th {\n",
       "        vertical-align: top;\n",
       "    }\n",
       "\n",
       "    .dataframe thead th {\n",
       "        text-align: right;\n",
       "    }\n",
       "</style>\n",
       "<table border=\"1\" class=\"dataframe\">\n",
       "  <thead>\n",
       "    <tr style=\"text-align: right;\">\n",
       "      <th></th>\n",
       "      <th>Company</th>\n",
       "      <th>Age</th>\n",
       "      <th>Salary</th>\n",
       "      <th>City</th>\n",
       "    </tr>\n",
       "  </thead>\n",
       "  <tbody>\n",
       "    <tr>\n",
       "      <th>136</th>\n",
       "      <td>NaN</td>\n",
       "      <td>NaN</td>\n",
       "      <td>NaN</td>\n",
       "      <td>Delhi</td>\n",
       "    </tr>\n",
       "    <tr>\n",
       "      <th>137</th>\n",
       "      <td>CTS</td>\n",
       "      <td>31.0</td>\n",
       "      <td>2034.0</td>\n",
       "      <td>Mumbai</td>\n",
       "    </tr>\n",
       "    <tr>\n",
       "      <th>138</th>\n",
       "      <td>CTS</td>\n",
       "      <td>44.0</td>\n",
       "      <td>3033.0</td>\n",
       "      <td>Cochin</td>\n",
       "    </tr>\n",
       "  </tbody>\n",
       "</table>\n",
       "</div>"
      ],
      "text/plain": [
       "    Company   Age  Salary    City\n",
       "136     NaN   NaN     NaN   Delhi\n",
       "137     CTS  31.0  2034.0  Mumbai\n",
       "138     CTS  44.0  3033.0  Cochin"
      ]
     },
     "execution_count": 30,
     "metadata": {},
     "output_type": "execute_result"
    }
   ],
   "source": [
    "company_df.loc[136:138,:]"
   ]
  },
  {
   "cell_type": "code",
   "execution_count": 31,
   "metadata": {
    "id": "DR5rMPrWrYII"
   },
   "outputs": [],
   "source": [
    "company_df.drop(137, inplace = True)"
   ]
  },
  {
   "cell_type": "code",
   "execution_count": 32,
   "metadata": {},
   "outputs": [
    {
     "data": {
      "text/html": [
       "<div>\n",
       "<style scoped>\n",
       "    .dataframe tbody tr th:only-of-type {\n",
       "        vertical-align: middle;\n",
       "    }\n",
       "\n",
       "    .dataframe tbody tr th {\n",
       "        vertical-align: top;\n",
       "    }\n",
       "\n",
       "    .dataframe thead th {\n",
       "        text-align: right;\n",
       "    }\n",
       "</style>\n",
       "<table border=\"1\" class=\"dataframe\">\n",
       "  <thead>\n",
       "    <tr style=\"text-align: right;\">\n",
       "      <th></th>\n",
       "      <th>Company</th>\n",
       "      <th>Age</th>\n",
       "      <th>Salary</th>\n",
       "      <th>City</th>\n",
       "    </tr>\n",
       "  </thead>\n",
       "  <tbody>\n",
       "    <tr>\n",
       "      <th>136</th>\n",
       "      <td>NaN</td>\n",
       "      <td>NaN</td>\n",
       "      <td>NaN</td>\n",
       "      <td>Delhi</td>\n",
       "    </tr>\n",
       "    <tr>\n",
       "      <th>138</th>\n",
       "      <td>CTS</td>\n",
       "      <td>44.0</td>\n",
       "      <td>3033.0</td>\n",
       "      <td>Cochin</td>\n",
       "    </tr>\n",
       "  </tbody>\n",
       "</table>\n",
       "</div>"
      ],
      "text/plain": [
       "    Company   Age  Salary    City\n",
       "136     NaN   NaN     NaN   Delhi\n",
       "138     CTS  44.0  3033.0  Cochin"
      ]
     },
     "execution_count": 32,
     "metadata": {},
     "output_type": "execute_result"
    }
   ],
   "source": [
    "company_df.loc[136:138,:]"
   ]
  },
  {
   "cell_type": "markdown",
   "metadata": {
    "id": "BnGFONsUrYII"
   },
   "source": [
    "Find number of each labels in Company"
   ]
  },
  {
   "cell_type": "code",
   "execution_count": 33,
   "metadata": {
    "id": "6txc7W3KrYII"
   },
   "outputs": [
    {
     "data": {
      "text/plain": [
       "Company\n",
       "CTS        36\n",
       "Infosys    42\n",
       "TCS        53\n",
       "dtype: int64"
      ]
     },
     "execution_count": 33,
     "metadata": {},
     "output_type": "execute_result"
    }
   ],
   "source": [
    "company_df.groupby('Company').size()"
   ]
  },
  {
   "cell_type": "markdown",
   "metadata": {
    "id": "3r15aKrwrYII"
   },
   "source": [
    "Find number of each labels in City"
   ]
  },
  {
   "cell_type": "code",
   "execution_count": 34,
   "metadata": {
    "id": "wONYHr0ZrYII"
   },
   "outputs": [
    {
     "data": {
      "text/plain": [
       "City\n",
       "Bhopal         1\n",
       "Calcutta      31\n",
       "Chennai       14\n",
       "Cochin        11\n",
       "Delhi         13\n",
       "Hyderabad      8\n",
       "Mumbai        32\n",
       "Nagpur         1\n",
       "Noida          9\n",
       "Podicherry     3\n",
       "Pune           2\n",
       "dtype: int64"
      ]
     },
     "execution_count": 34,
     "metadata": {},
     "output_type": "execute_result"
    }
   ],
   "source": [
    "company_df.groupby('City').size()"
   ]
  },
  {
   "cell_type": "markdown",
   "metadata": {
    "id": "wRCDDs7KrYII"
   },
   "source": [
    "Find Number of Null Values in each column"
   ]
  },
  {
   "cell_type": "code",
   "execution_count": 35,
   "metadata": {
    "id": "pe14VNvFrYII"
   },
   "outputs": [
    {
     "data": {
      "text/plain": [
       "Company     9\n",
       "Age        24\n",
       "Salary     24\n",
       "City       15\n",
       "dtype: int64"
      ]
     },
     "execution_count": 35,
     "metadata": {},
     "output_type": "execute_result"
    }
   ],
   "source": [
    "company_df.isna().sum()"
   ]
  },
  {
   "cell_type": "markdown",
   "metadata": {
    "id": "xIfCvJrIrYII"
   },
   "source": [
    "Remove all Null values in Salary"
   ]
  },
  {
   "cell_type": "code",
   "execution_count": 36,
   "metadata": {
    "id": "3BafanGurYII"
   },
   "outputs": [],
   "source": [
    "company_df.dropna(subset=['Salary'], inplace=True)\n",
    "# company_df.dropna(subset='Salary')"
   ]
  },
  {
   "cell_type": "code",
   "execution_count": 37,
   "metadata": {},
   "outputs": [
    {
     "data": {
      "text/plain": [
       "Company     5\n",
       "Age        22\n",
       "Salary      0\n",
       "City       13\n",
       "dtype: int64"
      ]
     },
     "execution_count": 37,
     "metadata": {},
     "output_type": "execute_result"
    }
   ],
   "source": [
    "company_df.isna().sum()"
   ]
  },
  {
   "cell_type": "markdown",
   "metadata": {
    "id": "6mATmzhmrYII"
   },
   "source": [
    "Replace the Null values in Comapany with mode"
   ]
  },
  {
   "cell_type": "code",
   "execution_count": 38,
   "metadata": {
    "id": "AZ9430TyrYII"
   },
   "outputs": [
    {
     "name": "stdout",
     "output_type": "stream",
     "text": [
      "TCS\n"
     ]
    },
    {
     "data": {
      "text/html": [
       "<div>\n",
       "<style scoped>\n",
       "    .dataframe tbody tr th:only-of-type {\n",
       "        vertical-align: middle;\n",
       "    }\n",
       "\n",
       "    .dataframe tbody tr th {\n",
       "        vertical-align: top;\n",
       "    }\n",
       "\n",
       "    .dataframe thead th {\n",
       "        text-align: right;\n",
       "    }\n",
       "</style>\n",
       "<table border=\"1\" class=\"dataframe\">\n",
       "  <thead>\n",
       "    <tr style=\"text-align: right;\">\n",
       "      <th></th>\n",
       "      <th>Company</th>\n",
       "      <th>Age</th>\n",
       "      <th>Salary</th>\n",
       "      <th>City</th>\n",
       "    </tr>\n",
       "  </thead>\n",
       "  <tbody>\n",
       "    <tr>\n",
       "      <th>2</th>\n",
       "      <td>TCS</td>\n",
       "      <td>35.0</td>\n",
       "      <td>2300.0</td>\n",
       "      <td>Calcutta</td>\n",
       "    </tr>\n",
       "    <tr>\n",
       "      <th>3</th>\n",
       "      <td>Infosys</td>\n",
       "      <td>40.0</td>\n",
       "      <td>3000.0</td>\n",
       "      <td>Delhi</td>\n",
       "    </tr>\n",
       "    <tr>\n",
       "      <th>4</th>\n",
       "      <td>TCS</td>\n",
       "      <td>23.0</td>\n",
       "      <td>4000.0</td>\n",
       "      <td>Mumbai</td>\n",
       "    </tr>\n",
       "    <tr>\n",
       "      <th>5</th>\n",
       "      <td>Infosys</td>\n",
       "      <td>NaN</td>\n",
       "      <td>5000.0</td>\n",
       "      <td>Calcutta</td>\n",
       "    </tr>\n",
       "    <tr>\n",
       "      <th>6</th>\n",
       "      <td>TCS</td>\n",
       "      <td>NaN</td>\n",
       "      <td>6000.0</td>\n",
       "      <td>Chennai</td>\n",
       "    </tr>\n",
       "    <tr>\n",
       "      <th>...</th>\n",
       "      <td>...</td>\n",
       "      <td>...</td>\n",
       "      <td>...</td>\n",
       "      <td>...</td>\n",
       "    </tr>\n",
       "    <tr>\n",
       "      <th>139</th>\n",
       "      <td>CTS</td>\n",
       "      <td>22.0</td>\n",
       "      <td>2934.0</td>\n",
       "      <td>Noida</td>\n",
       "    </tr>\n",
       "    <tr>\n",
       "      <th>140</th>\n",
       "      <td>Infosys</td>\n",
       "      <td>44.0</td>\n",
       "      <td>4034.0</td>\n",
       "      <td>Hyderabad</td>\n",
       "    </tr>\n",
       "    <tr>\n",
       "      <th>141</th>\n",
       "      <td>TCS</td>\n",
       "      <td>33.0</td>\n",
       "      <td>5034.0</td>\n",
       "      <td>Calcutta</td>\n",
       "    </tr>\n",
       "    <tr>\n",
       "      <th>142</th>\n",
       "      <td>Infosys</td>\n",
       "      <td>22.0</td>\n",
       "      <td>8202.0</td>\n",
       "      <td>Mumbai</td>\n",
       "    </tr>\n",
       "    <tr>\n",
       "      <th>143</th>\n",
       "      <td>TCS</td>\n",
       "      <td>33.0</td>\n",
       "      <td>9024.0</td>\n",
       "      <td>Calcutta</td>\n",
       "    </tr>\n",
       "  </tbody>\n",
       "</table>\n",
       "<p>116 rows × 4 columns</p>\n",
       "</div>"
      ],
      "text/plain": [
       "     Company   Age  Salary       City\n",
       "2        TCS  35.0  2300.0   Calcutta\n",
       "3    Infosys  40.0  3000.0      Delhi\n",
       "4        TCS  23.0  4000.0     Mumbai\n",
       "5    Infosys   NaN  5000.0   Calcutta\n",
       "6        TCS   NaN  6000.0    Chennai\n",
       "..       ...   ...     ...        ...\n",
       "139      CTS  22.0  2934.0      Noida\n",
       "140  Infosys  44.0  4034.0  Hyderabad\n",
       "141      TCS  33.0  5034.0   Calcutta\n",
       "142  Infosys  22.0  8202.0     Mumbai\n",
       "143      TCS  33.0  9024.0   Calcutta\n",
       "\n",
       "[116 rows x 4 columns]"
      ]
     },
     "execution_count": 38,
     "metadata": {},
     "output_type": "execute_result"
    }
   ],
   "source": [
    "print(company_df['Company'].mode()[0])\n",
    "company_df['Company'].fillna(company_df['Company'].mode()[0], inplace=True)\n",
    "company_df"
   ]
  },
  {
   "cell_type": "markdown",
   "metadata": {
    "id": "LDwnFlxHrYII"
   },
   "source": [
    "Replace the null value in Salary with median"
   ]
  },
  {
   "cell_type": "code",
   "execution_count": 39,
   "metadata": {
    "scrolled": true
   },
   "outputs": [
    {
     "data": {
      "text/plain": [
       "Company     0\n",
       "Age        22\n",
       "Salary      0\n",
       "City       13\n",
       "dtype: int64"
      ]
     },
     "execution_count": 39,
     "metadata": {},
     "output_type": "execute_result"
    }
   ],
   "source": [
    "company_df.isna().sum()"
   ]
  },
  {
   "cell_type": "code",
   "execution_count": 40,
   "metadata": {},
   "outputs": [],
   "source": [
    "# company_df.groupby('Salary').size()"
   ]
  },
  {
   "cell_type": "code",
   "execution_count": 41,
   "metadata": {
    "scrolled": true
   },
   "outputs": [
    {
     "name": "stdout",
     "output_type": "stream",
     "text": [
      "     Company   Age  Salary        City\n",
      "2        TCS  35.0  2300.0    Calcutta\n",
      "3    Infosys  40.0  3000.0       Delhi\n",
      "4        TCS  23.0  4000.0      Mumbai\n",
      "5    Infosys   NaN  5000.0    Calcutta\n",
      "6        TCS   NaN  6000.0     Chennai\n",
      "7    Infosys  23.0  7000.0      Mumbai\n",
      "8        TCS  34.0  8000.0    Calcutta\n",
      "9        CTS  45.0  9000.0       Delhi\n",
      "11       CTS  34.0  1089.0    Calcutta\n",
      "13       CTS  18.0  1234.0      Mumbai\n",
      "14   Infosys  40.0  3000.0    Calcutta\n",
      "15       TCS  23.0  3000.0       Delhi\n",
      "16   Infosys  23.0  3030.0  Podicherry\n",
      "17       TCS  34.0  5000.0      Cochin\n",
      "20       TCS  37.0  3045.0    Calcutta\n",
      "21   Infosys  50.0  3184.0       Delhi\n",
      "22       TCS  21.0  4824.0      Mumbai\n",
      "23   Infosys   NaN  5835.0      Cochin\n",
      "24       TCS   NaN  7084.0     Chennai\n",
      "25   Infosys  23.0  8943.0      Mumbai\n",
      "26       TCS  34.0  8345.0    Calcutta\n",
      "27       CTS  45.0  9284.0       Delhi\n",
      "28       CTS  23.0  9876.0      Mumbai\n",
      "29       CTS  35.0  2034.0      Cochin\n",
      "30       CTS  46.0  7654.0     Chennai\n",
      "31       CTS  20.0  2934.0      Mumbai\n",
      "32   Infosys  45.0  4034.0    Calcutta\n",
      "33       TCS  36.0  5034.0         NaN\n",
      "34   Infosys  26.0  8202.0         NaN\n",
      "35       TCS  35.0  9024.0         NaN\n",
      "38       TCS  34.0  2300.0    Calcutta\n",
      "39   Infosys  41.0  3000.0      Mumbai\n",
      "40       TCS  24.0  4345.0    Calcutta\n",
      "41   Infosys   NaN  5000.0         NaN\n",
      "42       TCS   NaN  6000.0         NaN\n",
      "43   Infosys  25.0  7000.0         NaN\n",
      "44       TCS  35.0  8000.0       Noida\n",
      "45       CTS  46.0  9000.0   Hyderabad\n",
      "47       CTS  32.0  1089.0      Mumbai\n",
      "49       CTS  19.0  1234.0      Cochin\n",
      "50   Infosys  41.0  3000.0     Chennai\n",
      "51       TCS  24.0  3000.0      Mumbai\n",
      "52   Infosys  21.0  3030.0    Calcutta\n",
      "53       TCS  35.0  5000.0       Delhi\n",
      "54       TCS  21.0  6544.0      Mumbai\n",
      "55   Infosys  32.0  7654.0      Cochin\n",
      "56       TCS  38.0  3045.0       Noida\n",
      "57   Infosys  51.0  3184.0   Hyderabad\n",
      "58       TCS  23.0  4824.0    Calcutta\n",
      "59   Infosys   NaN  5835.0      Mumbai\n",
      "60       TCS   NaN  7084.0    Calcutta\n",
      "61       TCS  25.0  8943.0         NaN\n",
      "62       TCS  36.0  8345.0         NaN\n",
      "63       CTS  41.0  9284.0         NaN\n",
      "64       TCS  25.0  6543.0       Noida\n",
      "65       CTS  31.0  2034.0   Hyderabad\n",
      "67       CTS  21.0  2934.0      Mumbai\n",
      "68   Infosys  43.0  4034.0      Mumbai\n",
      "69       TCS  32.0  5034.0      Cochin\n",
      "70   Infosys  21.0  8202.0     Chennai\n",
      "71       TCS  34.0  9024.0      Mumbai\n",
      "74       TCS  37.0  2300.0      Mumbai\n",
      "75   Infosys  44.0  3000.0      Cochin\n",
      "76       TCS  32.0  4000.0       Noida\n",
      "77   Infosys   NaN  5000.0   Hyderabad\n",
      "78       TCS   NaN  6000.0    Calcutta\n",
      "79   Infosys  26.0  7000.0      Bhopal\n",
      "80       TCS  32.0  8000.0      Nagpur\n",
      "81       CTS  43.0  9000.0        Pune\n",
      "83       CTS  33.0  1089.0     Chennai\n",
      "85       CTS  17.0  1234.0    Calcutta\n",
      "86   Infosys  41.0  3000.0       Delhi\n",
      "87       TCS  21.0  3000.0      Mumbai\n",
      "88   Infosys   NaN  3030.0    Calcutta\n",
      "89       TCS  36.0  5000.0     Chennai\n",
      "92       TCS   NaN  3045.0       Delhi\n",
      "93   Infosys  54.0  3184.0      Mumbai\n",
      "94       TCS  22.0  4824.0    Calcutta\n",
      "95   Infosys   NaN  5835.0     Chennai\n",
      "96       TCS   NaN  7084.0      Mumbai\n",
      "97   Infosys  22.0  8943.0    Calcutta\n",
      "98       TCS  33.0  8345.0       Delhi\n",
      "99       CTS  44.0  9284.0  Podicherry\n",
      "101      CTS   NaN  2034.0  Podicherry\n",
      "103      CTS  22.0  2934.0    Calcutta\n",
      "104  Infosys  44.0  4034.0       Delhi\n",
      "105      TCS  33.0  5034.0      Mumbai\n",
      "106  Infosys  22.0  8202.0      Cochin\n",
      "107      TCS   NaN  9024.0     Chennai\n",
      "110      TCS  33.0  2300.0       Delhi\n",
      "111  Infosys   NaN  3234.0      Mumbai\n",
      "112      TCS  22.0  4324.0      Cochin\n",
      "113  Infosys   NaN  5435.0     Chennai\n",
      "114      TCS   NaN  5555.0      Mumbai\n",
      "115  Infosys  22.0  8787.0    Calcutta\n",
      "116      TCS  33.0  8787.0         NaN\n",
      "117      CTS  44.0  9876.0         NaN\n",
      "119      CTS  33.0  1089.0       Noida\n",
      "121      CTS   NaN  1234.0    Calcutta\n",
      "122  Infosys  44.0  3234.0      Mumbai\n",
      "123      TCS   NaN  3454.0    Calcutta\n",
      "125      TCS  33.0  5654.0         NaN\n",
      "126      TCS  20.0  5009.0         NaN\n",
      "127  Infosys  30.0  5098.0       Noida\n",
      "128      TCS  33.0  3045.0   Hyderabad\n",
      "129  Infosys  50.0  3184.0    Calcutta\n",
      "132      TCS   NaN  7084.0      Cochin\n",
      "133      TCS  22.0  8943.0     Chennai\n",
      "134      TCS  31.0  8345.0      Mumbai\n",
      "135      CTS  40.0  9284.0    Calcutta\n",
      "138      CTS  44.0  3033.0      Cochin\n",
      "139      CTS  22.0  2934.0       Noida\n",
      "140  Infosys  44.0  4034.0   Hyderabad\n",
      "141      TCS  33.0  5034.0    Calcutta\n",
      "142  Infosys  22.0  8202.0      Mumbai\n",
      "143      TCS  33.0  9024.0    Calcutta\n"
     ]
    }
   ],
   "source": [
    "print(company_df.to_string())"
   ]
  },
  {
   "cell_type": "code",
   "execution_count": 42,
   "metadata": {
    "id": "XOZNFJVrrYII"
   },
   "outputs": [
    {
     "name": "stdout",
     "output_type": "stream",
     "text": [
      "3000.0\n",
      "5000.0\n"
     ]
    }
   ],
   "source": [
    "# print(company_df.groupby('Salary').size())\n",
    "print(company_df['Salary'].mode()[0])\n",
    "print(company_df['Salary'].median())\n",
    "\n",
    "company_df['Salary'].fillna(company_df['Salary'].median(), inplace=True)"
   ]
  },
  {
   "cell_type": "markdown",
   "metadata": {
    "id": "azpfiwserYII"
   },
   "source": [
    "Replace the null value in age with mean"
   ]
  },
  {
   "cell_type": "code",
   "execution_count": 43,
   "metadata": {},
   "outputs": [
    {
     "name": "stdout",
     "output_type": "stream",
     "text": [
      "32.3936170212766\n",
      "32.0\n"
     ]
    }
   ],
   "source": [
    "print(company_df['Age'].mean())\n",
    "print(round(company_df['Age'].mean(),0))"
   ]
  },
  {
   "cell_type": "code",
   "execution_count": 44,
   "metadata": {
    "id": "tdD7uBoErYII",
    "scrolled": true
   },
   "outputs": [],
   "source": [
    "company_df['Age'].fillna(round(company_df['Age'].mean(),0), inplace=True)"
   ]
  },
  {
   "cell_type": "code",
   "execution_count": 45,
   "metadata": {},
   "outputs": [
    {
     "name": "stdout",
     "output_type": "stream",
     "text": [
      "     Company   Age  Salary        City\n",
      "2        TCS  35.0  2300.0    Calcutta\n",
      "3    Infosys  40.0  3000.0       Delhi\n",
      "4        TCS  23.0  4000.0      Mumbai\n",
      "5    Infosys  32.0  5000.0    Calcutta\n",
      "6        TCS  32.0  6000.0     Chennai\n",
      "7    Infosys  23.0  7000.0      Mumbai\n",
      "8        TCS  34.0  8000.0    Calcutta\n",
      "9        CTS  45.0  9000.0       Delhi\n",
      "11       CTS  34.0  1089.0    Calcutta\n",
      "13       CTS  18.0  1234.0      Mumbai\n",
      "14   Infosys  40.0  3000.0    Calcutta\n",
      "15       TCS  23.0  3000.0       Delhi\n",
      "16   Infosys  23.0  3030.0  Podicherry\n",
      "17       TCS  34.0  5000.0      Cochin\n",
      "20       TCS  37.0  3045.0    Calcutta\n",
      "21   Infosys  50.0  3184.0       Delhi\n",
      "22       TCS  21.0  4824.0      Mumbai\n",
      "23   Infosys  32.0  5835.0      Cochin\n",
      "24       TCS  32.0  7084.0     Chennai\n",
      "25   Infosys  23.0  8943.0      Mumbai\n",
      "26       TCS  34.0  8345.0    Calcutta\n",
      "27       CTS  45.0  9284.0       Delhi\n",
      "28       CTS  23.0  9876.0      Mumbai\n",
      "29       CTS  35.0  2034.0      Cochin\n",
      "30       CTS  46.0  7654.0     Chennai\n",
      "31       CTS  20.0  2934.0      Mumbai\n",
      "32   Infosys  45.0  4034.0    Calcutta\n",
      "33       TCS  36.0  5034.0         NaN\n",
      "34   Infosys  26.0  8202.0         NaN\n",
      "35       TCS  35.0  9024.0         NaN\n",
      "38       TCS  34.0  2300.0    Calcutta\n",
      "39   Infosys  41.0  3000.0      Mumbai\n",
      "40       TCS  24.0  4345.0    Calcutta\n",
      "41   Infosys  32.0  5000.0         NaN\n",
      "42       TCS  32.0  6000.0         NaN\n",
      "43   Infosys  25.0  7000.0         NaN\n",
      "44       TCS  35.0  8000.0       Noida\n",
      "45       CTS  46.0  9000.0   Hyderabad\n",
      "47       CTS  32.0  1089.0      Mumbai\n",
      "49       CTS  19.0  1234.0      Cochin\n",
      "50   Infosys  41.0  3000.0     Chennai\n",
      "51       TCS  24.0  3000.0      Mumbai\n",
      "52   Infosys  21.0  3030.0    Calcutta\n",
      "53       TCS  35.0  5000.0       Delhi\n",
      "54       TCS  21.0  6544.0      Mumbai\n",
      "55   Infosys  32.0  7654.0      Cochin\n",
      "56       TCS  38.0  3045.0       Noida\n",
      "57   Infosys  51.0  3184.0   Hyderabad\n",
      "58       TCS  23.0  4824.0    Calcutta\n",
      "59   Infosys  32.0  5835.0      Mumbai\n",
      "60       TCS  32.0  7084.0    Calcutta\n",
      "61       TCS  25.0  8943.0         NaN\n",
      "62       TCS  36.0  8345.0         NaN\n",
      "63       CTS  41.0  9284.0         NaN\n",
      "64       TCS  25.0  6543.0       Noida\n",
      "65       CTS  31.0  2034.0   Hyderabad\n",
      "67       CTS  21.0  2934.0      Mumbai\n",
      "68   Infosys  43.0  4034.0      Mumbai\n",
      "69       TCS  32.0  5034.0      Cochin\n",
      "70   Infosys  21.0  8202.0     Chennai\n",
      "71       TCS  34.0  9024.0      Mumbai\n",
      "74       TCS  37.0  2300.0      Mumbai\n",
      "75   Infosys  44.0  3000.0      Cochin\n",
      "76       TCS  32.0  4000.0       Noida\n",
      "77   Infosys  32.0  5000.0   Hyderabad\n",
      "78       TCS  32.0  6000.0    Calcutta\n",
      "79   Infosys  26.0  7000.0      Bhopal\n",
      "80       TCS  32.0  8000.0      Nagpur\n",
      "81       CTS  43.0  9000.0        Pune\n",
      "83       CTS  33.0  1089.0     Chennai\n",
      "85       CTS  17.0  1234.0    Calcutta\n",
      "86   Infosys  41.0  3000.0       Delhi\n",
      "87       TCS  21.0  3000.0      Mumbai\n",
      "88   Infosys  32.0  3030.0    Calcutta\n",
      "89       TCS  36.0  5000.0     Chennai\n",
      "92       TCS  32.0  3045.0       Delhi\n",
      "93   Infosys  54.0  3184.0      Mumbai\n",
      "94       TCS  22.0  4824.0    Calcutta\n",
      "95   Infosys  32.0  5835.0     Chennai\n",
      "96       TCS  32.0  7084.0      Mumbai\n",
      "97   Infosys  22.0  8943.0    Calcutta\n",
      "98       TCS  33.0  8345.0       Delhi\n",
      "99       CTS  44.0  9284.0  Podicherry\n",
      "101      CTS  32.0  2034.0  Podicherry\n",
      "103      CTS  22.0  2934.0    Calcutta\n",
      "104  Infosys  44.0  4034.0       Delhi\n",
      "105      TCS  33.0  5034.0      Mumbai\n",
      "106  Infosys  22.0  8202.0      Cochin\n",
      "107      TCS  32.0  9024.0     Chennai\n",
      "110      TCS  33.0  2300.0       Delhi\n",
      "111  Infosys  32.0  3234.0      Mumbai\n",
      "112      TCS  22.0  4324.0      Cochin\n",
      "113  Infosys  32.0  5435.0     Chennai\n",
      "114      TCS  32.0  5555.0      Mumbai\n",
      "115  Infosys  22.0  8787.0    Calcutta\n",
      "116      TCS  33.0  8787.0         NaN\n",
      "117      CTS  44.0  9876.0         NaN\n",
      "119      CTS  33.0  1089.0       Noida\n",
      "121      CTS  32.0  1234.0    Calcutta\n",
      "122  Infosys  44.0  3234.0      Mumbai\n",
      "123      TCS  32.0  3454.0    Calcutta\n",
      "125      TCS  33.0  5654.0         NaN\n",
      "126      TCS  20.0  5009.0         NaN\n",
      "127  Infosys  30.0  5098.0       Noida\n",
      "128      TCS  33.0  3045.0   Hyderabad\n",
      "129  Infosys  50.0  3184.0    Calcutta\n",
      "132      TCS  32.0  7084.0      Cochin\n",
      "133      TCS  22.0  8943.0     Chennai\n",
      "134      TCS  31.0  8345.0      Mumbai\n",
      "135      CTS  40.0  9284.0    Calcutta\n",
      "138      CTS  44.0  3033.0      Cochin\n",
      "139      CTS  22.0  2934.0       Noida\n",
      "140  Infosys  44.0  4034.0   Hyderabad\n",
      "141      TCS  33.0  5034.0    Calcutta\n",
      "142  Infosys  22.0  8202.0      Mumbai\n",
      "143      TCS  33.0  9024.0    Calcutta\n"
     ]
    }
   ],
   "source": [
    "print(company_df.to_string())"
   ]
  },
  {
   "cell_type": "markdown",
   "metadata": {
    "id": "RtFhZkUArYIJ"
   },
   "source": [
    "Filter the data with age>40 and Salary<5000"
   ]
  },
  {
   "cell_type": "code",
   "execution_count": 46,
   "metadata": {
    "id": "9W0aKbbYrYIJ"
   },
   "outputs": [
    {
     "name": "stdout",
     "output_type": "stream",
     "text": [
      "     Company   Age  Salary       City\n",
      "21   Infosys  50.0  3184.0      Delhi\n",
      "32   Infosys  45.0  4034.0   Calcutta\n",
      "39   Infosys  41.0  3000.0     Mumbai\n",
      "50   Infosys  41.0  3000.0    Chennai\n",
      "57   Infosys  51.0  3184.0  Hyderabad\n",
      "68   Infosys  43.0  4034.0     Mumbai\n",
      "75   Infosys  44.0  3000.0     Cochin\n",
      "86   Infosys  41.0  3000.0      Delhi\n",
      "93   Infosys  54.0  3184.0     Mumbai\n",
      "104  Infosys  44.0  4034.0      Delhi\n",
      "122  Infosys  44.0  3234.0     Mumbai\n",
      "129  Infosys  50.0  3184.0   Calcutta\n",
      "138      CTS  44.0  3033.0     Cochin\n",
      "140  Infosys  44.0  4034.0  Hyderabad\n"
     ]
    }
   ],
   "source": [
    "print(company_df[(company_df['Age'] > 40) & (company_df['Salary'] < 5000)].to_string())"
   ]
  },
  {
   "cell_type": "markdown",
   "metadata": {
    "id": "UMfQhwEirYIJ"
   },
   "source": [
    "Draw the pie chart for place and Company"
   ]
  },
  {
   "cell_type": "code",
   "execution_count": 47,
   "metadata": {
    "id": "k8SoJKHXrYIJ"
   },
   "outputs": [
    {
     "data": {
      "text/plain": [
       "<AxesSubplot:ylabel='City'>"
      ]
     },
     "execution_count": 47,
     "metadata": {},
     "output_type": "execute_result"
    },
    {
     "data": {
      "image/png": "[encoded data removed]",
      "text/plain": [
       "<Figure size 432x288 with 1 Axes>"
      ]
     },
     "metadata": {},
     "output_type": "display_data"
    }
   ],
   "source": [
    "# company_df.plot.pie(y='City') =====> df.plot.pie() suits only for Numerical Columns \n",
    "company_df['City'].value_counts().plot(kind='pie')"
   ]
  },
  {
   "cell_type": "code",
   "execution_count": 48,
   "metadata": {},
   "outputs": [
    {
     "data": {
      "text/plain": [
       "<AxesSubplot:ylabel='Company'>"
      ]
     },
     "execution_count": 48,
     "metadata": {},
     "output_type": "execute_result"
    },
    {
     "data": {
      "image/png": "[encoded data removed]",
      "text/plain": [
       "<Figure size 432x288 with 1 Axes>"
      ]
     },
     "metadata": {},
     "output_type": "display_data"
    }
   ],
   "source": [
    "company_df['Company'].value_counts().plot(kind='pie')"
   ]
  },
  {
   "cell_type": "markdown",
   "metadata": {
    "id": "8J9ORNCDrYIJ"
   },
   "source": [
    "Find the mean age with repective to the Company"
   ]
  },
  {
   "cell_type": "code",
   "execution_count": 49,
   "metadata": {
    "id": "9cH3-zxpuGhN"
   },
   "outputs": [
    {
     "data": {
      "text/plain": [
       "Company\n",
       "CTS        33.0\n",
       "Infosys    34.0\n",
       "TCS        31.0\n",
       "Name: Age, dtype: float64"
      ]
     },
     "execution_count": 49,
     "metadata": {},
     "output_type": "execute_result"
    }
   ],
   "source": [
    "company_df.groupby('Company')['Age'].mean().round(0)  # GroupBy one column and returns the mean of other column\n",
    "# company_df.groupby(['Company'],['Age']).mean().round(0) # GroupBy two columns and returns the mean of all other columns"
   ]
  },
  {
   "cell_type": "markdown",
   "metadata": {
    "id": "9w9BJEBlrYIJ"
   },
   "source": [
    "Draw an histogram chart for age, Salary"
   ]
  },
  {
   "cell_type": "code",
   "execution_count": 51,
   "metadata": {},
   "outputs": [
    {
     "data": {
      "text/plain": [
       "array([[<AxesSubplot:title={'center':'Age'}>,\n",
       "        <AxesSubplot:title={'center':'Salary'}>]], dtype=object)"
      ]
     },
     "execution_count": 51,
     "metadata": {},
     "output_type": "execute_result"
    },
    {
     "data": {
      "image/png": "[encoded data removed]",
      "text/plain": [
       "<Figure size 432x288 with 2 Axes>"
      ]
     },
     "metadata": {
      "needs_background": "light"
     },
     "output_type": "display_data"
    }
   ],
   "source": [
    "company_df[[\"Age\",\"Salary\"]].hist()"
   ]
  },
  {
   "cell_type": "code",
   "execution_count": 53,
   "metadata": {
    "id": "A70Qii4ouF90"
   },
   "outputs": [
    {
     "data": {
      "text/plain": [
       "array([[<AxesSubplot:title={'center':'Age'}>,\n",
       "        <AxesSubplot:title={'center':'Salary'}>]], dtype=object)"
      ]
     },
     "execution_count": 53,
     "metadata": {},
     "output_type": "execute_result"
    },
    {
     "data": {
      "image/png": "[encoded data removed]",
      "text/plain": [
       "<Figure size 432x288 with 2 Axes>"
      ]
     },
     "metadata": {
      "needs_background": "light"
     },
     "output_type": "display_data"
    }
   ],
   "source": [
    "company_df.hist(['Age','Salary'])"
   ]
  },
  {
   "cell_type": "markdown",
   "metadata": {
    "id": "WH5XV-66rYIJ"
   },
   "source": [
    "Find the mean, count, median of salary with repective to the place"
   ]
  },
  {
   "cell_type": "code",
   "execution_count": 52,
   "metadata": {
    "id": "jndwzc4grYIJ"
   },
   "outputs": [
    {
     "name": "stdout",
     "output_type": "stream",
     "text": [
      "City\n",
      "Bhopal        7000.000000\n",
      "Calcutta      4744.692308\n",
      "Chennai       6115.090909\n",
      "Cochin        4766.727273\n",
      "Delhi         4835.636364\n",
      "Hyderabad     4382.833333\n",
      "Mumbai        4937.720000\n",
      "Nagpur        8000.000000\n",
      "Noida         4387.000000\n",
      "Podicherry    4782.666667\n",
      "Pune          9000.000000\n",
      "Name: Salary, dtype: float64\n",
      "\n",
      "City\n",
      "Bhopal        7000.0\n",
      "Calcutta      4189.5\n",
      "Chennai       6000.0\n",
      "Cochin        5000.0\n",
      "Delhi         3184.0\n",
      "Hyderabad     3609.0\n",
      "Mumbai        4034.0\n",
      "Nagpur        8000.0\n",
      "Noida         4000.0\n",
      "Podicherry    3030.0\n",
      "Pune          9000.0\n",
      "Name: Salary, dtype: float64\n",
      "\n",
      "City\n",
      "Bhopal         1\n",
      "Calcutta      26\n",
      "Chennai       11\n",
      "Cochin        11\n",
      "Delhi         11\n",
      "Hyderabad      6\n",
      "Mumbai        25\n",
      "Nagpur         1\n",
      "Noida          7\n",
      "Podicherry     3\n",
      "Pune           1\n",
      "Name: Salary, dtype: int64\n",
      "\n"
     ]
    }
   ],
   "source": [
    "print(company_df.groupby('City')['Salary'].mean(), end = '\\n\\n')\n",
    "print(company_df.groupby('City')['Salary'].median(), end = '\\n\\n')\n",
    "print(company_df.groupby('City')['Salary'].count(), end = '\\n\\n')"
   ]
  },
  {
   "cell_type": "code",
   "execution_count": null,
   "metadata": {},
   "outputs": [],
   "source": []
  }
 ],
 "metadata": {
  "colab": {
   "collapsed_sections": [],
   "name": "Pandas_Excercise.ipynb",
   "provenance": []
  },
  "kernelspec": {
   "display_name": "Python 3 (ipykernel)",
   "language": "python",
   "name": "python3"
  },
  "language_info": {
   "codemirror_mode": {
    "name": "ipython",
    "version": 3
   },
   "file_extension": ".py",
   "mimetype": "text/x-python",
   "name": "python",
   "nbconvert_exporter": "python",
   "pygments_lexer": "ipython3",
   "version": "3.9.12"
  }
 },
 "nbformat": 4,
 "nbformat_minor": 1
}
