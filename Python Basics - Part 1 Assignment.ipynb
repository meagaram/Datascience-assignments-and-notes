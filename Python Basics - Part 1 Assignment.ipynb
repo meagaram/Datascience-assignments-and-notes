{
 "cells": [
  {
   "cell_type": "markdown",
   "id": "a481672e",
   "metadata": {},
   "source": [
    "### 1.\tGet the input for 2 variables though “input” function and pass them to a function to return the addition of two variables"
   ]
  },
  {
   "cell_type": "code",
   "execution_count": 1,
   "id": "087e3683",
   "metadata": {},
   "outputs": [
    {
     "name": "stdout",
     "output_type": "stream",
     "text": [
      "2 3\n",
      "5\n"
     ]
    }
   ],
   "source": [
    "def addition(a,b):\n",
    "    return a+b\n",
    "a, b = list(map(int, input().split()))\n",
    "print(addition(a,b))"
   ]
  },
  {
   "cell_type": "markdown",
   "id": "0dd1354c",
   "metadata": {},
   "source": [
    "### 2.\tWhat happens if we try to add an int with str and vice versa. Please print out the error"
   ]
  },
  {
   "cell_type": "code",
   "execution_count": 2,
   "id": "564c6a6e",
   "metadata": {
    "scrolled": true
   },
   "outputs": [],
   "source": [
    "# \"a\" + 1"
   ]
  },
  {
   "cell_type": "raw",
   "id": "fb0a21a4",
   "metadata": {},
   "source": [
    "---------------------------------------------------------------------------\n",
    "TypeError                                 Traceback (most recent call last)\n",
    "Input In [3], in <cell line: 1>()\n",
    "----> 1 \"a\" + 1\n",
    "\n",
    "TypeError: can only concatenate str (not \"int\") to str"
   ]
  },
  {
   "cell_type": "markdown",
   "id": "cdd49751",
   "metadata": {},
   "source": [
    "### 3.\tWrite a function and pass a number list as an argument to the function. And return True if the first and last number of a given list is same. If numbers are different then return False"
   ]
  },
  {
   "cell_type": "code",
   "execution_count": 3,
   "id": "8b1105f8",
   "metadata": {},
   "outputs": [
    {
     "name": "stdout",
     "output_type": "stream",
     "text": [
      "1 2 3 2 1\n",
      "True\n"
     ]
    }
   ],
   "source": [
    "def check_equality(num_list):\n",
    "    if num_list[0] == num_list[-1]:\n",
    "        return True\n",
    "    else:\n",
    "        return False\n",
    "num_list = list(map(int, input().split()))\n",
    "print(check_equality(num_list))"
   ]
  },
  {
   "cell_type": "markdown",
   "id": "0fb9c7e1",
   "metadata": {},
   "source": [
    "### 4.\tIterate the given list of numbers (l1) and print only those numbers which are divisible by 5. (l1 = [10, 20, 33, 46, 55])"
   ]
  },
  {
   "cell_type": "code",
   "execution_count": 4,
   "id": "066c846c",
   "metadata": {},
   "outputs": [
    {
     "name": "stdout",
     "output_type": "stream",
     "text": [
      "10\n",
      "20\n",
      "55\n"
     ]
    },
    {
     "data": {
      "text/plain": [
       "[None, None, None]"
      ]
     },
     "execution_count": 4,
     "metadata": {},
     "output_type": "execute_result"
    }
   ],
   "source": [
    "l1 = [10, 20, 33, 46, 55]\n",
    "[print(num) for num in l1 if num%5 == 0]"
   ]
  },
  {
   "cell_type": "markdown",
   "id": "a1873d2a",
   "metadata": {},
   "source": [
    "### 5.\tWrite a program to create function calculation() such that it can accept two variables and calculate addition and subtraction. Also, it must return both addition and subtraction in a single return call.\n",
    "#### a.\tHint: Separate return values with a comma"
   ]
  },
  {
   "cell_type": "code",
   "execution_count": 5,
   "id": "ea9b8ad3",
   "metadata": {},
   "outputs": [
    {
     "name": "stdout",
     "output_type": "stream",
     "text": [
      "5 6\n",
      "(11, -1)\n"
     ]
    }
   ],
   "source": [
    "def calculation(a,b):\n",
    "    return a+b, a-b\n",
    "a, b = list(map(int, input().split()))\n",
    "print(calculation(a,b))"
   ]
  },
  {
   "cell_type": "markdown",
   "id": "5cff5c70",
   "metadata": {},
   "source": [
    "### 6.\tWrite a program to demonstrate the following Syntax error\n",
    "#### a.\tSyntaxError: non-default argument follows default argument"
   ]
  },
  {
   "cell_type": "code",
   "execution_count": 6,
   "id": "c924ff86",
   "metadata": {},
   "outputs": [
    {
     "ename": "SyntaxError",
     "evalue": "non-default argument follows default argument (3577272559.py, line 1)",
     "output_type": "error",
     "traceback": [
      "\u001b[1;36m  Input \u001b[1;32mIn [6]\u001b[1;36m\u001b[0m\n\u001b[1;33m    def syntax_error_demo(non_default_arg=\"value 1\", default_arg):\u001b[0m\n\u001b[1;37m                                                                ^\u001b[0m\n\u001b[1;31mSyntaxError\u001b[0m\u001b[1;31m:\u001b[0m non-default argument follows default argument\n"
     ]
    }
   ],
   "source": [
    "def syntax_error_demo(non_default_arg=\"value 1\", default_arg):\n",
    "    print(\"Right way to use is => def syntax_error_demo(default_arg, non_default_arg=1):\")"
   ]
  },
  {
   "cell_type": "markdown",
   "id": "4e78b315",
   "metadata": {},
   "source": [
    "### 7.\tUse filter and lambda function to calculate square for below numbers only if they are odd number\n",
    "#### a.\t[12, 11, 53, 22, 21, 77, 87, 88, 98]"
   ]
  },
  {
   "cell_type": "code",
   "execution_count": 7,
   "id": "ca67ffc7",
   "metadata": {},
   "outputs": [
    {
     "name": "stdout",
     "output_type": "stream",
     "text": [
      "[11, 53, 21, 77, 87]\n",
      "121\n",
      "2809\n",
      "441\n",
      "5929\n",
      "7569\n"
     ]
    },
    {
     "data": {
      "text/plain": [
       "[None, None, None, None, None]"
      ]
     },
     "execution_count": 7,
     "metadata": {},
     "output_type": "execute_result"
    }
   ],
   "source": [
    "l2 = [12, 11, 53, 22, 21, 77, 87, 88, 98]\n",
    "odd_list = list(filter(lambda x: (x%2 != 0), l2))\n",
    "print(odd_list)\n",
    "[print(odd_num**2) for odd_num in odd_list]"
   ]
  },
  {
   "cell_type": "markdown",
   "id": "86362078",
   "metadata": {},
   "source": [
    "### 8.\t Write a function (not a lambda function) and use it to demonstrate an example for map function (any logical function of your choice)"
   ]
  },
  {
   "cell_type": "code",
   "execution_count": 8,
   "id": "58334f82",
   "metadata": {},
   "outputs": [
    {
     "name": "stdout",
     "output_type": "stream",
     "text": [
      "['string1 -> concatenation using map function', 'string2 -> concatenation using map function', 'string3 -> concatenation using map function']\n"
     ]
    }
   ],
   "source": [
    "def concatenation(str):\n",
    "    return str+\" -> concatenation using map function\"\n",
    "string_list = [\"string1\", \"string2\", \"string3\"]\n",
    "print(list(map(concatenation, string_list)))"
   ]
  },
  {
   "cell_type": "markdown",
   "id": "e56890cd",
   "metadata": {},
   "source": [
    "### 9.\tWrite 3 examples on possible methods to changing a tuple"
   ]
  },
  {
   "cell_type": "raw",
   "id": "ac41e234",
   "metadata": {},
   "source": [
    "Tuples are immutable."
   ]
  },
  {
   "cell_type": "code",
   "execution_count": 9,
   "id": "38383083",
   "metadata": {},
   "outputs": [
    {
     "name": "stdout",
     "output_type": "stream",
     "text": [
      "('qwerty', 'asdf', 'changed value using index in list')\n",
      "('asdf', 'changed value using index in list', 'changed value using remove and add in tuple')\n",
      "('changed value using remove and add in tuple', 'asdf', 'zxcvb')\n"
     ]
    }
   ],
   "source": [
    "# Method 1\n",
    "tuple_1 = (\"qwerty\", \"asdf\", \"zxcvb\")\n",
    "tuple_list = list(tuple_1)\n",
    "tuple_list[2] = \"changed value using index in list\"\n",
    "tuple_1 = tuple(tuple_list)\n",
    "print(tuple_1)\n",
    "\n",
    "# Method 2\n",
    "tuple_list.remove('qwerty')\n",
    "tuple_list.append(\"changed value using remove and add in tuple\")\n",
    "tuple_2 = tuple(tuple_list)\n",
    "print(tuple_2)\n",
    "\n",
    "# Method 3\n",
    "tuple_3 = (\"qwerty\", \"asdf\", \"zxcvb\")\n",
    "tuple_set = set(tuple_3)\n",
    "tuple_set.remove('qwerty')\n",
    "tuple_set.add(\"changed value using remove and add in tuple\")\n",
    "tuple_3 = tuple(tuple_set)\n",
    "print(tuple_3)"
   ]
  },
  {
   "cell_type": "markdown",
   "id": "131a59e7",
   "metadata": {},
   "source": [
    "### 10.\t Create the string, int and float variable and delete them all in the next cell"
   ]
  },
  {
   "cell_type": "code",
   "execution_count": 10,
   "id": "4a61defb",
   "metadata": {},
   "outputs": [],
   "source": [
    "string_val = \"String\"\n",
    "int_val = 123\n",
    "float_val = 456.789"
   ]
  },
  {
   "cell_type": "code",
   "execution_count": 11,
   "id": "77a67b96",
   "metadata": {},
   "outputs": [],
   "source": [
    "del string_val\n",
    "del int_val\n",
    "del float_val"
   ]
  },
  {
   "cell_type": "code",
   "execution_count": 12,
   "id": "ce0e99ca",
   "metadata": {},
   "outputs": [
    {
     "ename": "NameError",
     "evalue": "name 'string_val' is not defined",
     "output_type": "error",
     "traceback": [
      "\u001b[1;31m---------------------------------------------------------------------------\u001b[0m",
      "\u001b[1;31mNameError\u001b[0m                                 Traceback (most recent call last)",
      "Input \u001b[1;32mIn [12]\u001b[0m, in \u001b[0;36m<cell line: 1>\u001b[1;34m()\u001b[0m\n\u001b[1;32m----> 1\u001b[0m \u001b[38;5;28mprint\u001b[39m(\u001b[43mstring_val\u001b[49m, int_val, float_val)\n",
      "\u001b[1;31mNameError\u001b[0m: name 'string_val' is not defined"
     ]
    }
   ],
   "source": [
    "print(string_val, int_val, float_val)"
   ]
  },
  {
   "cell_type": "markdown",
   "id": "6b103d4d",
   "metadata": {},
   "source": [
    "### 11.\tCreate a string variable for the word “Data Science” and see if the letter “s” is present in it using membership operators"
   ]
  },
  {
   "cell_type": "code",
   "execution_count": 13,
   "id": "398a5813",
   "metadata": {},
   "outputs": [
    {
     "name": "stdout",
     "output_type": "stream",
     "text": [
      "False\n"
     ]
    }
   ],
   "source": [
    "string = \"Data Science\"\n",
    "print('s' in string)"
   ]
  },
  {
   "cell_type": "markdown",
   "id": "413c32cf",
   "metadata": {},
   "source": [
    "### 12.\tWhat’s the result of assigning a value to a ‘keyword’?\n",
    "#### a.\tPlease highlight the error"
   ]
  },
  {
   "cell_type": "code",
   "execution_count": 14,
   "id": "dca7c62b",
   "metadata": {
    "scrolled": true
   },
   "outputs": [
    {
     "name": "stdout",
     "output_type": "stream",
     "text": [
      "['False', 'None', 'True', '__peg_parser__', 'and', 'as', 'assert', 'async', 'await', 'break', 'class', 'continue', 'def', 'del', 'elif', 'else', 'except', 'finally', 'for', 'from', 'global', 'if', 'import', 'in', 'is', 'lambda', 'nonlocal', 'not', 'or', 'pass', 'raise', 'return', 'try', 'while', 'with', 'yield']\n"
     ]
    }
   ],
   "source": [
    "import keyword\n",
    "print(keyword.kwlist)"
   ]
  },
  {
   "cell_type": "raw",
   "id": "0c8fc9ce",
   "metadata": {},
   "source": [
    "An example of something you can't do with Python keywords is assign something to them. If you try, then you'll get a SyntaxError . You won't get a SyntaxError if you try to assign something to a built-in function or type, but it still isn't a good idea."
   ]
  },
  {
   "cell_type": "markdown",
   "id": "fba8672c",
   "metadata": {},
   "source": [
    "### 13.\tHow to write a multi-line statement and assign it to a variable (Note: Without using a backslash “\\” at the end of each line)"
   ]
  },
  {
   "cell_type": "code",
   "execution_count": 15,
   "id": "fd9cbe48",
   "metadata": {},
   "outputs": [],
   "source": [
    "multi_line_statement_1 = [1, 2, 3, 4,\n",
    "                         5, 6, 7, 8, 9]\n",
    "multi_line_statement_2 = {1, 2, 3, 4,\n",
    "                         5, 6, 7, 8, 9}\n",
    "multi_line_statement_3 = (1, 2, 3, 4, 5, \n",
    "                         6, 7, 8, 9)"
   ]
  },
  {
   "cell_type": "markdown",
   "id": "8b1499f8",
   "metadata": {},
   "source": [
    "### 14.\tPrint the list of numbers from 100 to 999 with an interval (step size) of 8 between the numbers"
   ]
  },
  {
   "cell_type": "code",
   "execution_count": 16,
   "id": "22bcc8cc",
   "metadata": {},
   "outputs": [
    {
     "name": "stdout",
     "output_type": "stream",
     "text": [
      "100 108 116 124 132 140 148 156 164 172 180 188 196 204 212 220 228 236 244 252 260 268 276 284 292 300 308 316 324 332 340 348 356 364 372 380 388 396 404 412 420 428 436 444 452 460 468 476 484 492 500 508 516 524 532 540 548 556 564 572 580 588 596 604 612 620 628 636 644 652 660 668 676 684 692 700 708 716 724 732 740 748 756 764 772 780 788 796 804 812 820 828 836 844 852 860 868 876 884 892 900 908 916 924 932 940 948 956 964 972 980 988 996 "
     ]
    },
    {
     "data": {
      "text/plain": [
       "[None,\n",
       " None,\n",
       " None,\n",
       " None,\n",
       " None,\n",
       " None,\n",
       " None,\n",
       " None,\n",
       " None,\n",
       " None,\n",
       " None,\n",
       " None,\n",
       " None,\n",
       " None,\n",
       " None,\n",
       " None,\n",
       " None,\n",
       " None,\n",
       " None,\n",
       " None,\n",
       " None,\n",
       " None,\n",
       " None,\n",
       " None,\n",
       " None,\n",
       " None,\n",
       " None,\n",
       " None,\n",
       " None,\n",
       " None,\n",
       " None,\n",
       " None,\n",
       " None,\n",
       " None,\n",
       " None,\n",
       " None,\n",
       " None,\n",
       " None,\n",
       " None,\n",
       " None,\n",
       " None,\n",
       " None,\n",
       " None,\n",
       " None,\n",
       " None,\n",
       " None,\n",
       " None,\n",
       " None,\n",
       " None,\n",
       " None,\n",
       " None,\n",
       " None,\n",
       " None,\n",
       " None,\n",
       " None,\n",
       " None,\n",
       " None,\n",
       " None,\n",
       " None,\n",
       " None,\n",
       " None,\n",
       " None,\n",
       " None,\n",
       " None,\n",
       " None,\n",
       " None,\n",
       " None,\n",
       " None,\n",
       " None,\n",
       " None,\n",
       " None,\n",
       " None,\n",
       " None,\n",
       " None,\n",
       " None,\n",
       " None,\n",
       " None,\n",
       " None,\n",
       " None,\n",
       " None,\n",
       " None,\n",
       " None,\n",
       " None,\n",
       " None,\n",
       " None,\n",
       " None,\n",
       " None,\n",
       " None,\n",
       " None,\n",
       " None,\n",
       " None,\n",
       " None,\n",
       " None,\n",
       " None,\n",
       " None,\n",
       " None,\n",
       " None,\n",
       " None,\n",
       " None,\n",
       " None,\n",
       " None,\n",
       " None,\n",
       " None,\n",
       " None,\n",
       " None,\n",
       " None,\n",
       " None,\n",
       " None,\n",
       " None,\n",
       " None,\n",
       " None,\n",
       " None,\n",
       " None]"
      ]
     },
     "execution_count": 16,
     "metadata": {},
     "output_type": "execute_result"
    }
   ],
   "source": [
    "[print(num, end=\" \") for num in range(100, 1000, 8)]"
   ]
  },
  {
   "cell_type": "markdown",
   "id": "59aea921",
   "metadata": {},
   "source": [
    "### 15.\tWrite a “for” loop to print out the ‘n’ values and break out of the statement if the value is ‘n/2’"
   ]
  },
  {
   "cell_type": "code",
   "execution_count": 17,
   "id": "4c23390e",
   "metadata": {},
   "outputs": [
    {
     "name": "stdout",
     "output_type": "stream",
     "text": [
      "0\n",
      "1\n",
      "2\n",
      "3\n",
      "4\n"
     ]
    }
   ],
   "source": [
    "n = 10\n",
    "for i in range(n):\n",
    "    if i != n/2:\n",
    "        print(i)\n",
    "    else:\n",
    "        break"
   ]
  },
  {
   "cell_type": "markdown",
   "id": "edc1580d",
   "metadata": {},
   "source": [
    "### 16.\tWrite a simple function and call the docstring from outside the function"
   ]
  },
  {
   "cell_type": "code",
   "execution_count": 18,
   "id": "11c8a98d",
   "metadata": {},
   "outputs": [
    {
     "name": "stdout",
     "output_type": "stream",
     "text": [
      "Says about what the function does\n",
      "\n",
      "Help on function docstring_function in module __main__:\n",
      "\n",
      "docstring_function()\n",
      "    Says about what the function does\n",
      "\n"
     ]
    }
   ],
   "source": [
    "def docstring_function():\n",
    "    \"\"\"Says about what the function does\"\"\"\n",
    "    return None\n",
    "print(docstring_function.__doc__, end=\"\\n\\n\")\n",
    "help(docstring_function)"
   ]
  },
  {
   "cell_type": "markdown",
   "id": "38e6a661",
   "metadata": {},
   "source": [
    "### 17.\tWrite a list comprehension to print the odd numbers from 0 to 100"
   ]
  },
  {
   "cell_type": "code",
   "execution_count": 19,
   "id": "d4629c63",
   "metadata": {},
   "outputs": [
    {
     "name": "stdout",
     "output_type": "stream",
     "text": [
      "1 3 5 7 9 11 13 15 17 19 21 23 25 27 29 31 33 35 37 39 41 43 45 47 49 51 53 55 57 59 61 63 65 67 69 71 73 75 77 79 81 83 85 87 89 91 93 95 97 99 "
     ]
    },
    {
     "data": {
      "text/plain": [
       "[None,\n",
       " None,\n",
       " None,\n",
       " None,\n",
       " None,\n",
       " None,\n",
       " None,\n",
       " None,\n",
       " None,\n",
       " None,\n",
       " None,\n",
       " None,\n",
       " None,\n",
       " None,\n",
       " None,\n",
       " None,\n",
       " None,\n",
       " None,\n",
       " None,\n",
       " None,\n",
       " None,\n",
       " None,\n",
       " None,\n",
       " None,\n",
       " None,\n",
       " None,\n",
       " None,\n",
       " None,\n",
       " None,\n",
       " None,\n",
       " None,\n",
       " None,\n",
       " None,\n",
       " None,\n",
       " None,\n",
       " None,\n",
       " None,\n",
       " None,\n",
       " None,\n",
       " None,\n",
       " None,\n",
       " None,\n",
       " None,\n",
       " None,\n",
       " None,\n",
       " None,\n",
       " None,\n",
       " None,\n",
       " None,\n",
       " None]"
      ]
     },
     "execution_count": 19,
     "metadata": {},
     "output_type": "execute_result"
    }
   ],
   "source": [
    "[print(num, end=' ') for num in range(100) if num % 2 != 0]"
   ]
  },
  {
   "cell_type": "markdown",
   "id": "d5ec4308",
   "metadata": {},
   "source": [
    "### 18.\t Create a variable (ex: name) and store your full name in it. Then write a list comprehension to print your name excluding vowels (a, e, i, o, u)\n",
    "#### a.\tEx: name = Imran\n",
    "#### Output = [‘m’, ‘r’, ‘n’]"
   ]
  },
  {
   "cell_type": "code",
   "execution_count": 20,
   "id": "2c1a9a73",
   "metadata": {},
   "outputs": [
    {
     "name": "stdout",
     "output_type": "stream",
     "text": [
      "m\n",
      "g\n",
      "v\n",
      "r\n",
      "s\n",
      "h\n",
      "r\n"
     ]
    },
    {
     "data": {
      "text/plain": [
       "[None, None, None, None, None, None, None]"
      ]
     },
     "execution_count": 20,
     "metadata": {},
     "output_type": "execute_result"
    }
   ],
   "source": [
    "name = \"Meaga Varsha R\"\n",
    "name = name.lower().replace(' ', '')\n",
    "vowels = \"aeiou\"\n",
    "[print(c) for c in name if c not in vowels]"
   ]
  },
  {
   "cell_type": "markdown",
   "id": "1106bfe0",
   "metadata": {},
   "source": [
    "### 19.\tWhat’s recursion? Explain in your own words and write a program to create a recursive function to calculate the sum of numbers from 0 to 10"
   ]
  },
  {
   "cell_type": "raw",
   "id": "028bc555",
   "metadata": {},
   "source": [
    "Recursion:\n",
    "=========\n",
    "A function calling the same function in its function definition"
   ]
  },
  {
   "cell_type": "code",
   "execution_count": 21,
   "id": "1bf60a39",
   "metadata": {},
   "outputs": [
    {
     "name": "stdout",
     "output_type": "stream",
     "text": [
      "55\n"
     ]
    }
   ],
   "source": [
    "def recursion_sum(n):\n",
    "    if n <= 1:\n",
    "        return n\n",
    "    return recursion_sum(n-1)+n\n",
    "\n",
    "n = 10\n",
    "print(recursion_sum(n))"
   ]
  },
  {
   "cell_type": "code",
   "execution_count": null,
   "id": "c74df710",
   "metadata": {},
   "outputs": [],
   "source": []
  }
 ],
 "metadata": {
  "kernelspec": {
   "display_name": "Python 3 (ipykernel)",
   "language": "python",
   "name": "python3"
  },
  "language_info": {
   "codemirror_mode": {
    "name": "ipython",
    "version": 3
   },
   "file_extension": ".py",
   "mimetype": "text/x-python",
   "name": "python",
   "nbconvert_exporter": "python",
   "pygments_lexer": "ipython3",
   "version": "3.9.12"
  }
 },
 "nbformat": 4,
 "nbformat_minor": 5
}
