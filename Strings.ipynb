{
  "nbformat": 4,
  "nbformat_minor": 0,
  "metadata": {
    "colab": {
      "provenance": [],
      "collapsed_sections": [],
      "authorship_tag": "ABX9TyNWTtP9QFsCgl6p6O+pXqB0",
      "include_colab_link": true
    },
    "kernelspec": {
      "name": "python3",
      "display_name": "Python 3"
    },
    "language_info": {
      "name": "python"
    }
  },
  "cells": [
    {
      "cell_type": "markdown",
      "metadata": {
        "id": "view-in-github",
        "colab_type": "text"
      },
      "source": [
        "<a href=\"https://colab.research.google.com/github/meagaram/Datascience-notes/blob/main/Strings.ipynb\" target=\"_parent\"><img src=\"https://colab.research.google.com/assets/colab-badge.svg\" alt=\"Open In Colab\"/></a>"
      ]
    },
    {
      "cell_type": "markdown",
      "source": [
        "# Ways to Create String"
      ],
      "metadata": {
        "id": "So9bOTigPv7B"
      }
    },
    {
      "cell_type": "code",
      "source": [
        "# Empty String Creation\n",
        "string_1 = ''\n",
        "string_2 = \"\"\n",
        "string_3 =''''''\n",
        "print ('Type of string_1',type(string_1))\n",
        "print ('Type of string_2',type(string_2))\n",
        "print ('Type of string_3',type(string_3))"
      ],
      "metadata": {
        "colab": {
          "base_uri": "https://localhost:8080/"
        },
        "id": "_bApPmfdTMQa",
        "outputId": "a398e4dc-0dea-49c1-95ae-f66d90a8007c"
      },
      "execution_count": null,
      "outputs": [
        {
          "output_type": "stream",
          "name": "stdout",
          "text": [
            "Type of string_1 <class 'str'>\n",
            "Type of string_2 <class 'str'>\n",
            "Type of string_3 <class 'str'>\n"
          ]
        }
      ]
    },
    {
      "cell_type": "code",
      "source": [
        "string_4 = input()\n",
        "type(string_4)"
      ],
      "metadata": {
        "id": "T-UKWSREVV6L",
        "colab": {
          "base_uri": "https://localhost:8080/"
        },
        "outputId": "7cdb6318-8b96-423b-9421-a0b8f5ccc649"
      },
      "execution_count": null,
      "outputs": [
        {
          "name": "stdout",
          "output_type": "stream",
          "text": [
            "Data Science\n"
          ]
        },
        {
          "output_type": "execute_result",
          "data": {
            "text/plain": [
              "str"
            ]
          },
          "metadata": {},
          "execution_count": 30
        }
      ]
    },
    {
      "cell_type": "code",
      "source": [
        "print(string_4[2])\n",
        "print(string_4[-2])"
      ],
      "metadata": {
        "colab": {
          "base_uri": "https://localhost:8080/"
        },
        "id": "qLAbc-RTTpYM",
        "outputId": "7c16c1c3-40c7-4ec7-a074-b56cf477c97e"
      },
      "execution_count": null,
      "outputs": [
        {
          "output_type": "stream",
          "name": "stdout",
          "text": [
            "t\n",
            "c\n"
          ]
        }
      ]
    },
    {
      "cell_type": "markdown",
      "source": [
        "## Reversing String in Python"
      ],
      "metadata": {
        "id": "j0cezGRM0kXp"
      }
    },
    {
      "cell_type": "code",
      "source": [
        "string_4[::-1]"
      ],
      "metadata": {
        "colab": {
          "base_uri": "https://localhost:8080/",
          "height": 36
        },
        "id": "57bfB1yC0jn0",
        "outputId": "27e618d1-ba43-4f38-d9e9-a52222440111"
      },
      "execution_count": null,
      "outputs": [
        {
          "output_type": "execute_result",
          "data": {
            "text/plain": [
              "'ecneicS ataD'"
            ],
            "application/vnd.google.colaboratory.intrinsic+json": {
              "type": "string"
            }
          },
          "metadata": {},
          "execution_count": 32
        }
      ]
    },
    {
      "cell_type": "code",
      "source": [
        "\"\".join(reversed(string_4))"
      ],
      "metadata": {
        "colab": {
          "base_uri": "https://localhost:8080/",
          "height": 36
        },
        "id": "DID_rZhL0950",
        "outputId": "0b302e18-c15c-42e8-db1e-ece4539a43c3"
      },
      "execution_count": null,
      "outputs": [
        {
          "output_type": "execute_result",
          "data": {
            "text/plain": [
              "'ecneicS ataD'"
            ],
            "application/vnd.google.colaboratory.intrinsic+json": {
              "type": "string"
            }
          },
          "metadata": {},
          "execution_count": 33
        }
      ]
    },
    {
      "cell_type": "markdown",
      "source": [
        "Strings are **Immutable**\n",
        "\n",
        "We cannot add or delete str elements but we can replace values of the original string"
      ],
      "metadata": {
        "id": "PkbdvbKrTk-i"
      }
    },
    {
      "cell_type": "code",
      "source": [
        "string_5 = \"I like bananas\"\n",
        "string_5.replace(\"bananas\", \"apples\")"
      ],
      "metadata": {
        "colab": {
          "base_uri": "https://localhost:8080/",
          "height": 36
        },
        "id": "vSODKAwdxb0u",
        "outputId": "b94d8316-0726-4e40-c0e4-1b35d999568e"
      },
      "execution_count": null,
      "outputs": [
        {
          "output_type": "execute_result",
          "data": {
            "text/plain": [
              "'I like apples'"
            ],
            "application/vnd.google.colaboratory.intrinsic+json": {
              "type": "string"
            }
          },
          "metadata": {},
          "execution_count": 34
        }
      ]
    },
    {
      "cell_type": "markdown",
      "source": [
        "# Ordered\n",
        "The items have a defined order, and that order will not change"
      ],
      "metadata": {
        "id": "JTvP9ZlqshYz"
      }
    },
    {
      "cell_type": "code",
      "source": [
        "string_6 = \"abcde12345\"\n",
        "string_6 # preserves the order"
      ],
      "metadata": {
        "colab": {
          "base_uri": "https://localhost:8080/",
          "height": 36
        },
        "id": "rvioig6RuC5h",
        "outputId": "32866227-9920-400e-eee5-50e67d740429"
      },
      "execution_count": null,
      "outputs": [
        {
          "output_type": "execute_result",
          "data": {
            "text/plain": [
              "'abcde12345'"
            ],
            "application/vnd.google.colaboratory.intrinsic+json": {
              "type": "string"
            }
          },
          "metadata": {},
          "execution_count": 35
        }
      ]
    },
    {
      "cell_type": "markdown",
      "source": [
        "# Iterable"
      ],
      "metadata": {
        "id": "Di1_2REnwVvl"
      }
    },
    {
      "cell_type": "markdown",
      "source": [
        "## Loops "
      ],
      "metadata": {
        "id": "9rwW3apPw7sA"
      }
    },
    {
      "cell_type": "code",
      "source": [
        "for char in string_6:\n",
        "  print(char)"
      ],
      "metadata": {
        "colab": {
          "base_uri": "https://localhost:8080/"
        },
        "id": "PktN1BVJxvRY",
        "outputId": "7a56ab0a-37be-478d-a18c-61f7e1b4423a"
      },
      "execution_count": null,
      "outputs": [
        {
          "output_type": "stream",
          "name": "stdout",
          "text": [
            "a\n",
            "b\n",
            "c\n",
            "d\n",
            "e\n",
            "1\n",
            "2\n",
            "3\n",
            "4\n",
            "5\n"
          ]
        }
      ]
    },
    {
      "cell_type": "code",
      "source": [
        "for i in (var for var in [1,2,3,4,5] if var % 2 == 0):\n",
        "  print(i)"
      ],
      "metadata": {
        "colab": {
          "base_uri": "https://localhost:8080/"
        },
        "id": "PD6S9flhx0EG",
        "outputId": "a0f9138b-ae96-47e8-8fff-c8c0952de277"
      },
      "execution_count": null,
      "outputs": [
        {
          "output_type": "stream",
          "name": "stdout",
          "text": [
            "2\n",
            "4\n"
          ]
        }
      ]
    },
    {
      "cell_type": "markdown",
      "source": [
        "# DELETING String "
      ],
      "metadata": {
        "id": "F79kmOSzz0Lm"
      }
    },
    {
      "cell_type": "code",
      "source": [
        "del string_6"
      ],
      "metadata": {
        "id": "R8G74w-k4z0B"
      },
      "execution_count": null,
      "outputs": []
    },
    {
      "cell_type": "code",
      "source": [
        "string_6"
      ],
      "metadata": {
        "colab": {
          "base_uri": "https://localhost:8080/",
          "height": 165
        },
        "id": "lMiq5w1U42ZR",
        "outputId": "f0950f8f-6c2f-4961-aff2-45b86432eecb"
      },
      "execution_count": null,
      "outputs": [
        {
          "output_type": "error",
          "ename": "NameError",
          "evalue": "ignored",
          "traceback": [
            "\u001b[0;31m---------------------------------------------------------------------------\u001b[0m",
            "\u001b[0;31mNameError\u001b[0m                                 Traceback (most recent call last)",
            "\u001b[0;32m<ipython-input-39-2b505f0c96ce>\u001b[0m in \u001b[0;36m<module>\u001b[0;34m\u001b[0m\n\u001b[0;32m----> 1\u001b[0;31m \u001b[0mstring_6\u001b[0m\u001b[0;34m\u001b[0m\u001b[0;34m\u001b[0m\u001b[0m\n\u001b[0m",
            "\u001b[0;31mNameError\u001b[0m: name 'string_6' is not defined"
          ]
        }
      ]
    },
    {
      "cell_type": "markdown",
      "source": [
        "# Escape Sequence"
      ],
      "metadata": {
        "id": "IPkNX3dI43gm"
      }
    },
    {
      "cell_type": "code",
      "source": [
        "print('''I'm from Coimbatore''')"
      ],
      "metadata": {
        "colab": {
          "base_uri": "https://localhost:8080/"
        },
        "id": "djHySNgK4-qW",
        "outputId": "90c77d52-3724-4d8b-df9e-d574f412785d"
      },
      "execution_count": null,
      "outputs": [
        {
          "output_type": "stream",
          "name": "stdout",
          "text": [
            "I'm from Coimbatore\n"
          ]
        }
      ]
    },
    {
      "cell_type": "code",
      "source": [
        "print('I\\'m from Coimbatore')"
      ],
      "metadata": {
        "colab": {
          "base_uri": "https://localhost:8080/"
        },
        "id": "96HbaEQD5Kjl",
        "outputId": "582e236b-871e-42b1-9644-f26d90710c0b"
      },
      "execution_count": null,
      "outputs": [
        {
          "output_type": "stream",
          "name": "stdout",
          "text": [
            "I'm from Coimbatore\n"
          ]
        }
      ]
    },
    {
      "cell_type": "code",
      "source": [
        "print(\"I'm from \\\"Coimbatore\\\"\")"
      ],
      "metadata": {
        "colab": {
          "base_uri": "https://localhost:8080/"
        },
        "id": "UXbQuw0U6Svb",
        "outputId": "77f2f0fc-c691-4cb3-85fa-8a1f5ffee9b2"
      },
      "execution_count": null,
      "outputs": [
        {
          "output_type": "stream",
          "name": "stdout",
          "text": [
            "I'm from \"Coimbatore\"\n"
          ]
        }
      ]
    },
    {
      "cell_type": "code",
      "source": [
        "print(\"C:\\\\User\\\\Python\\\\Strings\")"
      ],
      "metadata": {
        "colab": {
          "base_uri": "https://localhost:8080/"
        },
        "id": "1PeUZ-4C5VNK",
        "outputId": "52844deb-b75a-44a5-efe4-157b78e3bf22"
      },
      "execution_count": null,
      "outputs": [
        {
          "output_type": "stream",
          "name": "stdout",
          "text": [
            "C:\\User\\Python\\Strings\n"
          ]
        }
      ]
    },
    {
      "cell_type": "code",
      "source": [
        "print('''\n",
        "Line 1\n",
        "Line 2\n",
        "Line 3\n",
        "''')"
      ],
      "metadata": {
        "colab": {
          "base_uri": "https://localhost:8080/"
        },
        "id": "DSBeswXW5fWG",
        "outputId": "02366290-68a0-4707-afd6-12a2ff6dd5fe"
      },
      "execution_count": null,
      "outputs": [
        {
          "output_type": "stream",
          "name": "stdout",
          "text": [
            "\n",
            "Line 1\n",
            "Line 2\n",
            "Line 3\n",
            "\n"
          ]
        }
      ]
    },
    {
      "cell_type": "markdown",
      "source": [
        "# 'in' operator"
      ],
      "metadata": {
        "id": "acifk-oN8kXs"
      }
    },
    {
      "cell_type": "code",
      "source": [
        "print('Data' in 'Data Science is Interesting')"
      ],
      "metadata": {
        "colab": {
          "base_uri": "https://localhost:8080/"
        },
        "id": "CDHYeX2-8kaf",
        "outputId": "a2201655-92de-4bae-dab6-ad8a2236328a"
      },
      "execution_count": null,
      "outputs": [
        {
          "output_type": "stream",
          "name": "stdout",
          "text": [
            "True\n"
          ]
        }
      ]
    },
    {
      "cell_type": "markdown",
      "source": [
        "# STRING FORMATTING"
      ],
      "metadata": {
        "id": "prNBK8n06gAi"
      }
    },
    {
      "cell_type": "code",
      "source": [
        "# Using % operator (String Formatter)\n",
        "\n",
        "sub = \"Data Science\"\n",
        "print(\"%s is %s\"%(sub,\"interesting\"))"
      ],
      "metadata": {
        "colab": {
          "base_uri": "https://localhost:8080/"
        },
        "id": "YzrShkiU66gI",
        "outputId": "3ba7fa17-7be0-4f88-d2bc-b2de0e676edf"
      },
      "execution_count": null,
      "outputs": [
        {
          "output_type": "stream",
          "name": "stdout",
          "text": [
            "Data Science is interesting\n"
          ]
        }
      ]
    },
    {
      "cell_type": "code",
      "source": [
        "# Using format()\n",
        "\n",
        "print(\"{2} {1} {0}\".format(\"interesting\", \"is\", \"Data Science\"))"
      ],
      "metadata": {
        "colab": {
          "base_uri": "https://localhost:8080/"
        },
        "id": "VENnEoJz7jlE",
        "outputId": "06f5965d-50f4-4ea1-a990-8631baff1486"
      },
      "execution_count": null,
      "outputs": [
        {
          "output_type": "stream",
          "name": "stdout",
          "text": [
            "Data Science is interesting\n"
          ]
        }
      ]
    },
    {
      "cell_type": "code",
      "source": [
        "# Using f-strings\n",
        "\n",
        "sub = \"Data Science\"\n",
        "print(f\"{sub} is interesting\")"
      ],
      "metadata": {
        "colab": {
          "base_uri": "https://localhost:8080/"
        },
        "id": "ZbaJrOm47pWZ",
        "outputId": "d6f927e8-3513-488e-aa56-3d2e73015eb3"
      },
      "execution_count": null,
      "outputs": [
        {
          "output_type": "stream",
          "name": "stdout",
          "text": [
            "Data Science is interesting\n"
          ]
        }
      ]
    },
    {
      "cell_type": "code",
      "source": [
        "a=5\n",
        "b=10\n",
        "print(f\"Age is {2*(a+b)}\")"
      ],
      "metadata": {
        "colab": {
          "base_uri": "https://localhost:8080/"
        },
        "id": "htc1FWlP7s5j",
        "outputId": "cb09b75a-97ee-4623-d953-924e22590242"
      },
      "execution_count": null,
      "outputs": [
        {
          "output_type": "stream",
          "name": "stdout",
          "text": [
            "Age is 30\n"
          ]
        }
      ]
    },
    {
      "cell_type": "code",
      "source": [
        "print(\"My name is {fname}, I'm from {city}\".format(city = \"Coimbatore\", fname = \"Meaga\"))"
      ],
      "metadata": {
        "colab": {
          "base_uri": "https://localhost:8080/"
        },
        "id": "1qHTYbCk7vKu",
        "outputId": "69c0eeae-a687-4d17-cf91-00ffc69fbe6b"
      },
      "execution_count": null,
      "outputs": [
        {
          "output_type": "stream",
          "name": "stdout",
          "text": [
            "My name is Meaga, I'm from Coimbatore\n"
          ]
        }
      ]
    },
    {
      "cell_type": "markdown",
      "source": [
        "# Interview Questions"
      ],
      "metadata": {
        "id": "1P-y8i1G8A9V"
      }
    },
    {
      "cell_type": "markdown",
      "source": [
        "*  What is an f-string and how do you use it?\n",
        "* Interpolate a variable into a string using format()\n",
        "* Check if a string contains only numbers.\n",
        "        '12345'.isnumeric() # True\n",
        "        '1.234'.isnumeric() # False\n",
        "*  Split a string on a specific character\n",
        "        'Data Science--is--interesting'.split('--') # ['Data Science', 'is', 'interesting']\n",
        "*  Join a list of strings into a single string, delimited by hyphens\n",
        "        '--'.join(['Data Science', 'is', 'interesting']) # Data Science--is--interesting\n",
        "*  Give an example of string slicing\n",
        "*  Replace all instances of a substring in a string\n",
        "*  What is the effect of multiplying a string by 3?\n",
        "        'Data' * 3 # DataDataData\n",
        "* Capitalize the first character of each word in a string\n",
        "        'once upon a time there lived a ghost'.title() # Once Upon A Time There Lived A Ghost\n",
        "*  Concatenate two strings\n",
        "        \"String 1\" + \" String 2\" # String 1 String 2\n",
        "*  What does it mean for strings to be immutable in Python?\n",
        "*  Does defining a string twice (associated with 2 different variable names) create one or two objects in memory?\n",
        "        # It only creates one\n",
        "        animal = 'dog'\n",
        "        print(id(animal)) # 4441985688\n",
        "        pet = 'dog'\n",
        "        print(id(pet)) # 4441985688"
      ],
      "metadata": {
        "id": "CyYEYCpt8NY4"
      }
    },
    {
      "cell_type": "code",
      "source": [],
      "metadata": {
        "id": "BLKxBOrJCuS2"
      },
      "execution_count": null,
      "outputs": []
    }
  ]
}