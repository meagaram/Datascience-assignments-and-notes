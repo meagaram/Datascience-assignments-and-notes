{
  "nbformat": 4,
  "nbformat_minor": 0,
  "metadata": {
    "colab": {
      "provenance": [],
      "authorship_tag": "ABX9TyOD2xWzNXAwsowDLpa+Akgn",
      "include_colab_link": true
    },
    "kernelspec": {
      "name": "python3",
      "display_name": "Python 3"
    },
    "language_info": {
      "name": "python"
    }
  },
  "cells": [
    {
      "cell_type": "markdown",
      "metadata": {
        "id": "view-in-github",
        "colab_type": "text"
      },
      "source": [
        "<a href=\"https://colab.research.google.com/github/meagaram/Datascience-notes/blob/main/Lists.ipynb\" target=\"_parent\"><img src=\"https://colab.research.google.com/assets/colab-badge.svg\" alt=\"Open In Colab\"/></a>"
      ]
    },
    {
      "cell_type": "markdown",
      "source": [
        "# Ways to Create Lists"
      ],
      "metadata": {
        "id": "wyhBW2N7Mw5u"
      }
    },
    {
      "cell_type": "code",
      "source": [
        "# Empty List Creation\n",
        "my_list = []\n",
        "# Returns the type of Data\n",
        "type(my_list)"
      ],
      "metadata": {
        "colab": {
          "base_uri": "https://localhost:8080/"
        },
        "id": "v4U_b2D5NBzF",
        "outputId": "32197a94-2c9e-42b2-f6cf-9d06196618df"
      },
      "execution_count": null,
      "outputs": [
        {
          "output_type": "execute_result",
          "data": {
            "text/plain": [
              "list"
            ]
          },
          "metadata": {},
          "execution_count": 99
        }
      ]
    },
    {
      "cell_type": "code",
      "source": [
        "# from user input\n",
        "list_1 = input().split()\n",
        "print(list_1)"
      ],
      "metadata": {
        "colab": {
          "base_uri": "https://localhost:8080/"
        },
        "id": "UF6IxLKcNwil",
        "outputId": "72df2bc1-6008-4e7c-ca8d-d1a1b29376d4"
      },
      "execution_count": null,
      "outputs": [
        {
          "output_type": "stream",
          "name": "stdout",
          "text": [
            "Data Science is interesting\n",
            "['Data', 'Science', 'is', 'interesting']\n"
          ]
        }
      ]
    },
    {
      "cell_type": "markdown",
      "source": [
        "# Heterogeneous and Accepts Duplicates"
      ],
      "metadata": {
        "id": "f-mitULfPZwH"
      }
    },
    {
      "cell_type": "code",
      "source": [
        "list_2 = [1, 2.3, \"four\", {'five':'six'}, 1, 2.3]\n",
        "list_2"
      ],
      "metadata": {
        "colab": {
          "base_uri": "https://localhost:8080/"
        },
        "id": "JrmFSVFnDQKN",
        "outputId": "501e29f5-5675-4595-d456-b70fc6b6a668"
      },
      "execution_count": null,
      "outputs": [
        {
          "output_type": "execute_result",
          "data": {
            "text/plain": [
              "[1, 2.3, 'four', {'five': 'six'}, 1, 2.3]"
            ]
          },
          "metadata": {},
          "execution_count": 101
        }
      ]
    },
    {
      "cell_type": "markdown",
      "source": [
        "# Mutable \n",
        "We can change an item in a LIST by accessing it directly as part of the assignment statement"
      ],
      "metadata": {
        "id": "yagOyO-WDbPs"
      }
    },
    {
      "cell_type": "markdown",
      "source": [
        "## Insert"
      ],
      "metadata": {
        "id": "eX6x-t6NFtpt"
      }
    },
    {
      "cell_type": "code",
      "source": [
        "list_3 = [1, 2, 3]"
      ],
      "metadata": {
        "id": "H_M29HUDFvth"
      },
      "execution_count": null,
      "outputs": []
    },
    {
      "cell_type": "code",
      "source": [
        "list_3.append(4) # Original List gets affected. No need to save in separate list\n",
        "list_3"
      ],
      "metadata": {
        "colab": {
          "base_uri": "https://localhost:8080/"
        },
        "id": "kTvSYcw0GC6H",
        "outputId": "acba3e6d-8442-484c-96bf-2583c7d864f3"
      },
      "execution_count": null,
      "outputs": [
        {
          "output_type": "execute_result",
          "data": {
            "text/plain": [
              "[1, 2, 3, 4]"
            ]
          },
          "metadata": {},
          "execution_count": 103
        }
      ]
    },
    {
      "cell_type": "code",
      "source": [
        "list_3.insert(3, 3.5) # INSERT ELEMENT=3.5 IN INDEX=3 \n",
        "\n",
        "# Original List gets affected. No need to save in separate list\n",
        "list_3"
      ],
      "metadata": {
        "colab": {
          "base_uri": "https://localhost:8080/"
        },
        "id": "WKZDpMDgGDIC",
        "outputId": "c4ea230b-7e5a-4d13-fa39-1053e5631bb3"
      },
      "execution_count": null,
      "outputs": [
        {
          "output_type": "execute_result",
          "data": {
            "text/plain": [
              "[1, 2, 3, 3.5, 4]"
            ]
          },
          "metadata": {},
          "execution_count": 104
        }
      ]
    },
    {
      "cell_type": "code",
      "source": [
        "list_4 = [5, 6, 7]\n",
        "list_5 = list_3 + list_4\n",
        "list_5"
      ],
      "metadata": {
        "colab": {
          "base_uri": "https://localhost:8080/"
        },
        "id": "_N1OYXh9GDLH",
        "outputId": "d71e2fb2-34ee-4a9f-9467-ab11c2e00f9a"
      },
      "execution_count": null,
      "outputs": [
        {
          "output_type": "execute_result",
          "data": {
            "text/plain": [
              "[1, 2, 3, 3.5, 4, 5, 6, 7]"
            ]
          },
          "metadata": {},
          "execution_count": 105
        }
      ]
    },
    {
      "cell_type": "code",
      "source": [
        "list_5.extend(list_2) # Original List gets affected. No need to save in separate list\n",
        "list_5"
      ],
      "metadata": {
        "colab": {
          "base_uri": "https://localhost:8080/"
        },
        "id": "y28Mm1wdGDN_",
        "outputId": "b8677aa3-e0ec-4959-9fd9-6ed44d4d9486"
      },
      "execution_count": null,
      "outputs": [
        {
          "output_type": "execute_result",
          "data": {
            "text/plain": [
              "[1, 2, 3, 3.5, 4, 5, 6, 7, 1, 2.3, 'four', {'five': 'six'}, 1, 2.3]"
            ]
          },
          "metadata": {},
          "execution_count": 106
        }
      ]
    },
    {
      "cell_type": "markdown",
      "source": [
        "## Update"
      ],
      "metadata": {
        "id": "fECUSvdvFoRP"
      }
    },
    {
      "cell_type": "code",
      "source": [
        "list_3"
      ],
      "metadata": {
        "colab": {
          "base_uri": "https://localhost:8080/"
        },
        "id": "jjwDWtrRDzm0",
        "outputId": "cb856b05-146e-466c-a1dd-8fc24a78070d"
      },
      "execution_count": null,
      "outputs": [
        {
          "output_type": "execute_result",
          "data": {
            "text/plain": [
              "[1, 2, 3, 3.5, 4]"
            ]
          },
          "metadata": {},
          "execution_count": 107
        }
      ]
    },
    {
      "cell_type": "code",
      "source": [
        "list_3[1] = \"two\"\n",
        "list_3[-2] = \"three and a half\"\n",
        "list_3"
      ],
      "metadata": {
        "colab": {
          "base_uri": "https://localhost:8080/"
        },
        "id": "18Cres_fGDQn",
        "outputId": "45668fee-d5f6-4ff4-eefa-8b463e5b2937"
      },
      "execution_count": null,
      "outputs": [
        {
          "output_type": "execute_result",
          "data": {
            "text/plain": [
              "[1, 'two', 3, 'three and a half', 4]"
            ]
          },
          "metadata": {},
          "execution_count": 108
        }
      ]
    },
    {
      "cell_type": "markdown",
      "source": [
        "## Delete"
      ],
      "metadata": {
        "id": "X6iB8XAbK95r"
      }
    },
    {
      "cell_type": "code",
      "source": [
        "list_6 = [1, 2, 3, 1, 2, \"four\", 5.0]\n",
        "list_6"
      ],
      "metadata": {
        "colab": {
          "base_uri": "https://localhost:8080/"
        },
        "id": "J4sZp721K8f-",
        "outputId": "aabc7403-fffa-4e5b-ced6-334fab42ee52"
      },
      "execution_count": null,
      "outputs": [
        {
          "output_type": "execute_result",
          "data": {
            "text/plain": [
              "[1, 2, 3, 1, 2, 'four', 5.0]"
            ]
          },
          "metadata": {},
          "execution_count": 109
        }
      ]
    },
    {
      "cell_type": "code",
      "source": [
        "list_6.remove(2) # Remove ELEMENT=2 ; If multiple elements are present, the first occuring element is removed\n",
        "list_6"
      ],
      "metadata": {
        "colab": {
          "base_uri": "https://localhost:8080/"
        },
        "id": "nvAh0uzLGDTR",
        "outputId": "9b975587-5f5c-4d19-d6fe-048632a360eb"
      },
      "execution_count": null,
      "outputs": [
        {
          "output_type": "execute_result",
          "data": {
            "text/plain": [
              "[1, 3, 1, 2, 'four', 5.0]"
            ]
          },
          "metadata": {},
          "execution_count": 110
        }
      ]
    },
    {
      "cell_type": "code",
      "source": [
        "popped_element = list_6.pop() # Removes the last element\n",
        "popped_element"
      ],
      "metadata": {
        "colab": {
          "base_uri": "https://localhost:8080/"
        },
        "id": "4VSX8_wsGDWr",
        "outputId": "a2599873-29a4-4073-f230-0a8349c8a5ed"
      },
      "execution_count": null,
      "outputs": [
        {
          "output_type": "execute_result",
          "data": {
            "text/plain": [
              "5.0"
            ]
          },
          "metadata": {},
          "execution_count": 111
        }
      ]
    },
    {
      "cell_type": "code",
      "source": [
        "list_6"
      ],
      "metadata": {
        "colab": {
          "base_uri": "https://localhost:8080/"
        },
        "id": "Z0yEmanmEPSx",
        "outputId": "9cf49823-d075-4a7e-f5e7-332f5e7d19a0"
      },
      "execution_count": null,
      "outputs": [
        {
          "output_type": "execute_result",
          "data": {
            "text/plain": [
              "[1, 3, 1, 2, 'four']"
            ]
          },
          "metadata": {},
          "execution_count": 112
        }
      ]
    },
    {
      "cell_type": "code",
      "source": [
        "popped_element = list_6.pop(2) # Remove element at INDEX=2\n",
        "popped_element"
      ],
      "metadata": {
        "colab": {
          "base_uri": "https://localhost:8080/"
        },
        "id": "e6U-d3npLvQI",
        "outputId": "3a9a45f7-a2e9-4c20-fca1-8a4ba828caa8"
      },
      "execution_count": null,
      "outputs": [
        {
          "output_type": "execute_result",
          "data": {
            "text/plain": [
              "1"
            ]
          },
          "metadata": {},
          "execution_count": 113
        }
      ]
    },
    {
      "cell_type": "code",
      "source": [
        "list_6"
      ],
      "metadata": {
        "colab": {
          "base_uri": "https://localhost:8080/"
        },
        "id": "gsSTU9qyMCN3",
        "outputId": "0bff29a6-12ca-4b48-9bb0-be9f5f22f7c2"
      },
      "execution_count": null,
      "outputs": [
        {
          "output_type": "execute_result",
          "data": {
            "text/plain": [
              "[1, 3, 2, 'four']"
            ]
          },
          "metadata": {},
          "execution_count": 114
        }
      ]
    },
    {
      "cell_type": "code",
      "source": [
        "list_6.clear() # Empties the list"
      ],
      "metadata": {
        "id": "ZgkyDhCGMDwy"
      },
      "execution_count": null,
      "outputs": []
    },
    {
      "cell_type": "code",
      "source": [
        "list_6"
      ],
      "metadata": {
        "colab": {
          "base_uri": "https://localhost:8080/"
        },
        "id": "NhRROpv3MSUV",
        "outputId": "3d5bc574-ef8b-4925-96a0-4efdef4368c2"
      },
      "execution_count": null,
      "outputs": [
        {
          "output_type": "execute_result",
          "data": {
            "text/plain": [
              "[]"
            ]
          },
          "metadata": {},
          "execution_count": 116
        }
      ]
    },
    {
      "cell_type": "code",
      "source": [
        "del(list_6) # Permanently Deletes the entire List"
      ],
      "metadata": {
        "id": "SQV00xCcMTxB"
      },
      "execution_count": null,
      "outputs": []
    },
    {
      "cell_type": "code",
      "source": [
        "list_6"
      ],
      "metadata": {
        "colab": {
          "base_uri": "https://localhost:8080/",
          "height": 165
        },
        "id": "F4QDB7ByMdVZ",
        "outputId": "72fa1097-295b-42d2-81ba-cb8fe1d84b05"
      },
      "execution_count": null,
      "outputs": [
        {
          "output_type": "error",
          "ename": "NameError",
          "evalue": "ignored",
          "traceback": [
            "\u001b[0;31m---------------------------------------------------------------------------\u001b[0m",
            "\u001b[0;31mNameError\u001b[0m                                 Traceback (most recent call last)",
            "\u001b[0;32m<ipython-input-118-f253038f8cf1>\u001b[0m in \u001b[0;36m<module>\u001b[0;34m\u001b[0m\n\u001b[0;32m----> 1\u001b[0;31m \u001b[0mlist_6\u001b[0m\u001b[0;34m\u001b[0m\u001b[0;34m\u001b[0m\u001b[0m\n\u001b[0m",
            "\u001b[0;31mNameError\u001b[0m: name 'list_6' is not defined"
          ]
        }
      ]
    },
    {
      "cell_type": "markdown",
      "source": [
        "# Ordered \n",
        "The items have a defined order, and that order will not change"
      ],
      "metadata": {
        "id": "p1aRvq-kMgZ6"
      }
    },
    {
      "cell_type": "code",
      "source": [
        "list_7 = list(\"Data Science\")\n",
        "list_7 # Elements are in same order as they are specified intially"
      ],
      "metadata": {
        "colab": {
          "base_uri": "https://localhost:8080/"
        },
        "id": "na4RbQtQM9vN",
        "outputId": "d8600797-23dd-4123-d22a-af8a85ccabf7"
      },
      "execution_count": null,
      "outputs": [
        {
          "output_type": "execute_result",
          "data": {
            "text/plain": [
              "['D', 'a', 't', 'a', ' ', 'S', 'c', 'i', 'e', 'n', 'c', 'e']"
            ]
          },
          "metadata": {},
          "execution_count": 119
        }
      ]
    },
    {
      "cell_type": "markdown",
      "source": [
        "# Sorting"
      ],
      "metadata": {
        "id": "DTiMTHNpNk6C"
      }
    },
    {
      "cell_type": "code",
      "source": [
        "list_8 = [3, 6, 4.5, 6, 1, -9.8, 4]\n",
        "list_8"
      ],
      "metadata": {
        "colab": {
          "base_uri": "https://localhost:8080/"
        },
        "id": "vfTlgIy7U54_",
        "outputId": "511d2b37-864e-46f5-e152-aa49fbef5b0b"
      },
      "execution_count": null,
      "outputs": [
        {
          "output_type": "execute_result",
          "data": {
            "text/plain": [
              "[3, 6, 4.5, 6, 1, -9.8, 4]"
            ]
          },
          "metadata": {},
          "execution_count": 120
        }
      ]
    },
    {
      "cell_type": "code",
      "source": [
        "list_8.sort() # Original List gets affected. No need to save in separate list\n",
        "list_8"
      ],
      "metadata": {
        "colab": {
          "base_uri": "https://localhost:8080/"
        },
        "id": "cSqe_ugOVDWb",
        "outputId": "e9674d11-b822-423d-9202-f12e219437be"
      },
      "execution_count": null,
      "outputs": [
        {
          "output_type": "execute_result",
          "data": {
            "text/plain": [
              "[-9.8, 1, 3, 4, 4.5, 6, 6]"
            ]
          },
          "metadata": {},
          "execution_count": 121
        }
      ]
    },
    {
      "cell_type": "code",
      "source": [
        "list_8 = [3, 6, 4.5, 6, 1, -9.8, 4]\n",
        "ascending_list = sorted(list_8, reverse=False) # Original List doesn't get affected. So, save in a new list\n",
        "print(ascending_list)\n",
        "descending_list = sorted(ascending_list, reverse=True)\n",
        "print(descending_list)"
      ],
      "metadata": {
        "colab": {
          "base_uri": "https://localhost:8080/"
        },
        "id": "DxsZtlIcVGOi",
        "outputId": "b4ed96a2-bc52-47d7-d36b-28e1245d7ebb"
      },
      "execution_count": null,
      "outputs": [
        {
          "output_type": "stream",
          "name": "stdout",
          "text": [
            "[-9.8, 1, 3, 4, 4.5, 6, 6]\n",
            "[6, 6, 4.5, 4, 3, 1, -9.8]\n"
          ]
        }
      ]
    },
    {
      "cell_type": "markdown",
      "source": [
        "# Iterable"
      ],
      "metadata": {
        "id": "gld8JPKcVlvE"
      }
    },
    {
      "cell_type": "markdown",
      "source": [
        "## Loops"
      ],
      "metadata": {
        "id": "Govuajg6WN1F"
      }
    },
    {
      "cell_type": "code",
      "source": [
        "for item in list_8:\n",
        "  print(item)"
      ],
      "metadata": {
        "colab": {
          "base_uri": "https://localhost:8080/"
        },
        "id": "5T0QCzObV3GG",
        "outputId": "819a5da2-05f9-456b-ed6d-e8c4360da8ab"
      },
      "execution_count": null,
      "outputs": [
        {
          "output_type": "stream",
          "name": "stdout",
          "text": [
            "3\n",
            "6\n",
            "4.5\n",
            "6\n",
            "1\n",
            "-9.8\n",
            "4\n"
          ]
        }
      ]
    },
    {
      "cell_type": "markdown",
      "source": [
        "## Maps"
      ],
      "metadata": {
        "id": "GDUOGXgnV_R1"
      }
    },
    {
      "cell_type": "markdown",
      "source": [
        "A function that tries to iterate which means doing a function and iterate in any set of iteration can be a list, dictionary, set\n",
        "\n",
        "This is used to map a function to iterable (i.e) list,tuple etc.,\n",
        "Syntax : map(<Function_name>,iterable)\n",
        "For example,\n",
        "If we have a function to get a square of two numbers\n",
        "\n",
        "def square(x):\n",
        "      return x**2\n",
        "\n",
        "In this scenario, we can call the function as \n",
        "square(2) --> output would be 4\n",
        "\n",
        "Similarly if we need to perform this activity for a list of numbers like [1,2,3,4] in this case use the map function as,\n",
        "\n",
        "map(square,[1,2,3,4]) ---> This will return the square of each number in the list\n",
        "(i.e.) [1,4,9,16]\n",
        "\n",
        "Note : This map function would be returning an object reference only. \n",
        "If we need to view the items then we can cast it as a list()\n"
      ],
      "metadata": {
        "id": "6-v_FfOVWRjf"
      }
    },
    {
      "cell_type": "code",
      "source": [
        "numbers = \"1 2 3 4 5 6\"\n",
        "print(numbers)\n",
        "int_list = list(map(int, numbers.split())) # split() -> splits with ' '(space) ## maps every splitted element to INT\n",
        "print(int_list) \n",
        "float_list = list(map(float, numbers.split()))\n",
        "print(float_list)"
      ],
      "metadata": {
        "colab": {
          "base_uri": "https://localhost:8080/"
        },
        "id": "P6EYzv8QWYZg",
        "outputId": "93bd6f2e-a12f-479b-9239-dc91a5b96363"
      },
      "execution_count": null,
      "outputs": [
        {
          "output_type": "stream",
          "name": "stdout",
          "text": [
            "1 2 3 4 5 6\n",
            "[1, 2, 3, 4, 5, 6]\n",
            "[1.0, 2.0, 3.0, 4.0, 5.0, 6.0]\n"
          ]
        }
      ]
    },
    {
      "cell_type": "markdown",
      "source": [
        "## Lambda\n",
        "It takes any number of arguments, and a one expression, evaluate one expression and then given one output"
      ],
      "metadata": {
        "id": "v7MTKcg8W1Cm"
      }
    },
    {
      "cell_type": "code",
      "source": [
        "# LAMBDA with MAP\n",
        "\n",
        "print(int_list)\n",
        "square_list = list(map(lambda x: x*2, int_list))\n",
        "print(square_list)\n",
        "# Sum of Two Lists\n",
        "list(map(lambda x, y: x + y, int_list, square_list))"
      ],
      "metadata": {
        "colab": {
          "base_uri": "https://localhost:8080/"
        },
        "id": "qOo1SCGFXT2w",
        "outputId": "4adccfd8-af0f-4bf0-ff2a-95862a2aebdc"
      },
      "execution_count": null,
      "outputs": [
        {
          "output_type": "stream",
          "name": "stdout",
          "text": [
            "[1, 2, 3, 4, 5, 6]\n",
            "[2, 4, 6, 8, 10, 12]\n"
          ]
        },
        {
          "output_type": "execute_result",
          "data": {
            "text/plain": [
              "[3, 6, 9, 12, 15, 18]"
            ]
          },
          "metadata": {},
          "execution_count": 142
        }
      ]
    },
    {
      "cell_type": "code",
      "source": [
        "# LAMBDA with FILTER\n",
        "\n",
        "ages = [13, 90, 17, 59, 21, 60, 5]\n",
        "list(filter(lambda age: age>18, ages))"
      ],
      "metadata": {
        "colab": {
          "base_uri": "https://localhost:8080/"
        },
        "id": "tMl_ENmaX7ME",
        "outputId": "105a1527-63de-4ad2-f7e6-f274a3c6dda2"
      },
      "execution_count": null,
      "outputs": [
        {
          "output_type": "execute_result",
          "data": {
            "text/plain": [
              "[90, 59, 21, 60]"
            ]
          },
          "metadata": {},
          "execution_count": 126
        }
      ]
    },
    {
      "cell_type": "code",
      "source": [
        "# LAMBDA with REDUCE\n",
        "\n",
        "from functools import reduce\n",
        "list_9 = [1, 2, 3, 4, 5]\n",
        "sum = reduce((lambda x, y: x + y), list_9)\n",
        "print(sum)"
      ],
      "metadata": {
        "colab": {
          "base_uri": "https://localhost:8080/"
        },
        "id": "jrpT7EgoYlr0",
        "outputId": "f6b7705e-e141-454e-b160-5c7510644fcd"
      },
      "execution_count": null,
      "outputs": [
        {
          "output_type": "stream",
          "name": "stdout",
          "text": [
            "15\n"
          ]
        }
      ]
    },
    {
      "cell_type": "markdown",
      "source": [
        "# List Comprehension"
      ],
      "metadata": {
        "id": "EsYBPaeyYxYl"
      }
    },
    {
      "cell_type": "code",
      "source": [
        "list_10 = [1, 2, 3, 4, 5, 6, 7, 8]\n",
        "odd_list = []\n",
        "even_list = []\n",
        "[even_list.append(x) if x%2==0 else odd_list.append(x) for x in list_10]"
      ],
      "metadata": {
        "colab": {
          "base_uri": "https://localhost:8080/"
        },
        "id": "hFb4MdZcaMik",
        "outputId": "2e83e903-eb8c-4bd2-801f-07b6116a89e6"
      },
      "execution_count": null,
      "outputs": [
        {
          "output_type": "execute_result",
          "data": {
            "text/plain": [
              "[None, None, None, None, None, None, None, None]"
            ]
          },
          "metadata": {},
          "execution_count": 128
        }
      ]
    },
    {
      "cell_type": "code",
      "source": [
        "print(odd_list)\n",
        "print(even_list)"
      ],
      "metadata": {
        "colab": {
          "base_uri": "https://localhost:8080/"
        },
        "id": "p75MH0uMat19",
        "outputId": "0873c017-eb7d-41b3-cd5d-4db1a2711fd3"
      },
      "execution_count": null,
      "outputs": [
        {
          "output_type": "stream",
          "name": "stdout",
          "text": [
            "[1, 3, 5, 7]\n",
            "[2, 4, 6, 8]\n"
          ]
        }
      ]
    },
    {
      "cell_type": "markdown",
      "source": [
        "# Remove Duplicates\n",
        "To remove duplicates, convert list to set"
      ],
      "metadata": {
        "id": "u7GlvAXnayT1"
      }
    },
    {
      "cell_type": "code",
      "source": [
        "list_11 = [1, 2, 3, 1, 2, 3]\n",
        "list_11"
      ],
      "metadata": {
        "colab": {
          "base_uri": "https://localhost:8080/"
        },
        "id": "tXRGHOJga829",
        "outputId": "02d805c0-a5d5-4f9d-b8e8-3b5cf14997ad"
      },
      "execution_count": null,
      "outputs": [
        {
          "output_type": "execute_result",
          "data": {
            "text/plain": [
              "[1, 2, 3, 1, 2, 3]"
            ]
          },
          "metadata": {},
          "execution_count": 130
        }
      ]
    },
    {
      "cell_type": "code",
      "source": [
        "set(list_11)"
      ],
      "metadata": {
        "colab": {
          "base_uri": "https://localhost:8080/"
        },
        "id": "MX4bflrXbDNb",
        "outputId": "7e6a0bbc-c0f2-47ad-aa83-89677c6c2f70"
      },
      "execution_count": null,
      "outputs": [
        {
          "output_type": "execute_result",
          "data": {
            "text/plain": [
              "{1, 2, 3}"
            ]
          },
          "metadata": {},
          "execution_count": 131
        }
      ]
    },
    {
      "cell_type": "markdown",
      "source": [
        "# Convert to Other Data Structures"
      ],
      "metadata": {
        "id": "DBZ_nK_TbL7Z"
      }
    },
    {
      "cell_type": "code",
      "source": [
        "set(list_11)"
      ],
      "metadata": {
        "colab": {
          "base_uri": "https://localhost:8080/"
        },
        "id": "jtPLU1vmbTli",
        "outputId": "c2bf5b3d-6478-4457-8c56-44d141e53f36"
      },
      "execution_count": null,
      "outputs": [
        {
          "output_type": "execute_result",
          "data": {
            "text/plain": [
              "{1, 2, 3}"
            ]
          },
          "metadata": {},
          "execution_count": 132
        }
      ]
    },
    {
      "cell_type": "code",
      "source": [
        "tuple(list_11)"
      ],
      "metadata": {
        "colab": {
          "base_uri": "https://localhost:8080/"
        },
        "id": "PvDA8_8vbi86",
        "outputId": "b8d19ac8-45d8-4c36-9575-f403ca403e98"
      },
      "execution_count": null,
      "outputs": [
        {
          "output_type": "execute_result",
          "data": {
            "text/plain": [
              "(1, 2, 3, 1, 2, 3)"
            ]
          },
          "metadata": {},
          "execution_count": 133
        }
      ]
    },
    {
      "cell_type": "code",
      "source": [
        "dict(list_11) # cannot convert List to Dict directly"
      ],
      "metadata": {
        "colab": {
          "base_uri": "https://localhost:8080/",
          "height": 165
        },
        "id": "j_iYX4Esbmlq",
        "outputId": "91e7383f-ff3a-455f-d637-48a781e78419"
      },
      "execution_count": null,
      "outputs": [
        {
          "output_type": "error",
          "ename": "TypeError",
          "evalue": "ignored",
          "traceback": [
            "\u001b[0;31m---------------------------------------------------------------------------\u001b[0m",
            "\u001b[0;31mTypeError\u001b[0m                                 Traceback (most recent call last)",
            "\u001b[0;32m<ipython-input-134-a395ef152b5e>\u001b[0m in \u001b[0;36m<module>\u001b[0;34m\u001b[0m\n\u001b[0;32m----> 1\u001b[0;31m \u001b[0mdict\u001b[0m\u001b[0;34m(\u001b[0m\u001b[0mlist_11\u001b[0m\u001b[0;34m)\u001b[0m\u001b[0;34m\u001b[0m\u001b[0;34m\u001b[0m\u001b[0m\n\u001b[0m",
            "\u001b[0;31mTypeError\u001b[0m: cannot convert dictionary update sequence element #0 to a sequence"
          ]
        }
      ]
    },
    {
      "cell_type": "code",
      "source": [
        "#  Using Dict Comprehension\n",
        "list_12 = ['a', 1, 'b', 2, 'c', 3]\n",
        "{list_12[i]: list_12[i + 1] for i in range(0, len(list_12), 2)}"
      ],
      "metadata": {
        "colab": {
          "base_uri": "https://localhost:8080/"
        },
        "id": "jTHEMBFdqo-r",
        "outputId": "eb89e305-2d5e-450b-e601-cac2dce0dd8e"
      },
      "execution_count": null,
      "outputs": [
        {
          "output_type": "execute_result",
          "data": {
            "text/plain": [
              "{'a': 1, 'b': 2, 'c': 3}"
            ]
          },
          "metadata": {},
          "execution_count": 138
        }
      ]
    },
    {
      "cell_type": "code",
      "source": [
        "str(list_11) # Complete list becomes one string "
      ],
      "metadata": {
        "colab": {
          "base_uri": "https://localhost:8080/",
          "height": 36
        },
        "id": "Ib9fXIKXbpgm",
        "outputId": "a48096e3-d0a5-4d74-d1e8-7d50aae347f8"
      },
      "execution_count": null,
      "outputs": [
        {
          "output_type": "execute_result",
          "data": {
            "text/plain": [
              "'[1, 2, 3, 1, 2, 3]'"
            ],
            "application/vnd.google.colaboratory.intrinsic+json": {
              "type": "string"
            }
          },
          "metadata": {},
          "execution_count": 135
        }
      ]
    },
    {
      "cell_type": "code",
      "source": [
        "[str(x) for x in list_11] # Every element is converted to List of Strings using List Comprehension"
      ],
      "metadata": {
        "colab": {
          "base_uri": "https://localhost:8080/"
        },
        "id": "v_MPOGCubzaF",
        "outputId": "910b0391-527f-423e-9249-0446e463a222"
      },
      "execution_count": null,
      "outputs": [
        {
          "output_type": "execute_result",
          "data": {
            "text/plain": [
              "['1', '2', '3', '1', '2', '3']"
            ]
          },
          "metadata": {},
          "execution_count": 136
        }
      ]
    },
    {
      "cell_type": "markdown",
      "source": [
        "# Zip Function"
      ],
      "metadata": {
        "id": "S4T5YOp5cJ2q"
      }
    },
    {
      "cell_type": "code",
      "source": [
        "alpha = ['a', 'b', 'c']\n",
        "num = [1, 2, 3]\n",
        "res = zip(alpha, num)\n",
        "list(res)"
      ],
      "metadata": {
        "colab": {
          "base_uri": "https://localhost:8080/"
        },
        "id": "OdxhNBUaiymd",
        "outputId": "637fa15f-de17-492d-c1dc-47dd5e76d8d6"
      },
      "execution_count": null,
      "outputs": [
        {
          "output_type": "execute_result",
          "data": {
            "text/plain": [
              "[('a', 1), ('b', 2), ('c', 3)]"
            ]
          },
          "metadata": {},
          "execution_count": 137
        }
      ]
    },
    {
      "cell_type": "markdown",
      "source": [
        "# Interview Questions"
      ],
      "metadata": {
        "id": "Q-RSTJDGjABL"
      }
    },
    {
      "cell_type": "markdown",
      "source": [
        "* What is the difference between Python Arrays and Lists?\n",
        "* What is the difference between Lists and Tuples?\n",
        "* What are List Comprehensions?\n",
        "* How do you combine multiple Lists?"
      ],
      "metadata": {
        "id": "Msme9D1KjnuG"
      }
    },
    {
      "cell_type": "code",
      "source": [],
      "metadata": {
        "id": "XVlEFPpwolQJ"
      },
      "execution_count": null,
      "outputs": []
    }
  ]
}