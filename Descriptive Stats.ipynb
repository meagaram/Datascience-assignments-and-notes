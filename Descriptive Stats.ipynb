{
 "cells": [
  {
   "cell_type": "code",
   "execution_count": 202,
   "id": "e0937ec2",
   "metadata": {},
   "outputs": [],
   "source": [
    "import pandas as pd\n",
    "import matplotlib.pyplot as plt\n"
   ]
  },
  {
   "cell_type": "code",
   "execution_count": 203,
   "id": "d9693a71",
   "metadata": {},
   "outputs": [],
   "source": [
    "pd.set_option('display.float_format', lambda x: '%.3f' % x)\n",
    "# pd.reset_option('display.float_format')"
   ]
  },
  {
   "cell_type": "code",
   "execution_count": 204,
   "id": "7e5e3b72",
   "metadata": {},
   "outputs": [
    {
     "data": {
      "text/html": [
       "<div>\n",
       "<style scoped>\n",
       "    .dataframe tbody tr th:only-of-type {\n",
       "        vertical-align: middle;\n",
       "    }\n",
       "\n",
       "    .dataframe tbody tr th {\n",
       "        vertical-align: top;\n",
       "    }\n",
       "\n",
       "    .dataframe thead th {\n",
       "        text-align: right;\n",
       "    }\n",
       "</style>\n",
       "<table border=\"1\" class=\"dataframe\">\n",
       "  <thead>\n",
       "    <tr style=\"text-align: right;\">\n",
       "      <th></th>\n",
       "      <th>No of Commercials (x)</th>\n",
       "      <th>Sales Volume (K$) (y)</th>\n",
       "    </tr>\n",
       "  </thead>\n",
       "  <tbody>\n",
       "    <tr>\n",
       "      <th>0</th>\n",
       "      <td>2</td>\n",
       "      <td>50</td>\n",
       "    </tr>\n",
       "    <tr>\n",
       "      <th>1</th>\n",
       "      <td>5</td>\n",
       "      <td>57</td>\n",
       "    </tr>\n",
       "    <tr>\n",
       "      <th>2</th>\n",
       "      <td>1</td>\n",
       "      <td>41</td>\n",
       "    </tr>\n",
       "    <tr>\n",
       "      <th>3</th>\n",
       "      <td>3</td>\n",
       "      <td>54</td>\n",
       "    </tr>\n",
       "    <tr>\n",
       "      <th>4</th>\n",
       "      <td>4</td>\n",
       "      <td>54</td>\n",
       "    </tr>\n",
       "    <tr>\n",
       "      <th>5</th>\n",
       "      <td>1</td>\n",
       "      <td>38</td>\n",
       "    </tr>\n",
       "    <tr>\n",
       "      <th>6</th>\n",
       "      <td>5</td>\n",
       "      <td>63</td>\n",
       "    </tr>\n",
       "    <tr>\n",
       "      <th>7</th>\n",
       "      <td>3</td>\n",
       "      <td>48</td>\n",
       "    </tr>\n",
       "    <tr>\n",
       "      <th>8</th>\n",
       "      <td>4</td>\n",
       "      <td>59</td>\n",
       "    </tr>\n",
       "    <tr>\n",
       "      <th>9</th>\n",
       "      <td>2</td>\n",
       "      <td>46</td>\n",
       "    </tr>\n",
       "  </tbody>\n",
       "</table>\n",
       "</div>"
      ],
      "text/plain": [
       "   No of Commercials (x)  Sales Volume (K$) (y)\n",
       "0                      2                     50\n",
       "1                      5                     57\n",
       "2                      1                     41\n",
       "3                      3                     54\n",
       "4                      4                     54\n",
       "5                      1                     38\n",
       "6                      5                     63\n",
       "7                      3                     48\n",
       "8                      4                     59\n",
       "9                      2                     46"
      ]
     },
     "execution_count": 204,
     "metadata": {},
     "output_type": "execute_result"
    }
   ],
   "source": [
    "comm_sales_k = pd.read_excel(\"Descrip_Stats_problem_data_v1.xlsx\", sheet_name='Problem1', nrows=10)\n",
    "comm_sales_k"
   ]
  },
  {
   "cell_type": "code",
   "execution_count": 205,
   "id": "82fd8393",
   "metadata": {},
   "outputs": [
    {
     "name": "stdout",
     "output_type": "stream",
     "text": [
      "<class 'pandas.core.frame.DataFrame'>\n",
      "RangeIndex: 10 entries, 0 to 9\n",
      "Data columns (total 2 columns):\n",
      " #   Column                 Non-Null Count  Dtype\n",
      "---  ------                 --------------  -----\n",
      " 0   No of Commercials (x)  10 non-null     int64\n",
      " 1   Sales Volume ($) (y)   10 non-null     int64\n",
      "dtypes: int64(2)\n",
      "memory usage: 288.0 bytes\n"
     ]
    }
   ],
   "source": [
    "comm_sales.info()"
   ]
  },
  {
   "cell_type": "markdown",
   "id": "3c687395",
   "metadata": {},
   "source": [
    "### 1.\tIn a Sound and stereo store in Chicago the manager wants to know is there any relationship between the number of weekend television commercials shown and sales at the store at the following week.  The sample data of the store is provided in the spread sheet tab. Use that to solve the below problem"
   ]
  },
  {
   "cell_type": "markdown",
   "id": "1c6bbdca",
   "metadata": {},
   "source": [
    "#### 1.\tFind the covariance between the variables and tell us is there any relationship between them"
   ]
  },
  {
   "attachments": {
    "image-2.png": {
     "image/png": "[encoded data removed]"
    }
   },
   "cell_type": "markdown",
   "id": "59167d58",
   "metadata": {},
   "source": [
    "![image-2.png](attachment:image-2.png)"
   ]
  },
  {
   "cell_type": "code",
   "execution_count": 206,
   "id": "ca92467f",
   "metadata": {},
   "outputs": [],
   "source": [
    "# Higher the CO-VARIANCE stronger the relation between them\n",
    "# Higher the VARIANCE indicates the stock is risky\n",
    "\n",
    "# Pandas dataframe.cov() is used to compute pairwise covariance of columns.\n",
    "# If some of the cells in a column contain NaN value, then it is ignored.\n",
    "\n",
    "# Variance refers to the spread of a data set around its mean value, \n",
    "# while a covariance refers to the measure of the directional relationship between two random variables."
   ]
  },
  {
   "cell_type": "code",
   "execution_count": 207,
   "id": "a514ee83",
   "metadata": {},
   "outputs": [],
   "source": [
    "def covariance(x,y,n):\n",
    "    return ((x-x.mean()) * (y-y.mean())).sum() / (n-1)"
   ]
  },
  {
   "cell_type": "code",
   "execution_count": 208,
   "id": "2ed33d71",
   "metadata": {},
   "outputs": [
    {
     "name": "stdout",
     "output_type": "stream",
     "text": [
      "3.0\n",
      "51.0\n",
      "10\n"
     ]
    }
   ],
   "source": [
    "x_k = comm_sales_k['No of Commercials (x)']\n",
    "y_k = comm_sales_k['Sales Volume (K$) (y)']\n",
    "n_k = len(comm_sales)\n",
    "\n",
    "print(x_k.mean())\n",
    "print(y_k.mean())\n",
    "print(n_k)"
   ]
  },
  {
   "cell_type": "code",
   "execution_count": 209,
   "id": "9d6ab6f7",
   "metadata": {},
   "outputs": [
    {
     "data": {
      "text/plain": [
       "11.0"
      ]
     },
     "execution_count": 209,
     "metadata": {},
     "output_type": "execute_result"
    }
   ],
   "source": [
    "covariance(x_k,y_k,n_k)"
   ]
  },
  {
   "cell_type": "code",
   "execution_count": 210,
   "id": "ef013724",
   "metadata": {},
   "outputs": [
    {
     "data": {
      "text/html": [
       "<div>\n",
       "<style scoped>\n",
       "    .dataframe tbody tr th:only-of-type {\n",
       "        vertical-align: middle;\n",
       "    }\n",
       "\n",
       "    .dataframe tbody tr th {\n",
       "        vertical-align: top;\n",
       "    }\n",
       "\n",
       "    .dataframe thead th {\n",
       "        text-align: right;\n",
       "    }\n",
       "</style>\n",
       "<table border=\"1\" class=\"dataframe\">\n",
       "  <thead>\n",
       "    <tr style=\"text-align: right;\">\n",
       "      <th></th>\n",
       "      <th>No of Commercials (x)</th>\n",
       "      <th>Sales Volume (K$) (y)</th>\n",
       "    </tr>\n",
       "  </thead>\n",
       "  <tbody>\n",
       "    <tr>\n",
       "      <th>No of Commercials (x)</th>\n",
       "      <td>2.222</td>\n",
       "      <td>11.000</td>\n",
       "    </tr>\n",
       "    <tr>\n",
       "      <th>Sales Volume (K$) (y)</th>\n",
       "      <td>11.000</td>\n",
       "      <td>62.889</td>\n",
       "    </tr>\n",
       "  </tbody>\n",
       "</table>\n",
       "</div>"
      ],
      "text/plain": [
       "                       No of Commercials (x)  Sales Volume (K$) (y)\n",
       "No of Commercials (x)                  2.222                 11.000\n",
       "Sales Volume (K$) (y)                 11.000                 62.889"
      ]
     },
     "execution_count": 210,
     "metadata": {},
     "output_type": "execute_result"
    }
   ],
   "source": [
    "comm_sales_k.cov()"
   ]
  },
  {
   "cell_type": "code",
   "execution_count": null,
   "id": "2f911f2d",
   "metadata": {},
   "outputs": [],
   "source": []
  },
  {
   "cell_type": "markdown",
   "id": "2dfffeab",
   "metadata": {},
   "source": [
    "#### 2.\tIs the Sales and number of commercials correlated?  If yes - Positive/ Negative "
   ]
  },
  {
   "attachments": {
    "image.png": {
     "image/png": "[encoded data removed]"
    }
   },
   "cell_type": "markdown",
   "id": "c379c51e",
   "metadata": {},
   "source": [
    "![image.png](attachment:image.png)"
   ]
  },
  {
   "cell_type": "code",
   "execution_count": 211,
   "id": "ce0b226d",
   "metadata": {},
   "outputs": [],
   "source": [
    "def correlation(x,y,n):\n",
    "    return covariance(x,y,n) / (x.std() * y.std())"
   ]
  },
  {
   "cell_type": "code",
   "execution_count": 212,
   "id": "2340b88b",
   "metadata": {},
   "outputs": [
    {
     "data": {
      "text/plain": [
       "0.9304905807411791"
      ]
     },
     "execution_count": 212,
     "metadata": {},
     "output_type": "execute_result"
    }
   ],
   "source": [
    "correlation(x_k, y_k, n_k)"
   ]
  },
  {
   "cell_type": "code",
   "execution_count": 213,
   "id": "bb71c98c",
   "metadata": {},
   "outputs": [
    {
     "data": {
      "text/html": [
       "<div>\n",
       "<style scoped>\n",
       "    .dataframe tbody tr th:only-of-type {\n",
       "        vertical-align: middle;\n",
       "    }\n",
       "\n",
       "    .dataframe tbody tr th {\n",
       "        vertical-align: top;\n",
       "    }\n",
       "\n",
       "    .dataframe thead th {\n",
       "        text-align: right;\n",
       "    }\n",
       "</style>\n",
       "<table border=\"1\" class=\"dataframe\">\n",
       "  <thead>\n",
       "    <tr style=\"text-align: right;\">\n",
       "      <th></th>\n",
       "      <th>No of Commercials (x)</th>\n",
       "      <th>Sales Volume (K$) (y)</th>\n",
       "    </tr>\n",
       "  </thead>\n",
       "  <tbody>\n",
       "    <tr>\n",
       "      <th>No of Commercials (x)</th>\n",
       "      <td>1.000</td>\n",
       "      <td>0.930</td>\n",
       "    </tr>\n",
       "    <tr>\n",
       "      <th>Sales Volume (K$) (y)</th>\n",
       "      <td>0.930</td>\n",
       "      <td>1.000</td>\n",
       "    </tr>\n",
       "  </tbody>\n",
       "</table>\n",
       "</div>"
      ],
      "text/plain": [
       "                       No of Commercials (x)  Sales Volume (K$) (y)\n",
       "No of Commercials (x)                  1.000                  0.930\n",
       "Sales Volume (K$) (y)                  0.930                  1.000"
      ]
     },
     "execution_count": 213,
     "metadata": {},
     "output_type": "execute_result"
    }
   ],
   "source": [
    "comm_sales_k.corr()"
   ]
  },
  {
   "attachments": {
    "image.png": {
     "image/png": "[encoded data removed]"
    }
   },
   "cell_type": "markdown",
   "id": "510e252d",
   "metadata": {},
   "source": [
    "![image.png](attachment:image.png)"
   ]
  },
  {
   "cell_type": "code",
   "execution_count": 214,
   "id": "107b0ed0",
   "metadata": {},
   "outputs": [
    {
     "data": {
      "text/plain": [
       "Text(0, 0.5, 'Sales Volume (in K$)')"
      ]
     },
     "execution_count": 214,
     "metadata": {},
     "output_type": "execute_result"
    },
    {
     "data": {
      "image/png": "[encoded data removed]",
      "text/plain": [
       "<Figure size 432x288 with 1 Axes>"
      ]
     },
     "metadata": {
      "needs_background": "light"
     },
     "output_type": "display_data"
    }
   ],
   "source": [
    "plt.scatter(x_k, y_k)\n",
    "plt.xlabel('No of Commercials')\n",
    "plt.ylabel('Sales Volume (in K$)')"
   ]
  },
  {
   "cell_type": "markdown",
   "id": "e889b27b",
   "metadata": {},
   "source": [
    "### 2.\tIn the above problem the Manager has been provided the data with the sales amount measured in Kilo $($1000). But now the sales team provides a new data in Tab 2 with the amount in $. Does this unit of measurement impact the covariance and correlation calculated in problem1. The data is in Tab2\n",
    "###\t\tCalculate the new covariance and correlation and confirm \n"
   ]
  },
  {
   "cell_type": "code",
   "execution_count": 215,
   "id": "5d896d4d",
   "metadata": {},
   "outputs": [],
   "source": [
    "# COVARIANCE is DEPENDENT on the scale of the values ===> Corresponds to Directional Relationship between variables\n",
    "# CORRELATION is INDEPENDENT on the scale of values ===> Corresponds to the STRENGTH between variables"
   ]
  },
  {
   "cell_type": "code",
   "execution_count": 216,
   "id": "dd40f9c2",
   "metadata": {},
   "outputs": [],
   "source": [
    "comm_sales = pd.read_excel(\"Descrip_Stats_problem_data_v1.xlsx\", sheet_name='Problem2', nrows=10)"
   ]
  },
  {
   "cell_type": "code",
   "execution_count": 217,
   "id": "1b4016f9",
   "metadata": {},
   "outputs": [],
   "source": [
    "x = comm_sales['No of Commercials (x)']\n",
    "y = comm_sales['Sales Volume ($) (y)']\n",
    "n = len(comm_sales)"
   ]
  },
  {
   "cell_type": "code",
   "execution_count": 218,
   "id": "b04b3905",
   "metadata": {},
   "outputs": [
    {
     "name": "stdout",
     "output_type": "stream",
     "text": [
      "11.0\n",
      "11000.0\n"
     ]
    }
   ],
   "source": [
    "print(covariance(x_k, y_k, n_k))\n",
    "print(covariance(x, y, n))"
   ]
  },
  {
   "cell_type": "code",
   "execution_count": 219,
   "id": "a548e7d4",
   "metadata": {},
   "outputs": [
    {
     "name": "stdout",
     "output_type": "stream",
     "text": [
      "0.9304905807411791\n",
      "0.9304905807411791\n"
     ]
    }
   ],
   "source": [
    "print(correlation(x_k,y_k,n_k))\n",
    "print(correlation(x,y,n))"
   ]
  },
  {
   "cell_type": "code",
   "execution_count": 220,
   "id": "07d29709",
   "metadata": {},
   "outputs": [],
   "source": [
    "# NOTES\n",
    "# =====\n",
    "# You want to train your model using the columns that has the highest correlation with the label of your dataset"
   ]
  },
  {
   "cell_type": "markdown",
   "id": "dcd425ff",
   "metadata": {},
   "source": [
    "### 3.\tThe sales report about the pharmaceutical company  in million $ for the 21 states in US has been provided in the spread sheet"
   ]
  },
  {
   "cell_type": "markdown",
   "id": "aff0edb8",
   "metadata": {},
   "source": [
    "#### 1.\tProvide the five number summary of the box plot"
   ]
  },
  {
   "attachments": {
    "image-5.png": {
     "image/png": "[encoded data removed]"
    }
   },
   "cell_type": "markdown",
   "id": "dbd175a1",
   "metadata": {},
   "source": [
    "![image-5.png](attachment:image-5.png)"
   ]
  },
  {
   "cell_type": "code",
   "execution_count": 221,
   "id": "6cd6706d",
   "metadata": {},
   "outputs": [],
   "source": [
    "us_sales = pd.read_excel(\"Descrip_Stats_problem_data_v1.xlsx\", sheet_name='Problem3')"
   ]
  },
  {
   "cell_type": "code",
   "execution_count": 222,
   "id": "9858b7bd",
   "metadata": {},
   "outputs": [
    {
     "data": {
      "text/html": [
       "<div>\n",
       "<style scoped>\n",
       "    .dataframe tbody tr th:only-of-type {\n",
       "        vertical-align: middle;\n",
       "    }\n",
       "\n",
       "    .dataframe tbody tr th {\n",
       "        vertical-align: top;\n",
       "    }\n",
       "\n",
       "    .dataframe thead th {\n",
       "        text-align: right;\n",
       "    }\n",
       "</style>\n",
       "<table border=\"1\" class=\"dataframe\">\n",
       "  <thead>\n",
       "    <tr style=\"text-align: right;\">\n",
       "      <th></th>\n",
       "      <th>State</th>\n",
       "      <th>Sales</th>\n",
       "    </tr>\n",
       "  </thead>\n",
       "  <tbody>\n",
       "    <tr>\n",
       "      <th>0</th>\n",
       "      <td>Arizona</td>\n",
       "      <td>8408</td>\n",
       "    </tr>\n",
       "    <tr>\n",
       "      <th>1</th>\n",
       "      <td>California</td>\n",
       "      <td>1374</td>\n",
       "    </tr>\n",
       "    <tr>\n",
       "      <th>2</th>\n",
       "      <td>Colorado</td>\n",
       "      <td>1872</td>\n",
       "    </tr>\n",
       "    <tr>\n",
       "      <th>3</th>\n",
       "      <td>Florida</td>\n",
       "      <td>8879</td>\n",
       "    </tr>\n",
       "    <tr>\n",
       "      <th>4</th>\n",
       "      <td>Georgia</td>\n",
       "      <td>2459</td>\n",
       "    </tr>\n",
       "    <tr>\n",
       "      <th>5</th>\n",
       "      <td>Kansas</td>\n",
       "      <td>11413</td>\n",
       "    </tr>\n",
       "    <tr>\n",
       "      <th>6</th>\n",
       "      <td>Kentucky</td>\n",
       "      <td>608</td>\n",
       "    </tr>\n",
       "    <tr>\n",
       "      <th>7</th>\n",
       "      <td>Ohio</td>\n",
       "      <td>14138</td>\n",
       "    </tr>\n",
       "    <tr>\n",
       "      <th>8</th>\n",
       "      <td>Maryland</td>\n",
       "      <td>6452</td>\n",
       "    </tr>\n",
       "    <tr>\n",
       "      <th>9</th>\n",
       "      <td>Massachusetts</td>\n",
       "      <td>1850</td>\n",
       "    </tr>\n",
       "    <tr>\n",
       "      <th>10</th>\n",
       "      <td>Michigan</td>\n",
       "      <td>2818</td>\n",
       "    </tr>\n",
       "    <tr>\n",
       "      <th>11</th>\n",
       "      <td>Mississippi</td>\n",
       "      <td>1356</td>\n",
       "    </tr>\n",
       "    <tr>\n",
       "      <th>12</th>\n",
       "      <td>Missouri</td>\n",
       "      <td>10498</td>\n",
       "    </tr>\n",
       "    <tr>\n",
       "      <th>13</th>\n",
       "      <td>New Jersey</td>\n",
       "      <td>7478</td>\n",
       "    </tr>\n",
       "    <tr>\n",
       "      <th>14</th>\n",
       "      <td>Louisiana</td>\n",
       "      <td>4019</td>\n",
       "    </tr>\n",
       "    <tr>\n",
       "      <th>15</th>\n",
       "      <td>Oklahoma</td>\n",
       "      <td>4341</td>\n",
       "    </tr>\n",
       "    <tr>\n",
       "      <th>16</th>\n",
       "      <td>Tennessee</td>\n",
       "      <td>739</td>\n",
       "    </tr>\n",
       "    <tr>\n",
       "      <th>17</th>\n",
       "      <td>Texas</td>\n",
       "      <td>2127</td>\n",
       "    </tr>\n",
       "    <tr>\n",
       "      <th>18</th>\n",
       "      <td>Virginia</td>\n",
       "      <td>3653</td>\n",
       "    </tr>\n",
       "    <tr>\n",
       "      <th>19</th>\n",
       "      <td>Washington</td>\n",
       "      <td>5794</td>\n",
       "    </tr>\n",
       "    <tr>\n",
       "      <th>20</th>\n",
       "      <td>West Virginia</td>\n",
       "      <td>8305</td>\n",
       "    </tr>\n",
       "  </tbody>\n",
       "</table>\n",
       "</div>"
      ],
      "text/plain": [
       "             State  Sales\n",
       "0         Arizona    8408\n",
       "1      California    1374\n",
       "2        Colorado    1872\n",
       "3         Florida    8879\n",
       "4         Georgia    2459\n",
       "5          Kansas   11413\n",
       "6        Kentucky     608\n",
       "7             Ohio  14138\n",
       "8        Maryland    6452\n",
       "9   Massachusetts    1850\n",
       "10       Michigan    2818\n",
       "11    Mississippi    1356\n",
       "12       Missouri   10498\n",
       "13     New Jersey    7478\n",
       "14      Louisiana    4019\n",
       "15       Oklahoma    4341\n",
       "16      Tennessee     739\n",
       "17          Texas    2127\n",
       "18       Virginia    3653\n",
       "19     Washington    5794\n",
       "20  West Virginia    8305"
      ]
     },
     "execution_count": 222,
     "metadata": {},
     "output_type": "execute_result"
    }
   ],
   "source": [
    "us_sales"
   ]
  },
  {
   "cell_type": "code",
   "execution_count": 223,
   "id": "743e4795",
   "metadata": {},
   "outputs": [
    {
     "data": {
      "text/html": [
       "<div>\n",
       "<style scoped>\n",
       "    .dataframe tbody tr th:only-of-type {\n",
       "        vertical-align: middle;\n",
       "    }\n",
       "\n",
       "    .dataframe tbody tr th {\n",
       "        vertical-align: top;\n",
       "    }\n",
       "\n",
       "    .dataframe thead th {\n",
       "        text-align: right;\n",
       "    }\n",
       "</style>\n",
       "<table border=\"1\" class=\"dataframe\">\n",
       "  <thead>\n",
       "    <tr style=\"text-align: right;\">\n",
       "      <th></th>\n",
       "      <th>State</th>\n",
       "      <th>Sales</th>\n",
       "    </tr>\n",
       "  </thead>\n",
       "  <tbody>\n",
       "    <tr>\n",
       "      <th>count</th>\n",
       "      <td>21</td>\n",
       "      <td>21.000</td>\n",
       "    </tr>\n",
       "    <tr>\n",
       "      <th>unique</th>\n",
       "      <td>21</td>\n",
       "      <td>NaN</td>\n",
       "    </tr>\n",
       "    <tr>\n",
       "      <th>top</th>\n",
       "      <td>Arizona</td>\n",
       "      <td>NaN</td>\n",
       "    </tr>\n",
       "    <tr>\n",
       "      <th>freq</th>\n",
       "      <td>1</td>\n",
       "      <td>NaN</td>\n",
       "    </tr>\n",
       "    <tr>\n",
       "      <th>mean</th>\n",
       "      <td>NaN</td>\n",
       "      <td>5170.524</td>\n",
       "    </tr>\n",
       "    <tr>\n",
       "      <th>std</th>\n",
       "      <td>NaN</td>\n",
       "      <td>3917.733</td>\n",
       "    </tr>\n",
       "    <tr>\n",
       "      <th>min</th>\n",
       "      <td>NaN</td>\n",
       "      <td>608.000</td>\n",
       "    </tr>\n",
       "    <tr>\n",
       "      <th>25%</th>\n",
       "      <td>NaN</td>\n",
       "      <td>1872.000</td>\n",
       "    </tr>\n",
       "    <tr>\n",
       "      <th>50%</th>\n",
       "      <td>NaN</td>\n",
       "      <td>4019.000</td>\n",
       "    </tr>\n",
       "    <tr>\n",
       "      <th>75%</th>\n",
       "      <td>NaN</td>\n",
       "      <td>8305.000</td>\n",
       "    </tr>\n",
       "    <tr>\n",
       "      <th>max</th>\n",
       "      <td>NaN</td>\n",
       "      <td>14138.000</td>\n",
       "    </tr>\n",
       "  </tbody>\n",
       "</table>\n",
       "</div>"
      ],
      "text/plain": [
       "           State     Sales\n",
       "count         21    21.000\n",
       "unique        21       NaN\n",
       "top     Arizona        NaN\n",
       "freq           1       NaN\n",
       "mean         NaN  5170.524\n",
       "std          NaN  3917.733\n",
       "min          NaN   608.000\n",
       "25%          NaN  1872.000\n",
       "50%          NaN  4019.000\n",
       "75%          NaN  8305.000\n",
       "max          NaN 14138.000"
      ]
     },
     "execution_count": 223,
     "metadata": {},
     "output_type": "execute_result"
    }
   ],
   "source": [
    "us_sales.describe(include='all')"
   ]
  },
  {
   "cell_type": "code",
   "execution_count": 224,
   "id": "daabe5a5",
   "metadata": {},
   "outputs": [
    {
     "data": {
      "text/plain": [
       "<AxesSubplot:>"
      ]
     },
     "execution_count": 224,
     "metadata": {},
     "output_type": "execute_result"
    },
    {
     "data": {
      "image/png": "[encoded data removed]",
      "text/plain": [
       "<Figure size 432x288 with 1 Axes>"
      ]
     },
     "metadata": {
      "needs_background": "light"
     },
     "output_type": "display_data"
    }
   ],
   "source": [
    "us_sales.boxplot()"
   ]
  },
  {
   "cell_type": "code",
   "execution_count": null,
   "id": "5bb62dcd",
   "metadata": {},
   "outputs": [],
   "source": []
  },
  {
   "cell_type": "markdown",
   "id": "e15ce55f",
   "metadata": {},
   "source": [
    "#### 2.\tCompute the lower and upper limits"
   ]
  },
  {
   "cell_type": "code",
   "execution_count": 225,
   "id": "3f8b5a84",
   "metadata": {},
   "outputs": [],
   "source": [
    "import math"
   ]
  },
  {
   "cell_type": "code",
   "execution_count": 226,
   "id": "ca2598b8",
   "metadata": {},
   "outputs": [],
   "source": [
    "Q1 = us_sales['Sales'].quantile(0.25)\n",
    "Q3 = us_sales['Sales'].quantile(0.75)\n",
    "IQR = Q3 - Q1\n",
    "L = math.ceil(Q1 - 1.5 * IQR)\n",
    "U = math.floor(Q3 + 1.5 * IQR)\n",
    "# print(IQR)"
   ]
  },
  {
   "cell_type": "code",
   "execution_count": 227,
   "id": "9dd900b4",
   "metadata": {},
   "outputs": [
    {
     "data": {
      "text/plain": [
       "(1872.0, 8305.0, 6433.0, -7777, 17954)"
      ]
     },
     "execution_count": 227,
     "metadata": {},
     "output_type": "execute_result"
    }
   ],
   "source": [
    "Q1, Q3, IQR, L, U"
   ]
  },
  {
   "cell_type": "markdown",
   "id": "d9a4504f",
   "metadata": {},
   "source": [
    "#### 3.\tDoes the data contain any outlier ? "
   ]
  },
  {
   "cell_type": "markdown",
   "id": "be656579",
   "metadata": {},
   "source": [
    "The data has no outliers. All the values in Sales col are bounded between the Lower and Upper Limits (-7777, 17954)"
   ]
  },
  {
   "cell_type": "markdown",
   "id": "d35234ae",
   "metadata": {},
   "source": [
    "#### 4.\tOhio state has the highest sales at $$14,138 million. Suppose a data entry error has been made as $ 41,138 million would this been identified as an outlier and corrected"
   ]
  },
  {
   "cell_type": "code",
   "execution_count": 228,
   "id": "781c4d17",
   "metadata": {},
   "outputs": [],
   "source": [
    "us_sales.loc[us_sales['State']=='Ohio', 'Sales'] = 41138"
   ]
  },
  {
   "cell_type": "code",
   "execution_count": 229,
   "id": "f29339a1",
   "metadata": {},
   "outputs": [
    {
     "data": {
      "text/html": [
       "<div>\n",
       "<style scoped>\n",
       "    .dataframe tbody tr th:only-of-type {\n",
       "        vertical-align: middle;\n",
       "    }\n",
       "\n",
       "    .dataframe tbody tr th {\n",
       "        vertical-align: top;\n",
       "    }\n",
       "\n",
       "    .dataframe thead th {\n",
       "        text-align: right;\n",
       "    }\n",
       "</style>\n",
       "<table border=\"1\" class=\"dataframe\">\n",
       "  <thead>\n",
       "    <tr style=\"text-align: right;\">\n",
       "      <th></th>\n",
       "      <th>State</th>\n",
       "      <th>Sales</th>\n",
       "    </tr>\n",
       "  </thead>\n",
       "  <tbody>\n",
       "    <tr>\n",
       "      <th>count</th>\n",
       "      <td>21</td>\n",
       "      <td>21.000</td>\n",
       "    </tr>\n",
       "    <tr>\n",
       "      <th>unique</th>\n",
       "      <td>21</td>\n",
       "      <td>NaN</td>\n",
       "    </tr>\n",
       "    <tr>\n",
       "      <th>top</th>\n",
       "      <td>Arizona</td>\n",
       "      <td>NaN</td>\n",
       "    </tr>\n",
       "    <tr>\n",
       "      <th>freq</th>\n",
       "      <td>1</td>\n",
       "      <td>NaN</td>\n",
       "    </tr>\n",
       "    <tr>\n",
       "      <th>mean</th>\n",
       "      <td>NaN</td>\n",
       "      <td>6456.238</td>\n",
       "    </tr>\n",
       "    <tr>\n",
       "      <th>std</th>\n",
       "      <td>NaN</td>\n",
       "      <td>8618.300</td>\n",
       "    </tr>\n",
       "    <tr>\n",
       "      <th>min</th>\n",
       "      <td>NaN</td>\n",
       "      <td>608.000</td>\n",
       "    </tr>\n",
       "    <tr>\n",
       "      <th>25%</th>\n",
       "      <td>NaN</td>\n",
       "      <td>1872.000</td>\n",
       "    </tr>\n",
       "    <tr>\n",
       "      <th>50%</th>\n",
       "      <td>NaN</td>\n",
       "      <td>4019.000</td>\n",
       "    </tr>\n",
       "    <tr>\n",
       "      <th>75%</th>\n",
       "      <td>NaN</td>\n",
       "      <td>8305.000</td>\n",
       "    </tr>\n",
       "    <tr>\n",
       "      <th>max</th>\n",
       "      <td>NaN</td>\n",
       "      <td>41138.000</td>\n",
       "    </tr>\n",
       "  </tbody>\n",
       "</table>\n",
       "</div>"
      ],
      "text/plain": [
       "           State     Sales\n",
       "count         21    21.000\n",
       "unique        21       NaN\n",
       "top     Arizona        NaN\n",
       "freq           1       NaN\n",
       "mean         NaN  6456.238\n",
       "std          NaN  8618.300\n",
       "min          NaN   608.000\n",
       "25%          NaN  1872.000\n",
       "50%          NaN  4019.000\n",
       "75%          NaN  8305.000\n",
       "max          NaN 41138.000"
      ]
     },
     "execution_count": 229,
     "metadata": {},
     "output_type": "execute_result"
    }
   ],
   "source": [
    "us_sales.describe(include='all')"
   ]
  },
  {
   "cell_type": "code",
   "execution_count": 230,
   "id": "1b656c5a",
   "metadata": {},
   "outputs": [
    {
     "data": {
      "text/plain": [
       "<AxesSubplot:>"
      ]
     },
     "execution_count": 230,
     "metadata": {},
     "output_type": "execute_result"
    },
    {
     "data": {
      "image/png": "[encoded data removed]",
      "text/plain": [
       "<Figure size 432x288 with 1 Axes>"
      ]
     },
     "metadata": {
      "needs_background": "light"
     },
     "output_type": "display_data"
    }
   ],
   "source": [
    "us_sales.boxplot()"
   ]
  },
  {
   "cell_type": "code",
   "execution_count": 231,
   "id": "66dee31d",
   "metadata": {},
   "outputs": [
    {
     "data": {
      "text/plain": [
       "(1872.0, 8305.0, 6433.0, -7777, 17954)"
      ]
     },
     "execution_count": 231,
     "metadata": {},
     "output_type": "execute_result"
    }
   ],
   "source": [
    "Q1 = us_sales['Sales'].quantile(0.25)\n",
    "Q3 = us_sales['Sales'].quantile(0.75)\n",
    "IQR = Q3 - Q1\n",
    "L = math.ceil(Q1 - 1.5 * IQR)\n",
    "U = math.floor(Q3 + 1.5 * IQR)\n",
    "Q1, Q3, IQR, L, U"
   ]
  },
  {
   "cell_type": "code",
   "execution_count": 232,
   "id": "f3a84c23",
   "metadata": {},
   "outputs": [],
   "source": [
    "# 41,138 is higher than the upper limit. So, it is an outlier"
   ]
  },
  {
   "cell_type": "code",
   "execution_count": 233,
   "id": "85d2647b",
   "metadata": {},
   "outputs": [
    {
     "data": {
      "text/html": [
       "<div>\n",
       "<style scoped>\n",
       "    .dataframe tbody tr th:only-of-type {\n",
       "        vertical-align: middle;\n",
       "    }\n",
       "\n",
       "    .dataframe tbody tr th {\n",
       "        vertical-align: top;\n",
       "    }\n",
       "\n",
       "    .dataframe thead th {\n",
       "        text-align: right;\n",
       "    }\n",
       "</style>\n",
       "<table border=\"1\" class=\"dataframe\">\n",
       "  <thead>\n",
       "    <tr style=\"text-align: right;\">\n",
       "      <th></th>\n",
       "      <th>State</th>\n",
       "      <th>Sales</th>\n",
       "    </tr>\n",
       "  </thead>\n",
       "  <tbody>\n",
       "    <tr>\n",
       "      <th>7</th>\n",
       "      <td>Ohio</td>\n",
       "      <td>41138</td>\n",
       "    </tr>\n",
       "  </tbody>\n",
       "</table>\n",
       "</div>"
      ],
      "text/plain": [
       "  State  Sales\n",
       "7  Ohio  41138"
      ]
     },
     "execution_count": 233,
     "metadata": {},
     "output_type": "execute_result"
    }
   ],
   "source": [
    "us_sales[(us_sales['Sales'] < L) | (us_sales['Sales'] > U)]"
   ]
  },
  {
   "cell_type": "code",
   "execution_count": 236,
   "id": "e01c8740",
   "metadata": {},
   "outputs": [],
   "source": [
    "us_sales = us_sales[(us_sales['Sales'] > L) & (us_sales['Sales'] < U)]\n",
    "us_sales"
   ]
  },
  {
   "cell_type": "code",
   "execution_count": 239,
   "id": "11cf4244",
   "metadata": {},
   "outputs": [
    {
     "data": {
      "text/html": [
       "<div>\n",
       "<style scoped>\n",
       "    .dataframe tbody tr th:only-of-type {\n",
       "        vertical-align: middle;\n",
       "    }\n",
       "\n",
       "    .dataframe tbody tr th {\n",
       "        vertical-align: top;\n",
       "    }\n",
       "\n",
       "    .dataframe thead th {\n",
       "        text-align: right;\n",
       "    }\n",
       "</style>\n",
       "<table border=\"1\" class=\"dataframe\">\n",
       "  <thead>\n",
       "    <tr style=\"text-align: right;\">\n",
       "      <th></th>\n",
       "      <th>State</th>\n",
       "      <th>Sales</th>\n",
       "    </tr>\n",
       "  </thead>\n",
       "  <tbody>\n",
       "    <tr>\n",
       "      <th>count</th>\n",
       "      <td>20</td>\n",
       "      <td>20.000</td>\n",
       "    </tr>\n",
       "    <tr>\n",
       "      <th>unique</th>\n",
       "      <td>20</td>\n",
       "      <td>NaN</td>\n",
       "    </tr>\n",
       "    <tr>\n",
       "      <th>top</th>\n",
       "      <td>Arizona</td>\n",
       "      <td>NaN</td>\n",
       "    </tr>\n",
       "    <tr>\n",
       "      <th>freq</th>\n",
       "      <td>1</td>\n",
       "      <td>NaN</td>\n",
       "    </tr>\n",
       "    <tr>\n",
       "      <th>mean</th>\n",
       "      <td>NaN</td>\n",
       "      <td>4722.150</td>\n",
       "    </tr>\n",
       "    <tr>\n",
       "      <th>std</th>\n",
       "      <td>NaN</td>\n",
       "      <td>3422.343</td>\n",
       "    </tr>\n",
       "    <tr>\n",
       "      <th>min</th>\n",
       "      <td>NaN</td>\n",
       "      <td>608.000</td>\n",
       "    </tr>\n",
       "    <tr>\n",
       "      <th>25%</th>\n",
       "      <td>NaN</td>\n",
       "      <td>1866.500</td>\n",
       "    </tr>\n",
       "    <tr>\n",
       "      <th>50%</th>\n",
       "      <td>NaN</td>\n",
       "      <td>3836.000</td>\n",
       "    </tr>\n",
       "    <tr>\n",
       "      <th>75%</th>\n",
       "      <td>NaN</td>\n",
       "      <td>7684.750</td>\n",
       "    </tr>\n",
       "    <tr>\n",
       "      <th>max</th>\n",
       "      <td>NaN</td>\n",
       "      <td>11413.000</td>\n",
       "    </tr>\n",
       "  </tbody>\n",
       "</table>\n",
       "</div>"
      ],
      "text/plain": [
       "           State     Sales\n",
       "count         20    20.000\n",
       "unique        20       NaN\n",
       "top     Arizona        NaN\n",
       "freq           1       NaN\n",
       "mean         NaN  4722.150\n",
       "std          NaN  3422.343\n",
       "min          NaN   608.000\n",
       "25%          NaN  1866.500\n",
       "50%          NaN  3836.000\n",
       "75%          NaN  7684.750\n",
       "max          NaN 11413.000"
      ]
     },
     "execution_count": 239,
     "metadata": {},
     "output_type": "execute_result"
    }
   ],
   "source": [
    "us_sales.describe(include='all')"
   ]
  },
  {
   "cell_type": "code",
   "execution_count": 237,
   "id": "7f4a19a1",
   "metadata": {},
   "outputs": [
    {
     "data": {
      "text/plain": [
       "<AxesSubplot:>"
      ]
     },
     "execution_count": 237,
     "metadata": {},
     "output_type": "execute_result"
    },
    {
     "data": {
      "image/png": "[encoded data removed]",
      "text/plain": [
       "<Figure size 432x288 with 1 Axes>"
      ]
     },
     "metadata": {
      "needs_background": "light"
     },
     "output_type": "display_data"
    }
   ],
   "source": [
    "us_sales.boxplot()"
   ]
  },
  {
   "cell_type": "code",
   "execution_count": 238,
   "id": "4bed3695",
   "metadata": {},
   "outputs": [
    {
     "data": {
      "text/plain": [
       "(1866.5, 7684.75, 5818.25, -6860, 16412)"
      ]
     },
     "execution_count": 238,
     "metadata": {},
     "output_type": "execute_result"
    }
   ],
   "source": [
    "Q1 = us_sales['Sales'].quantile(0.25)\n",
    "Q3 = us_sales['Sales'].quantile(0.75)\n",
    "IQR = Q3 - Q1\n",
    "L = math.ceil(Q1 - 1.5 * IQR)\n",
    "U = math.floor(Q3 + 1.5 * IQR)\n",
    "Q1, Q3, IQR, L, U"
   ]
  },
  {
   "cell_type": "markdown",
   "id": "e3b9d3f7",
   "metadata": {},
   "source": [
    "#### 5.\tOut of 21 states provided what percentile states are above the Washington "
   ]
  },
  {
   "cell_type": "code",
   "execution_count": 240,
   "id": "661c875f",
   "metadata": {},
   "outputs": [
    {
     "data": {
      "text/html": [
       "<div>\n",
       "<style scoped>\n",
       "    .dataframe tbody tr th:only-of-type {\n",
       "        vertical-align: middle;\n",
       "    }\n",
       "\n",
       "    .dataframe tbody tr th {\n",
       "        vertical-align: top;\n",
       "    }\n",
       "\n",
       "    .dataframe thead th {\n",
       "        text-align: right;\n",
       "    }\n",
       "</style>\n",
       "<table border=\"1\" class=\"dataframe\">\n",
       "  <thead>\n",
       "    <tr style=\"text-align: right;\">\n",
       "      <th></th>\n",
       "      <th>State</th>\n",
       "      <th>Sales</th>\n",
       "    </tr>\n",
       "  </thead>\n",
       "  <tbody>\n",
       "    <tr>\n",
       "      <th>0</th>\n",
       "      <td>Arizona</td>\n",
       "      <td>8408</td>\n",
       "    </tr>\n",
       "    <tr>\n",
       "      <th>1</th>\n",
       "      <td>California</td>\n",
       "      <td>1374</td>\n",
       "    </tr>\n",
       "    <tr>\n",
       "      <th>2</th>\n",
       "      <td>Colorado</td>\n",
       "      <td>1872</td>\n",
       "    </tr>\n",
       "    <tr>\n",
       "      <th>3</th>\n",
       "      <td>Florida</td>\n",
       "      <td>8879</td>\n",
       "    </tr>\n",
       "    <tr>\n",
       "      <th>4</th>\n",
       "      <td>Georgia</td>\n",
       "      <td>2459</td>\n",
       "    </tr>\n",
       "    <tr>\n",
       "      <th>5</th>\n",
       "      <td>Kansas</td>\n",
       "      <td>11413</td>\n",
       "    </tr>\n",
       "    <tr>\n",
       "      <th>6</th>\n",
       "      <td>Kentucky</td>\n",
       "      <td>608</td>\n",
       "    </tr>\n",
       "    <tr>\n",
       "      <th>8</th>\n",
       "      <td>Maryland</td>\n",
       "      <td>6452</td>\n",
       "    </tr>\n",
       "    <tr>\n",
       "      <th>9</th>\n",
       "      <td>Massachusetts</td>\n",
       "      <td>1850</td>\n",
       "    </tr>\n",
       "    <tr>\n",
       "      <th>10</th>\n",
       "      <td>Michigan</td>\n",
       "      <td>2818</td>\n",
       "    </tr>\n",
       "    <tr>\n",
       "      <th>11</th>\n",
       "      <td>Mississippi</td>\n",
       "      <td>1356</td>\n",
       "    </tr>\n",
       "    <tr>\n",
       "      <th>12</th>\n",
       "      <td>Missouri</td>\n",
       "      <td>10498</td>\n",
       "    </tr>\n",
       "    <tr>\n",
       "      <th>13</th>\n",
       "      <td>New Jersey</td>\n",
       "      <td>7478</td>\n",
       "    </tr>\n",
       "    <tr>\n",
       "      <th>14</th>\n",
       "      <td>Louisiana</td>\n",
       "      <td>4019</td>\n",
       "    </tr>\n",
       "    <tr>\n",
       "      <th>15</th>\n",
       "      <td>Oklahoma</td>\n",
       "      <td>4341</td>\n",
       "    </tr>\n",
       "    <tr>\n",
       "      <th>16</th>\n",
       "      <td>Tennessee</td>\n",
       "      <td>739</td>\n",
       "    </tr>\n",
       "    <tr>\n",
       "      <th>17</th>\n",
       "      <td>Texas</td>\n",
       "      <td>2127</td>\n",
       "    </tr>\n",
       "    <tr>\n",
       "      <th>18</th>\n",
       "      <td>Virginia</td>\n",
       "      <td>3653</td>\n",
       "    </tr>\n",
       "    <tr>\n",
       "      <th>19</th>\n",
       "      <td>Washington</td>\n",
       "      <td>5794</td>\n",
       "    </tr>\n",
       "    <tr>\n",
       "      <th>20</th>\n",
       "      <td>West Virginia</td>\n",
       "      <td>8305</td>\n",
       "    </tr>\n",
       "  </tbody>\n",
       "</table>\n",
       "</div>"
      ],
      "text/plain": [
       "             State  Sales\n",
       "0         Arizona    8408\n",
       "1      California    1374\n",
       "2        Colorado    1872\n",
       "3         Florida    8879\n",
       "4         Georgia    2459\n",
       "5          Kansas   11413\n",
       "6        Kentucky     608\n",
       "8        Maryland    6452\n",
       "9   Massachusetts    1850\n",
       "10       Michigan    2818\n",
       "11    Mississippi    1356\n",
       "12       Missouri   10498\n",
       "13     New Jersey    7478\n",
       "14      Louisiana    4019\n",
       "15       Oklahoma    4341\n",
       "16      Tennessee     739\n",
       "17          Texas    2127\n",
       "18       Virginia    3653\n",
       "19     Washington    5794\n",
       "20  West Virginia    8305"
      ]
     },
     "execution_count": 240,
     "metadata": {},
     "output_type": "execute_result"
    }
   ],
   "source": [
    "us_sales"
   ]
  },
  {
   "cell_type": "code",
   "execution_count": 262,
   "id": "10a6c7a6",
   "metadata": {},
   "outputs": [
    {
     "name": "stderr",
     "output_type": "stream",
     "text": [
      "C:\\Users\\Meaga Varsha R\\AppData\\Local\\Temp\\ipykernel_144144\\667641032.py:1: SettingWithCopyWarning: \n",
      "A value is trying to be set on a copy of a slice from a DataFrame.\n",
      "Try using .loc[row_indexer,col_indexer] = value instead\n",
      "\n",
      "See the caveats in the documentation: https://pandas.pydata.org/pandas-docs/stable/user_guide/indexing.html#returning-a-view-versus-a-copy\n",
      "  us_sales['Percentile'] = us_sales['Sales'].rank(method='max').apply(lambda x: 100.0*(x-1)/(len(us_sales)-1))\n"
     ]
    },
    {
     "data": {
      "text/html": [
       "<div>\n",
       "<style scoped>\n",
       "    .dataframe tbody tr th:only-of-type {\n",
       "        vertical-align: middle;\n",
       "    }\n",
       "\n",
       "    .dataframe tbody tr th {\n",
       "        vertical-align: top;\n",
       "    }\n",
       "\n",
       "    .dataframe thead th {\n",
       "        text-align: right;\n",
       "    }\n",
       "</style>\n",
       "<table border=\"1\" class=\"dataframe\">\n",
       "  <thead>\n",
       "    <tr style=\"text-align: right;\">\n",
       "      <th></th>\n",
       "      <th>State</th>\n",
       "      <th>Sales</th>\n",
       "      <th>Percentile</th>\n",
       "    </tr>\n",
       "  </thead>\n",
       "  <tbody>\n",
       "    <tr>\n",
       "      <th>5</th>\n",
       "      <td>Kansas</td>\n",
       "      <td>11413</td>\n",
       "      <td>100.000</td>\n",
       "    </tr>\n",
       "    <tr>\n",
       "      <th>12</th>\n",
       "      <td>Missouri</td>\n",
       "      <td>10498</td>\n",
       "      <td>94.737</td>\n",
       "    </tr>\n",
       "    <tr>\n",
       "      <th>3</th>\n",
       "      <td>Florida</td>\n",
       "      <td>8879</td>\n",
       "      <td>89.474</td>\n",
       "    </tr>\n",
       "    <tr>\n",
       "      <th>0</th>\n",
       "      <td>Arizona</td>\n",
       "      <td>8408</td>\n",
       "      <td>84.211</td>\n",
       "    </tr>\n",
       "    <tr>\n",
       "      <th>20</th>\n",
       "      <td>West Virginia</td>\n",
       "      <td>8305</td>\n",
       "      <td>78.947</td>\n",
       "    </tr>\n",
       "    <tr>\n",
       "      <th>13</th>\n",
       "      <td>New Jersey</td>\n",
       "      <td>7478</td>\n",
       "      <td>73.684</td>\n",
       "    </tr>\n",
       "    <tr>\n",
       "      <th>8</th>\n",
       "      <td>Maryland</td>\n",
       "      <td>6452</td>\n",
       "      <td>68.421</td>\n",
       "    </tr>\n",
       "    <tr>\n",
       "      <th>19</th>\n",
       "      <td>Washington</td>\n",
       "      <td>5794</td>\n",
       "      <td>63.158</td>\n",
       "    </tr>\n",
       "    <tr>\n",
       "      <th>15</th>\n",
       "      <td>Oklahoma</td>\n",
       "      <td>4341</td>\n",
       "      <td>57.895</td>\n",
       "    </tr>\n",
       "    <tr>\n",
       "      <th>14</th>\n",
       "      <td>Louisiana</td>\n",
       "      <td>4019</td>\n",
       "      <td>52.632</td>\n",
       "    </tr>\n",
       "    <tr>\n",
       "      <th>18</th>\n",
       "      <td>Virginia</td>\n",
       "      <td>3653</td>\n",
       "      <td>47.368</td>\n",
       "    </tr>\n",
       "    <tr>\n",
       "      <th>10</th>\n",
       "      <td>Michigan</td>\n",
       "      <td>2818</td>\n",
       "      <td>42.105</td>\n",
       "    </tr>\n",
       "    <tr>\n",
       "      <th>4</th>\n",
       "      <td>Georgia</td>\n",
       "      <td>2459</td>\n",
       "      <td>36.842</td>\n",
       "    </tr>\n",
       "    <tr>\n",
       "      <th>17</th>\n",
       "      <td>Texas</td>\n",
       "      <td>2127</td>\n",
       "      <td>31.579</td>\n",
       "    </tr>\n",
       "    <tr>\n",
       "      <th>2</th>\n",
       "      <td>Colorado</td>\n",
       "      <td>1872</td>\n",
       "      <td>26.316</td>\n",
       "    </tr>\n",
       "    <tr>\n",
       "      <th>9</th>\n",
       "      <td>Massachusetts</td>\n",
       "      <td>1850</td>\n",
       "      <td>21.053</td>\n",
       "    </tr>\n",
       "    <tr>\n",
       "      <th>1</th>\n",
       "      <td>California</td>\n",
       "      <td>1374</td>\n",
       "      <td>15.789</td>\n",
       "    </tr>\n",
       "    <tr>\n",
       "      <th>11</th>\n",
       "      <td>Mississippi</td>\n",
       "      <td>1356</td>\n",
       "      <td>10.526</td>\n",
       "    </tr>\n",
       "    <tr>\n",
       "      <th>16</th>\n",
       "      <td>Tennessee</td>\n",
       "      <td>739</td>\n",
       "      <td>5.263</td>\n",
       "    </tr>\n",
       "    <tr>\n",
       "      <th>6</th>\n",
       "      <td>Kentucky</td>\n",
       "      <td>608</td>\n",
       "      <td>0.000</td>\n",
       "    </tr>\n",
       "  </tbody>\n",
       "</table>\n",
       "</div>"
      ],
      "text/plain": [
       "             State  Sales  Percentile\n",
       "5          Kansas   11413     100.000\n",
       "12       Missouri   10498      94.737\n",
       "3         Florida    8879      89.474\n",
       "0         Arizona    8408      84.211\n",
       "20  West Virginia    8305      78.947\n",
       "13     New Jersey    7478      73.684\n",
       "8        Maryland    6452      68.421\n",
       "19     Washington    5794      63.158\n",
       "15       Oklahoma    4341      57.895\n",
       "14      Louisiana    4019      52.632\n",
       "18       Virginia    3653      47.368\n",
       "10       Michigan    2818      42.105\n",
       "4         Georgia    2459      36.842\n",
       "17          Texas    2127      31.579\n",
       "2        Colorado    1872      26.316\n",
       "9   Massachusetts    1850      21.053\n",
       "1      California    1374      15.789\n",
       "11    Mississippi    1356      10.526\n",
       "16      Tennessee     739       5.263\n",
       "6        Kentucky     608       0.000"
      ]
     },
     "execution_count": 262,
     "metadata": {},
     "output_type": "execute_result"
    }
   ],
   "source": [
    "us_sales['Percentile'] = us_sales['Sales'].rank(method='max').apply(lambda x: 100.0*(x-1)/(len(us_sales)-1))\n",
    "us_sales.sort_values(by='Percentile', ascending=False)"
   ]
  },
  {
   "cell_type": "markdown",
   "id": "729945e0",
   "metadata": {},
   "source": [
    "#### 6.\tWhat is the 85th percentile ?"
   ]
  },
  {
   "cell_type": "code",
   "execution_count": 249,
   "id": "0040de78",
   "metadata": {},
   "outputs": [
    {
     "data": {
      "text/plain": [
       "8478.65"
      ]
     },
     "execution_count": 249,
     "metadata": {},
     "output_type": "execute_result"
    }
   ],
   "source": [
    "us_sales['Sales'].quantile(0.85)"
   ]
  },
  {
   "cell_type": "markdown",
   "id": "5341206e",
   "metadata": {},
   "source": [
    "### 4.\tIn an IPL auction a team wants to buy a foreign player who is an all-rounder to balance their side. The team has the budget to spend on only one player and they are looking for a player who could help them in their batting department. The franchise now has the data with the runs scored by player A and player B in their last 20 matches and are confused on their selection\n",
    "####\tCan you help them with your analysis? You know what needs to be done \n"
   ]
  },
  {
   "cell_type": "code",
   "execution_count": 263,
   "id": "f70c5326",
   "metadata": {},
   "outputs": [
    {
     "data": {
      "text/html": [
       "<div>\n",
       "<style scoped>\n",
       "    .dataframe tbody tr th:only-of-type {\n",
       "        vertical-align: middle;\n",
       "    }\n",
       "\n",
       "    .dataframe tbody tr th {\n",
       "        vertical-align: top;\n",
       "    }\n",
       "\n",
       "    .dataframe thead th {\n",
       "        text-align: right;\n",
       "    }\n",
       "</style>\n",
       "<table border=\"1\" class=\"dataframe\">\n",
       "  <thead>\n",
       "    <tr style=\"text-align: right;\">\n",
       "      <th></th>\n",
       "      <th>Player A</th>\n",
       "      <th>Player B</th>\n",
       "    </tr>\n",
       "  </thead>\n",
       "  <tbody>\n",
       "    <tr>\n",
       "      <th>0</th>\n",
       "      <td>25</td>\n",
       "      <td>0</td>\n",
       "    </tr>\n",
       "    <tr>\n",
       "      <th>1</th>\n",
       "      <td>40</td>\n",
       "      <td>25</td>\n",
       "    </tr>\n",
       "    <tr>\n",
       "      <th>2</th>\n",
       "      <td>38</td>\n",
       "      <td>22</td>\n",
       "    </tr>\n",
       "    <tr>\n",
       "      <th>3</th>\n",
       "      <td>48</td>\n",
       "      <td>38</td>\n",
       "    </tr>\n",
       "    <tr>\n",
       "      <th>4</th>\n",
       "      <td>51</td>\n",
       "      <td>25</td>\n",
       "    </tr>\n",
       "    <tr>\n",
       "      <th>5</th>\n",
       "      <td>35</td>\n",
       "      <td>45</td>\n",
       "    </tr>\n",
       "    <tr>\n",
       "      <th>6</th>\n",
       "      <td>100</td>\n",
       "      <td>51</td>\n",
       "    </tr>\n",
       "    <tr>\n",
       "      <th>7</th>\n",
       "      <td>25</td>\n",
       "      <td>60</td>\n",
       "    </tr>\n",
       "    <tr>\n",
       "      <th>8</th>\n",
       "      <td>15</td>\n",
       "      <td>62</td>\n",
       "    </tr>\n",
       "    <tr>\n",
       "      <th>9</th>\n",
       "      <td>20</td>\n",
       "      <td>93</td>\n",
       "    </tr>\n",
       "    <tr>\n",
       "      <th>10</th>\n",
       "      <td>21</td>\n",
       "      <td>68</td>\n",
       "    </tr>\n",
       "    <tr>\n",
       "      <th>11</th>\n",
       "      <td>25</td>\n",
       "      <td>63</td>\n",
       "    </tr>\n",
       "    <tr>\n",
       "      <th>12</th>\n",
       "      <td>35</td>\n",
       "      <td>42</td>\n",
       "    </tr>\n",
       "    <tr>\n",
       "      <th>13</th>\n",
       "      <td>40</td>\n",
       "      <td>9</td>\n",
       "    </tr>\n",
       "    <tr>\n",
       "      <th>14</th>\n",
       "      <td>7</td>\n",
       "      <td>3</td>\n",
       "    </tr>\n",
       "    <tr>\n",
       "      <th>15</th>\n",
       "      <td>12</td>\n",
       "      <td>5</td>\n",
       "    </tr>\n",
       "    <tr>\n",
       "      <th>16</th>\n",
       "      <td>25</td>\n",
       "      <td>20</td>\n",
       "    </tr>\n",
       "    <tr>\n",
       "      <th>17</th>\n",
       "      <td>40</td>\n",
       "      <td>14</td>\n",
       "    </tr>\n",
       "    <tr>\n",
       "      <th>18</th>\n",
       "      <td>42</td>\n",
       "      <td>18</td>\n",
       "    </tr>\n",
       "    <tr>\n",
       "      <th>19</th>\n",
       "      <td>56</td>\n",
       "      <td>37</td>\n",
       "    </tr>\n",
       "  </tbody>\n",
       "</table>\n",
       "</div>"
      ],
      "text/plain": [
       "    Player A  Player B\n",
       "0         25         0\n",
       "1         40        25\n",
       "2         38        22\n",
       "3         48        38\n",
       "4         51        25\n",
       "5         35        45\n",
       "6        100        51\n",
       "7         25        60\n",
       "8         15        62\n",
       "9         20        93\n",
       "10        21        68\n",
       "11        25        63\n",
       "12        35        42\n",
       "13        40         9\n",
       "14         7         3\n",
       "15        12         5\n",
       "16        25        20\n",
       "17        40        14\n",
       "18        42        18\n",
       "19        56        37"
      ]
     },
     "execution_count": 263,
     "metadata": {},
     "output_type": "execute_result"
    }
   ],
   "source": [
    "player_df = pd.read_excel(\"Descrip_Stats_problem_data_v1.xlsx\", sheet_name='Problem4')\n",
    "player_df"
   ]
  },
  {
   "cell_type": "code",
   "execution_count": null,
   "id": "db747479",
   "metadata": {},
   "outputs": [],
   "source": [
    "# Higher Coefficient of Variation, Higher will be the risk"
   ]
  },
  {
   "cell_type": "code",
   "execution_count": 264,
   "id": "c29b94a3",
   "metadata": {},
   "outputs": [],
   "source": [
    "def coeff_variation(x):\n",
    "    return x.std() / x.mean() * 100"
   ]
  },
  {
   "cell_type": "code",
   "execution_count": 267,
   "id": "f2f4dd34",
   "metadata": {},
   "outputs": [
    {
     "name": "stdout",
     "output_type": "stream",
     "text": [
      "Player A\n"
     ]
    }
   ],
   "source": [
    "print(coeff_variation(player_df['Player A']))\n",
    "print(coeff_variation(player_df['Player B']))\n",
    "if coeff_variation(player_df['Player A']) > coeff_variation(player_df['Player B']):\n",
    "    print(\"Player B\")\n",
    "else:\n",
    "    print(\"Player A\")"
   ]
  },
  {
   "cell_type": "code",
   "execution_count": 305,
   "id": "5a823a3d",
   "metadata": {},
   "outputs": [
    {
     "data": {
      "text/html": [
       "<div>\n",
       "<style scoped>\n",
       "    .dataframe tbody tr th:only-of-type {\n",
       "        vertical-align: middle;\n",
       "    }\n",
       "\n",
       "    .dataframe tbody tr th {\n",
       "        vertical-align: top;\n",
       "    }\n",
       "\n",
       "    .dataframe thead th {\n",
       "        text-align: right;\n",
       "    }\n",
       "</style>\n",
       "<table border=\"1\" class=\"dataframe\">\n",
       "  <thead>\n",
       "    <tr style=\"text-align: right;\">\n",
       "      <th></th>\n",
       "      <th>MeanA</th>\n",
       "      <th>MeanB</th>\n",
       "    </tr>\n",
       "  </thead>\n",
       "  <tbody>\n",
       "    <tr>\n",
       "      <th>0</th>\n",
       "      <td>31.429</td>\n",
       "      <td>44.857</td>\n",
       "    </tr>\n",
       "    <tr>\n",
       "      <th>1</th>\n",
       "      <td>42.857</td>\n",
       "      <td>37.143</td>\n",
       "    </tr>\n",
       "    <tr>\n",
       "      <th>2</th>\n",
       "      <td>31.714</td>\n",
       "      <td>21.857</td>\n",
       "    </tr>\n",
       "    <tr>\n",
       "      <th>3</th>\n",
       "      <td>33.714</td>\n",
       "      <td>27.429</td>\n",
       "    </tr>\n",
       "    <tr>\n",
       "      <th>4</th>\n",
       "      <td>41.429</td>\n",
       "      <td>42.714</td>\n",
       "    </tr>\n",
       "    <tr>\n",
       "      <th>5</th>\n",
       "      <td>34.714</td>\n",
       "      <td>38.143</td>\n",
       "    </tr>\n",
       "    <tr>\n",
       "      <th>6</th>\n",
       "      <td>28.000</td>\n",
       "      <td>21.000</td>\n",
       "    </tr>\n",
       "    <tr>\n",
       "      <th>7</th>\n",
       "      <td>32.857</td>\n",
       "      <td>38.143</td>\n",
       "    </tr>\n",
       "    <tr>\n",
       "      <th>8</th>\n",
       "      <td>35.143</td>\n",
       "      <td>25.286</td>\n",
       "    </tr>\n",
       "    <tr>\n",
       "      <th>9</th>\n",
       "      <td>33.857</td>\n",
       "      <td>29.571</td>\n",
       "    </tr>\n",
       "  </tbody>\n",
       "</table>\n",
       "</div>"
      ],
      "text/plain": [
       "   MeanA  MeanB\n",
       "0 31.429 44.857\n",
       "1 42.857 37.143\n",
       "2 31.714 21.857\n",
       "3 33.714 27.429\n",
       "4 41.429 42.714\n",
       "5 34.714 38.143\n",
       "6 28.000 21.000\n",
       "7 32.857 38.143\n",
       "8 35.143 25.286\n",
       "9 33.857 29.571"
      ]
     },
     "execution_count": 305,
     "metadata": {},
     "output_type": "execute_result"
    }
   ],
   "source": [
    "samples_analysis = []\n",
    "for _ in range(10):\n",
    "    sample={}\n",
    "    sample_df = player_df.sample(n=7)\n",
    "    sample['MeanA']=sample_df['Player A'].mean()\n",
    "    sample['MeanB']=sample_df['Player B'].mean()\n",
    "#     print(sample)\n",
    "    samples_analysis.append(sample)\n",
    "samples_analysis_df = pd.DataFrame(samples_analysis)\n",
    "samples_analysis_df"
   ]
  },
  {
   "cell_type": "code",
   "execution_count": 306,
   "id": "30e49ccc",
   "metadata": {},
   "outputs": [
    {
     "name": "stdout",
     "output_type": "stream",
     "text": [
      "Population Mean\n",
      "Player A :  35.0\n",
      "Player B :  35.0\n",
      "Sample Mean\n",
      "Player A :  34.57142857142857\n",
      "Player B :  32.614285714285714\n",
      "\n",
      "Population Std\n",
      "Player A :  20.206825319027338\n",
      "Player B :  25.296140749966295\n",
      "Sample Std\n",
      "Player A :  4.489847453837397\n",
      "Player B :  8.653849758706151\n"
     ]
    }
   ],
   "source": [
    "print(\"Population Mean\")\n",
    "print(\"Player A : \", player_df['Player A'].mean())\n",
    "print(\"Player B : \", player_df['Player B'].mean())\n",
    "print(\"Sample Mean\")\n",
    "print(\"Player A : \", samples_analysis_df['MeanA'].mean())\n",
    "print(\"Player B : \", samples_analysis_df['MeanB'].mean())\n",
    "print(\"\\nPopulation Std\")\n",
    "print(\"Player A : \", player_df['Player A'].std())\n",
    "print(\"Player B : \", player_df['Player B'].std())\n",
    "print(\"Sample Std\")\n",
    "print(\"Player A : \", samples_analysis_df['MeanA'].std())\n",
    "print(\"Player B : \", samples_analysis_df['MeanB'].std())"
   ]
  },
  {
   "cell_type": "code",
   "execution_count": 314,
   "id": "912e64ae",
   "metadata": {},
   "outputs": [
    {
     "data": {
      "text/plain": [
       "32.77777777777778"
      ]
     },
     "execution_count": 314,
     "metadata": {},
     "output_type": "execute_result"
    }
   ],
   "source": [
    "a=[15,5,20,45,85,65,30,10,20]\n",
    "sum(a)/len(a)"
   ]
  },
  {
   "cell_type": "code",
   "execution_count": null,
   "id": "cd2a2313",
   "metadata": {},
   "outputs": [],
   "source": []
  }
 ],
 "metadata": {
  "kernelspec": {
   "display_name": "Python 3 (ipykernel)",
   "language": "python",
   "name": "python3"
  },
  "language_info": {
   "codemirror_mode": {
    "name": "ipython",
    "version": 3
   },
   "file_extension": ".py",
   "mimetype": "text/x-python",
   "name": "python",
   "nbconvert_exporter": "python",
   "pygments_lexer": "ipython3",
   "version": "3.9.12"
  }
 },
 "nbformat": 4,
 "nbformat_minor": 5
}
